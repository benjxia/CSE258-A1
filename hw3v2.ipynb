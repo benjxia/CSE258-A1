{
 "cells": [
  {
   "cell_type": "code",
   "execution_count": 35,
   "id": "0f55c023",
   "metadata": {},
   "outputs": [],
   "source": [
    "import gzip\n",
    "from collections import defaultdict\n",
    "import math\n",
    "import scipy.optimize\n",
    "from sklearn import svm\n",
    "import numpy as np\n",
    "import string\n",
    "import random\n",
    "import string\n",
    "from sklearn import linear_model\n",
    "from tqdm import tqdm"
   ]
  },
  {
   "cell_type": "code",
   "execution_count": 36,
   "id": "005c1a02-c5bf-4241-8d00-dc260d36f08f",
   "metadata": {},
   "outputs": [],
   "source": [
    "def assertFloat(x):\n",
    "    assert type(float(x)) == float\n",
    "\n",
    "def assertFloatList(items, N):\n",
    "    assert len(items) == N\n",
    "    assert [type(float(x)) for x in items] == [float]*N"
   ]
  },
  {
   "cell_type": "code",
   "execution_count": 37,
   "id": "cb2abe72",
   "metadata": {},
   "outputs": [],
   "source": [
    "def readGz(path):\n",
    "    for l in gzip.open(path, 'rt'):\n",
    "        yield eval(l)"
   ]
  },
  {
   "cell_type": "code",
   "execution_count": 38,
   "id": "e54fa48f",
   "metadata": {},
   "outputs": [],
   "source": [
    "def readJSON(path):\n",
    "    f = gzip.open(path, 'rt', encoding='utf8')\n",
    "    f.readline()\n",
    "    for l in f:\n",
    "        d = eval(l)\n",
    "        u = d['userID']\n",
    "        g = d['gameID']\n",
    "        yield u,g,d"
   ]
  },
  {
   "cell_type": "code",
   "execution_count": 39,
   "id": "c215087c",
   "metadata": {},
   "outputs": [],
   "source": [
    "answers = {}"
   ]
  },
  {
   "cell_type": "code",
   "execution_count": 40,
   "id": "27aec54d",
   "metadata": {},
   "outputs": [],
   "source": [
    "# Some data structures that will be useful"
   ]
  },
  {
   "cell_type": "code",
   "execution_count": 41,
   "id": "e72d24da",
   "metadata": {},
   "outputs": [],
   "source": [
    "allHours = []\n",
    "for l in readJSON(\"train.json.gz\"):\n",
    "    allHours.append(l)"
   ]
  },
  {
   "cell_type": "code",
   "execution_count": 42,
   "id": "462bd9bd-b657-4571-8fef-eee11d852099",
   "metadata": {},
   "outputs": [],
   "source": [
    "hoursTrain = allHours[:165000]\n",
    "hoursValid = allHours[165000:]"
   ]
  },
  {
   "cell_type": "code",
   "execution_count": 43,
   "id": "c58fd9e5-0ba6-4fef-83c1-315503d75348",
   "metadata": {},
   "outputs": [],
   "source": [
    "##################################################\n",
    "# Play prediction                                #\n",
    "##################################################"
   ]
  },
  {
   "cell_type": "code",
   "execution_count": 44,
   "id": "4e06cc33-bc60-4b45-be63-8033c17d9fe6",
   "metadata": {},
   "outputs": [],
   "source": [
    "# Any other preprocessing...\n",
    "itemset = set()\n",
    "userset = set()\n",
    "user_stoi = dict()\n",
    "user_itos = []\n",
    "item_stoi = dict()\n",
    "item_itos = []\n",
    "for user, item, review in allHours:\n",
    "    itemset.add(item)\n",
    "    userset.add(item)\n",
    "    if user not in user_stoi:\n",
    "        user_stoi[user] = len(user_itos)\n",
    "        user_itos.append(user)\n",
    "    if item not in item_stoi:\n",
    "        item_stoi[item] = len(item_itos)\n",
    "        item_itos.append(item)\n",
    "\n",
    "\n",
    "U = defaultdict(set)\n",
    "I = defaultdict(set)\n",
    "validPairs_part_1 = []\n",
    "for review in hoursTrain:\n",
    "    user = review[0]\n",
    "    item = review[1]\n",
    "    U[item].add(user)\n",
    "    I[user].add(item)\n",
    "\n",
    "I_arr = np.array([len(I[user_itos[u]]) for u in range(len(I))])\n",
    "U_arr = np.array([len(U[item_itos[i]]) for i in range(len(U))])\n",
    "\n",
    "validPairs_part_1 = [[user_stoi[user], item_stoi[item]] for user, item, review_body in hoursValid]\n",
    "validLabels_part_1 = np.array([1] * len(hoursValid) + [0] * len(hoursValid))\n",
    "\n",
    "validPairs_part_2 = validPairs_part_1.copy()\n",
    "validPairs_part_2 = np.array(validPairs_part_2)\n",
    "validLabels_part_2 = np.array([review['hours_transformed'] for user, item, review in hoursValid])\n",
    "\n",
    "# Construct a new validation set w/ negative pairs\n",
    "for user, item, review in hoursValid:\n",
    "    sample = random.sample(itemset.difference(I[user]), 1)[0]\n",
    "    validPairs_part_1.append([user_stoi[user], item_stoi[sample]])\n",
    "\n",
    "validPairs_part_1 = np.array(validPairs_part_1)"
   ]
  },
  {
   "cell_type": "code",
   "execution_count": 45,
   "id": "16301721",
   "metadata": {},
   "outputs": [],
   "source": [
    "# Baseline played\n",
    "\n",
    "def make_baseline_set(thresh: float):\n",
    "    gameCount = defaultdict(int)\n",
    "    totalPlayed = 0\n",
    "\n",
    "    for user,game,_ in readJSON(\"train.json.gz\"):\n",
    "        gameCount[game] += 1\n",
    "        totalPlayed += 1\n",
    "\n",
    "    mostPopular = [(gameCount[x], x) for x in gameCount]\n",
    "    mostPopular.sort()\n",
    "    mostPopular.reverse()\n",
    "\n",
    "    top_thresh_percentile = set()\n",
    "    count = 0\n",
    "    for ic, i in mostPopular:\n",
    "        count += ic\n",
    "        top_thresh_percentile.add(i)\n",
    "        if count > thresh * totalPlayed: break\n",
    "\n",
    "    return top_thresh_percentile"
   ]
  },
  {
   "cell_type": "code",
   "execution_count": 46,
   "id": "12f46fd0-3abb-4f46-8a8b-9cf37efa99ee",
   "metadata": {},
   "outputs": [],
   "source": [
    "### Question 1"
   ]
  },
  {
   "cell_type": "code",
   "execution_count": 47,
   "id": "7aa30a66-0dcd-4f1f-beb0-a6ba473c9070",
   "metadata": {},
   "outputs": [],
   "source": [
    "# Evaluate baseline strategy\n",
    "return1 = make_baseline_set(0.5)\n",
    "def baseline_predict(user: int, item: int, top_percentile: set):\n",
    "    if item_itos[item] in top_percentile:\n",
    "        return 1\n",
    "    else:\n",
    "        return 0\n",
    "\n",
    "preds = np.zeros(len(validLabels_part_1))\n",
    "for i, (user, item) in enumerate(validPairs_part_1):\n",
    "    preds[i] = baseline_predict(user, item, return1)\n"
   ]
  },
  {
   "cell_type": "code",
   "execution_count": 48,
   "id": "17cb78c4-5841-46a9-af75-cc347d4f39c0",
   "metadata": {},
   "outputs": [
    {
     "data": {
      "text/plain": [
       "0.6832183218321832"
      ]
     },
     "execution_count": 48,
     "metadata": {},
     "output_type": "execute_result"
    }
   ],
   "source": [
    "answers['Q1'] = np.sum(preds == validLabels_part_1) / len(preds)\n",
    "answers['Q1']"
   ]
  },
  {
   "cell_type": "code",
   "execution_count": 49,
   "id": "158deaa6-d294-4873-b10f-85f883d833d8",
   "metadata": {},
   "outputs": [],
   "source": [
    "assertFloat(answers['Q1'])"
   ]
  },
  {
   "cell_type": "code",
   "execution_count": 50,
   "id": "f843a2a7-57e5-4947-a513-ba8fa35f8cb6",
   "metadata": {},
   "outputs": [],
   "source": [
    "### Question 2"
   ]
  },
  {
   "cell_type": "code",
   "execution_count": 51,
   "id": "47c2b474-700f-4d37-be1b-3a704ad2968b",
   "metadata": {},
   "outputs": [],
   "source": [
    "# Improved strategy\n",
    "return2 = make_baseline_set(0.7)\n",
    "preds = np.zeros(len(validLabels_part_1))\n",
    "for i, (user, item) in enumerate(validPairs_part_1):\n",
    "    preds[i] = baseline_predict(user, item, return2)"
   ]
  },
  {
   "cell_type": "code",
   "execution_count": 52,
   "id": "06a69839-1423-4160-80dc-451eccf6b82f",
   "metadata": {},
   "outputs": [
    {
     "data": {
      "text/plain": [
       "[0.6999699969997, 0.7]"
      ]
     },
     "execution_count": 52,
     "metadata": {},
     "output_type": "execute_result"
    }
   ],
   "source": [
    "answers['Q2'] = [np.sum(preds == validLabels_part_1) / len(preds), 0.7]\n",
    "answers['Q2']"
   ]
  },
  {
   "cell_type": "code",
   "execution_count": 53,
   "id": "44ddabf1-bf18-428d-91b2-82702133cfb1",
   "metadata": {},
   "outputs": [],
   "source": [
    "assertFloatList(answers['Q2'], 2)"
   ]
  },
  {
   "cell_type": "code",
   "execution_count": 54,
   "id": "8c5c5e95-1c35-4f00-9fac-5a1d3bec338b",
   "metadata": {},
   "outputs": [],
   "source": [
    "### Question 3/4"
   ]
  },
  {
   "cell_type": "code",
   "execution_count": 55,
   "id": "0e7cca75-8730-459c-ad27-d827d65856e2",
   "metadata": {},
   "outputs": [],
   "source": [
    "def jaccard_baseline_predict(user: int, item: int, thresh: float):\n",
    "    jaccard = lambda a, b: len(a.intersection(b)) / len(a.union(b))\n",
    "    jaccard_max = 0\n",
    "    for i in I[user_itos[user]]:\n",
    "        jaccard_max = max(jaccard_max, jaccard(U[item_itos[item]], U[i]))\n",
    "    if jaccard_max > thresh:\n",
    "        return 1\n",
    "    else:\n",
    "        return 0\n",
    "\n",
    "def jaccard_popularity_baseline(user: int, item: int, thresh: float, top_percentile: set):\n",
    "    jaccard = lambda a, b: len(a.intersection(b)) / len(a.union(b))\n",
    "    jaccard_max = 0\n",
    "    for i in I[user_itos[user]]:\n",
    "        jaccard_max = max(jaccard_max, jaccard(U[item_itos[item]], U[i]))\n",
    "    if jaccard_max > thresh and item_itos[item] in top_percentile:\n",
    "        return 1\n",
    "    else:\n",
    "        return 0"
   ]
  },
  {
   "cell_type": "code",
   "execution_count": 56,
   "id": "5b9bdd76",
   "metadata": {},
   "outputs": [],
   "source": [
    "preds = np.zeros(len(validLabels_part_1))\n",
    "for i, (user, item) in enumerate(validPairs_part_1):\n",
    "    preds[i] = jaccard_baseline_predict(user, item, 0.03)\n",
    "q3_acc = np.sum(preds == validLabels_part_1) / len(preds)"
   ]
  },
  {
   "cell_type": "code",
   "execution_count": 57,
   "id": "7b00bc53",
   "metadata": {},
   "outputs": [],
   "source": [
    "preds = np.zeros(len(validLabels_part_1))\n",
    "return3 = make_baseline_set(0.7)\n",
    "for i, (user, item) in enumerate(validPairs_part_1):\n",
    "    preds[i] = jaccard_popularity_baseline(user, item, 0.03, return3)\n",
    "q4_acc = np.sum(preds == validLabels_part_1) / len(preds)"
   ]
  },
  {
   "cell_type": "code",
   "execution_count": 58,
   "id": "de81642e",
   "metadata": {},
   "outputs": [
    {
     "name": "stdout",
     "output_type": "stream",
     "text": [
      "0.6776677667766776\n",
      "0.6967696769676968\n"
     ]
    }
   ],
   "source": [
    "print(q3_acc)\n",
    "print(q4_acc)"
   ]
  },
  {
   "cell_type": "code",
   "execution_count": 59,
   "id": "6180d5a7-fcaa-4208-9e2e-0babf0ab854d",
   "metadata": {},
   "outputs": [],
   "source": [
    "answers['Q3'] = q3_acc\n",
    "answers['Q4'] = q4_acc"
   ]
  },
  {
   "cell_type": "code",
   "execution_count": 60,
   "id": "6ac29b20-93d8-467e-9343-7363ae7c8071",
   "metadata": {},
   "outputs": [],
   "source": [
    "assertFloat(answers['Q3'])\n",
    "assertFloat(answers['Q4'])"
   ]
  },
  {
   "cell_type": "code",
   "execution_count": 61,
   "id": "75f81286-487d-494a-8ee8-a42c1aca6eb7",
   "metadata": {},
   "outputs": [],
   "source": [
    "predictions = open(\"HWpredictions_Played.csv\", 'w')\n",
    "for l in open(\"./pairs_Played.csv\"):\n",
    "    if l.startswith(\"userID\"):\n",
    "        predictions.write(l)\n",
    "        continue\n",
    "    user, item = l.strip().split(',')\n",
    "    # Logic...\n",
    "    if user in user_stoi:\n",
    "        pred = str(jaccard_popularity_baseline(user_stoi[user], item_stoi[item], 0.03, return3))\n",
    "    else:\n",
    "        pred = '0'\n",
    "    _ = predictions.write(user + ',' + item + ',' + pred  + '\\n')\n",
    "\n",
    "predictions.close()"
   ]
  },
  {
   "cell_type": "code",
   "execution_count": 62,
   "id": "dbfd2cbf-b515-4f70-b613-e1248c5d6020",
   "metadata": {},
   "outputs": [],
   "source": [
    "answers['Q5'] = \"I confirm that I have uploaded an assignment submission to gradescope\""
   ]
  },
  {
   "cell_type": "code",
   "execution_count": 63,
   "id": "c82a7a00",
   "metadata": {},
   "outputs": [],
   "source": [
    "##################################################\n",
    "# Hours played prediction                        #\n",
    "##################################################"
   ]
  },
  {
   "cell_type": "code",
   "execution_count": 64,
   "id": "772dd561-ceae-4c2e-9347-7ba3eb2dd650",
   "metadata": {},
   "outputs": [],
   "source": [
    "trainHours = [r[2]['hours_transformed'] for r in hoursTrain]\n",
    "globalAverage = sum(trainHours) * 1.0 / len(trainHours)"
   ]
  },
  {
   "cell_type": "code",
   "execution_count": 65,
   "id": "4b95a9e5-b36f-4883-befb-6dedfd833dcb",
   "metadata": {},
   "outputs": [],
   "source": [
    "### Question 6"
   ]
  },
  {
   "cell_type": "code",
   "execution_count": 66,
   "id": "d522b3b8",
   "metadata": {},
   "outputs": [],
   "source": [
    "trainPairs = [[user_stoi[user], item_stoi[item]] for user, item, review in hoursTrain]\n",
    "trainPairs = np.array(trainPairs)"
   ]
  },
  {
   "cell_type": "code",
   "execution_count": 74,
   "id": "ced4bf80-22e7-44eb-9efe-e2ec42f893bb",
   "metadata": {},
   "outputs": [
    {
     "name": "stdout",
     "output_type": "stream",
     "text": [
      "3.716088074007024\n"
     ]
    },
    {
     "name": "stderr",
     "output_type": "stream",
     "text": [
      "  0%|          | 1/300 [00:03<19:35,  3.93s/it]"
     ]
    },
    {
     "name": "stdout",
     "output_type": "stream",
     "text": [
      "3.1347934454377326\n"
     ]
    },
    {
     "name": "stderr",
     "output_type": "stream",
     "text": [
      " 34%|███▎      | 101/300 [04:14<05:47,  1.75s/it]"
     ]
    },
    {
     "name": "stdout",
     "output_type": "stream",
     "text": [
      "2.9906297574462624\n"
     ]
    },
    {
     "name": "stderr",
     "output_type": "stream",
     "text": [
      " 67%|██████▋   | 201/300 [08:17<04:23,  2.66s/it]"
     ]
    },
    {
     "name": "stdout",
     "output_type": "stream",
     "text": [
      "2.990628067045836\n"
     ]
    },
    {
     "name": "stderr",
     "output_type": "stream",
     "text": [
      " 68%|██████▊   | 205/300 [08:28<03:55,  2.48s/it]\n"
     ]
    },
    {
     "ename": "KeyboardInterrupt",
     "evalue": "",
     "output_type": "error",
     "traceback": [
      "\u001b[0;31m---------------------------------------------------------------------------\u001b[0m",
      "\u001b[0;31mKeyboardInterrupt\u001b[0m                         Traceback (most recent call last)",
      "\u001b[1;32m/home/benjx/cs_wsl/school/y3/cse258/CSE258-A1/hw3v2.ipynb Cell 33\u001b[0m line \u001b[0;36m4\n\u001b[1;32m     <a href='vscode-notebook-cell://wsl%2Bubuntu/home/benjx/cs_wsl/school/y3/cse258/CSE258-A1/hw3v2.ipynb#X44sdnNjb2RlLXJlbW90ZQ%3D%3D?line=38'>39</a>\u001b[0m \u001b[39mprint\u001b[39m(alpha)\n\u001b[1;32m     <a href='vscode-notebook-cell://wsl%2Bubuntu/home/benjx/cs_wsl/school/y3/cse258/CSE258-A1/hw3v2.ipynb#X44sdnNjb2RlLXJlbW90ZQ%3D%3D?line=39'>40</a>\u001b[0m \u001b[39mfor\u001b[39;00m i \u001b[39min\u001b[39;00m tqdm(\u001b[39mrange\u001b[39m(\u001b[39m300\u001b[39m)):\n\u001b[0;32m---> <a href='vscode-notebook-cell://wsl%2Bubuntu/home/benjx/cs_wsl/school/y3/cse258/CSE258-A1/hw3v2.ipynb#X44sdnNjb2RlLXJlbW90ZQ%3D%3D?line=40'>41</a>\u001b[0m     closed_form(\u001b[39m5\u001b[39;49m)\n\u001b[1;32m     <a href='vscode-notebook-cell://wsl%2Bubuntu/home/benjx/cs_wsl/school/y3/cse258/CSE258-A1/hw3v2.ipynb#X44sdnNjb2RlLXJlbW90ZQ%3D%3D?line=41'>42</a>\u001b[0m     \u001b[39mif\u001b[39;00m i \u001b[39m%\u001b[39m \u001b[39m100\u001b[39m \u001b[39m==\u001b[39m \u001b[39m0\u001b[39m:\n\u001b[1;32m     <a href='vscode-notebook-cell://wsl%2Bubuntu/home/benjx/cs_wsl/school/y3/cse258/CSE258-A1/hw3v2.ipynb#X44sdnNjb2RlLXJlbW90ZQ%3D%3D?line=42'>43</a>\u001b[0m         validMSE \u001b[39m=\u001b[39m \u001b[39m0\u001b[39m\n",
      "\u001b[1;32m/home/benjx/cs_wsl/school/y3/cse258/CSE258-A1/hw3v2.ipynb Cell 33\u001b[0m line \u001b[0;36m3\n\u001b[1;32m     <a href='vscode-notebook-cell://wsl%2Bubuntu/home/benjx/cs_wsl/school/y3/cse258/CSE258-A1/hw3v2.ipynb#X44sdnNjb2RlLXJlbW90ZQ%3D%3D?line=26'>27</a>\u001b[0m new_alpha \u001b[39m=\u001b[39m \u001b[39m0\u001b[39m\n\u001b[1;32m     <a href='vscode-notebook-cell://wsl%2Bubuntu/home/benjx/cs_wsl/school/y3/cse258/CSE258-A1/hw3v2.ipynb#X44sdnNjb2RlLXJlbW90ZQ%3D%3D?line=28'>29</a>\u001b[0m \u001b[39mfor\u001b[39;00m i, (user, item) \u001b[39min\u001b[39;00m \u001b[39menumerate\u001b[39m(trainPairs):\n\u001b[0;32m---> <a href='vscode-notebook-cell://wsl%2Bubuntu/home/benjx/cs_wsl/school/y3/cse258/CSE258-A1/hw3v2.ipynb#X44sdnNjb2RlLXJlbW90ZQ%3D%3D?line=29'>30</a>\u001b[0m     new_alpha \u001b[39m+\u001b[39m\u001b[39m=\u001b[39m (trainHours[i] \u001b[39m-\u001b[39m beta_u[user] \u001b[39m-\u001b[39m beta_i[item]) \u001b[39m/\u001b[39m \u001b[39mlen\u001b[39m(trainPairs)\n\u001b[1;32m     <a href='vscode-notebook-cell://wsl%2Bubuntu/home/benjx/cs_wsl/school/y3/cse258/CSE258-A1/hw3v2.ipynb#X44sdnNjb2RlLXJlbW90ZQ%3D%3D?line=30'>31</a>\u001b[0m alpha \u001b[39m=\u001b[39m new_alpha\n\u001b[1;32m     <a href='vscode-notebook-cell://wsl%2Bubuntu/home/benjx/cs_wsl/school/y3/cse258/CSE258-A1/hw3v2.ipynb#X44sdnNjb2RlLXJlbW90ZQ%3D%3D?line=31'>32</a>\u001b[0m \u001b[39mfor\u001b[39;00m i, (user, item) \u001b[39min\u001b[39;00m \u001b[39menumerate\u001b[39m(trainPairs):\n",
      "\u001b[0;31mKeyboardInterrupt\u001b[0m: "
     ]
    }
   ],
   "source": [
    "beta_u = np.zeros(len(I))\n",
    "beta_i = np.zeros(len(U))\n",
    "alpha = globalAverage # Could initialize anywhere, this is a guess\n",
    "lr = 0.001\n",
    "def iterate(lamb):\n",
    "    global alpha\n",
    "    global beta_u\n",
    "    global beta_i\n",
    "    alpha_grad = 0\n",
    "    beta_u_grad = np.zeros_like(beta_u)\n",
    "    beta_i_grad = np.zeros_like(beta_i)\n",
    "    for i, (user, item) in enumerate(trainPairs):\n",
    "        alpha_grad += (2 * (alpha + beta_u[user] + beta_i[item] - trainHours[i])) / len(trainPairs)\n",
    "        beta_u_grad[user] += (2 * (alpha + beta_u[user] + beta_i[item] - trainHours[i]) + (2 * lamb * beta_u[user])) / I_arr[user]\n",
    "        beta_i_grad[item] += (2 * (alpha + beta_u[user] + beta_i[item] - trainHours[i]) + (2 * lamb * beta_i[item])) / U_arr[item]\n",
    "    beta_u -= lr * beta_u_grad\n",
    "    beta_i -= lr * beta_i_grad\n",
    "    alpha -= lr * alpha_grad\n",
    "\n",
    "def closed_form(lamb):\n",
    "    global alpha\n",
    "    global beta_u\n",
    "    global beta_i\n",
    "\n",
    "    new_beta_u = np.zeros_like(beta_u)\n",
    "    new_beta_i = np.zeros_like(beta_i)\n",
    "    new_alpha = 0\n",
    "\n",
    "    for i, (user, item) in enumerate(trainPairs):\n",
    "        new_alpha += (trainHours[i] - beta_u[user] - beta_i[item]) / len(trainPairs)\n",
    "    alpha = new_alpha\n",
    "    for i, (user, item) in enumerate(trainPairs):\n",
    "        new_beta_u[user] += (trainHours[i] - alpha - beta_i[item]) / (lamb + I_arr[user])\n",
    "    beta_u = new_beta_u\n",
    "    for i, (user, item) in enumerate(trainPairs):\n",
    "        new_beta_i[item] += (trainHours[i] - alpha - beta_u[user]) / (lamb + U_arr[item])\n",
    "    beta_i = new_beta_i\n",
    "\n",
    "for i in tqdm(range(300)):\n",
    "    closed_form(5)\n",
    "    if i % 100 == 0:\n",
    "        validMSE = 0\n",
    "        for i, (user, item) in enumerate(validPairs_part_2):\n",
    "            validMSE += (validLabels_part_2[i] - alpha - beta_u[user] - beta_i[item]) ** 2\n",
    "        validMSE /= len(validPairs_part_2)\n",
    "        print(validMSE)"
   ]
  },
  {
   "cell_type": "code",
   "execution_count": 70,
   "metadata": {},
   "outputs": [
    {
     "name": "stdout",
     "output_type": "stream",
     "text": [
      "3.684224766504498\n"
     ]
    }
   ],
   "source": [
    "closed_form(5)\n",
    "print(alpha)"
   ]
  },
  {
   "cell_type": "code",
   "execution_count": 71,
   "metadata": {},
   "outputs": [
    {
     "data": {
      "text/plain": [
       "array([ 0.51915976, -0.29995939, -0.71692046, ...,  0.48210574,\n",
       "        0.46233988,  0.46227292])"
      ]
     },
     "execution_count": 71,
     "metadata": {},
     "output_type": "execute_result"
    }
   ],
   "source": [
    "beta_u"
   ]
  },
  {
   "cell_type": "code",
   "execution_count": null,
   "id": "a4544f0f-39ac-4452-9180-baa378507201",
   "metadata": {},
   "outputs": [
    {
     "name": "stdout",
     "output_type": "stream",
     "text": [
      "2.9906280646889387\n",
      "3.1154418803025523\n",
      "3.716088074007024\n"
     ]
    }
   ],
   "source": [
    "validMSE = 0\n",
    "for i, (user, item) in enumerate(validPairs_part_2):\n",
    "    validMSE += (validLabels_part_2[i] - alpha - beta_u[user] - beta_i[item]) ** 2\n",
    "validMSE /= len(validLabels_part_2)\n",
    "print(validMSE)\n",
    "print(alpha)\n",
    "print(globalAverage)"
   ]
  },
  {
   "cell_type": "code",
   "execution_count": null,
   "id": "6534a08d-013e-4353-a12c-b1f2bbed5812",
   "metadata": {},
   "outputs": [],
   "source": [
    "answers['Q6'] = validMSE"
   ]
  },
  {
   "cell_type": "code",
   "execution_count": null,
   "id": "bc0e3695-682b-4d65-9576-c59795d04930",
   "metadata": {},
   "outputs": [],
   "source": [
    "assertFloat(answers['Q6'])"
   ]
  },
  {
   "cell_type": "code",
   "execution_count": null,
   "id": "d9d419e4-e8c4-4766-b189-d77fbe608417",
   "metadata": {},
   "outputs": [],
   "source": [
    "### Question 7"
   ]
  },
  {
   "cell_type": "code",
   "execution_count": null,
   "id": "4a48cc70-1c2c-40df-9843-fea1f287a10e",
   "metadata": {},
   "outputs": [
    {
     "name": "stdout",
     "output_type": "stream",
     "text": [
      "Maximum betaU = u14947742 (5.028992741427703)\n",
      "Maximum betaI = g17604638 (4.958229977012988)\n",
      "Minimum betaU = u13037838 (-2.8747411504511153)\n",
      "Minimum betaI = g84397720 (-2.964508870386239)\n"
     ]
    }
   ],
   "source": [
    "betaUs = [(beta_u[u], user_itos[u]) for u in range(len(beta_u))]\n",
    "betaIs = [(beta_i[i], item_itos[i]) for i in range(len(beta_i))]\n",
    "betaUs.sort()\n",
    "betaIs.sort()\n",
    "\n",
    "print(\"Maximum betaU = \" + str(betaUs[-1][1]) + ' (' + str(betaUs[-1][0]) + ')')\n",
    "print(\"Maximum betaI = \" + str(betaIs[-1][1]) + ' (' + str(betaIs[-1][0]) + ')')\n",
    "print(\"Minimum betaU = \" + str(betaUs[0][1]) + ' (' + str(betaUs[0][0]) + ')')\n",
    "print(\"Minimum betaI = \" + str(betaIs[0][1]) + ' (' + str(betaIs[0][0]) + ')')"
   ]
  },
  {
   "cell_type": "code",
   "execution_count": null,
   "id": "65b17529-ade3-4cdf-a5c1-b17b06e68237",
   "metadata": {},
   "outputs": [],
   "source": [
    "answers['Q7'] = [betaUs[-1][0], betaUs[0][0], betaIs[-1][0], betaIs[0][0]]"
   ]
  },
  {
   "cell_type": "code",
   "execution_count": null,
   "id": "7c9faa5c-2bc1-4d51-ae29-df2d82c9372d",
   "metadata": {},
   "outputs": [],
   "source": [
    "assertFloatList(answers['Q7'], 4)"
   ]
  },
  {
   "cell_type": "code",
   "execution_count": null,
   "id": "c604fd19-2fb8-44bf-82b5-33797f534707",
   "metadata": {},
   "outputs": [],
   "source": [
    "### Question 8"
   ]
  },
  {
   "cell_type": "code",
   "execution_count": null,
   "id": "30b8cbba-d0ec-46a6-b079-1c9a0e188971",
   "metadata": {},
   "outputs": [],
   "source": [
    "# Better lambda...\n"
   ]
  },
  {
   "cell_type": "code",
   "execution_count": null,
   "id": "fa01029d-a130-4389-9f0c-bf18fb3726f4",
   "metadata": {},
   "outputs": [
    {
     "name": "stderr",
     "output_type": "stream",
     "text": [
      "  0%|          | 0/10 [00:00<?, ?it/s]"
     ]
    },
    {
     "name": "stderr",
     "output_type": "stream",
     "text": [
      " 10%|█         | 1/10 [00:01<00:16,  1.86s/it]"
     ]
    },
    {
     "name": "stdout",
     "output_type": "stream",
     "text": [
      "2.9355175579739337\n"
     ]
    },
    {
     "name": "stderr",
     "output_type": "stream",
     "text": [
      " 20%|██        | 2/10 [00:03<00:14,  1.77s/it]"
     ]
    },
    {
     "name": "stdout",
     "output_type": "stream",
     "text": [
      "2.7692616791758646\n"
     ]
    },
    {
     "name": "stderr",
     "output_type": "stream",
     "text": [
      " 30%|███       | 3/10 [00:05<00:12,  1.73s/it]"
     ]
    },
    {
     "name": "stdout",
     "output_type": "stream",
     "text": [
      "2.761292137124928\n"
     ]
    },
    {
     "name": "stderr",
     "output_type": "stream",
     "text": [
      " 40%|████      | 4/10 [00:06<00:10,  1.67s/it]"
     ]
    },
    {
     "name": "stdout",
     "output_type": "stream",
     "text": [
      "2.7604697423423135\n"
     ]
    },
    {
     "name": "stderr",
     "output_type": "stream",
     "text": [
      " 50%|█████     | 5/10 [00:08<00:08,  1.64s/it]"
     ]
    },
    {
     "name": "stdout",
     "output_type": "stream",
     "text": [
      "2.760301578016814\n"
     ]
    },
    {
     "name": "stderr",
     "output_type": "stream",
     "text": [
      " 60%|██████    | 6/10 [00:09<00:06,  1.60s/it]"
     ]
    },
    {
     "name": "stdout",
     "output_type": "stream",
     "text": [
      "2.7602324512268606\n"
     ]
    },
    {
     "name": "stderr",
     "output_type": "stream",
     "text": [
      " 70%|███████   | 7/10 [00:11<00:04,  1.56s/it]"
     ]
    },
    {
     "name": "stdout",
     "output_type": "stream",
     "text": [
      "2.7601850719671064\n"
     ]
    },
    {
     "name": "stderr",
     "output_type": "stream",
     "text": [
      " 80%|████████  | 8/10 [00:12<00:03,  1.57s/it]"
     ]
    },
    {
     "name": "stdout",
     "output_type": "stream",
     "text": [
      "2.76014409052146\n"
     ]
    },
    {
     "name": "stderr",
     "output_type": "stream",
     "text": [
      " 90%|█████████ | 9/10 [00:14<00:01,  1.58s/it]"
     ]
    },
    {
     "name": "stdout",
     "output_type": "stream",
     "text": [
      "2.7601059094538947\n"
     ]
    },
    {
     "name": "stderr",
     "output_type": "stream",
     "text": [
      "100%|██████████| 10/10 [00:16<00:00,  1.62s/it]"
     ]
    },
    {
     "name": "stdout",
     "output_type": "stream",
     "text": [
      "2.7600696019887234\n",
      "2.9991601635049583\n"
     ]
    },
    {
     "name": "stderr",
     "output_type": "stream",
     "text": [
      "\n"
     ]
    }
   ],
   "source": [
    "beta_u = np.zeros(len(I))\n",
    "beta_i = np.zeros(len(U))\n",
    "alpha = globalAverage # Could initialize anywhere, this is a guess\n",
    "for i in tqdm(range(10)):\n",
    "    closed_form(2)\n",
    "    loss = 0\n",
    "    for i, (user, item) in enumerate(trainPairs):\n",
    "        loss += (trainHours[i] - alpha - beta_u[user] - beta_i[item]) ** 2\n",
    "    loss /= len(trainPairs)\n",
    "    print(loss)\n",
    "validMSE = 0\n",
    "for i, (user, item) in enumerate(validPairs_part_2):\n",
    "    validMSE += (validLabels_part_2[i] - alpha - beta_u[user] - beta_i[item]) ** 2\n",
    "validMSE /= len(validLabels_part_2)\n",
    "print(validMSE)"
   ]
  },
  {
   "cell_type": "code",
   "execution_count": null,
   "id": "b95c8e49-d120-4367-a20f-a39381776979",
   "metadata": {},
   "outputs": [],
   "source": [
    "answers['Q8'] = (2, validMSE)"
   ]
  },
  {
   "cell_type": "code",
   "execution_count": null,
   "id": "fe2dcb96-86a0-473e-980b-340435715ea8",
   "metadata": {},
   "outputs": [],
   "source": [
    "assertFloatList(answers['Q8'], 2)"
   ]
  },
  {
   "cell_type": "code",
   "execution_count": null,
   "id": "90a7cd55-1f58-42a5-8c35-4debf80a3e3e",
   "metadata": {},
   "outputs": [],
   "source": [
    "predictions = open(\"HWpredictions_Hours.csv\", 'w')\n",
    "for l in open(\"./pairs_Hours.csv\"):\n",
    "    if l.startswith(\"userID\"):\n",
    "        predictions.write(l)\n",
    "        continue\n",
    "    user,item = l.strip().split(',')\n",
    "\n",
    "    # Logic...\n",
    "\n",
    "    _ = predictions.write(user + ',' + item + ',' + str(alpha + beta_u[user_stoi[user]] + beta_i[item_stoi[item]]) + '\\n')\n",
    "\n",
    "predictions.close()"
   ]
  },
  {
   "cell_type": "code",
   "execution_count": null,
   "id": "c5fe92e3-3ab1-4858-858c-eeb732d964f6",
   "metadata": {},
   "outputs": [],
   "source": [
    "f = open(\"answers_hw3.txt\", 'w')\n",
    "f.write(str(answers) + '\\n')\n",
    "f.close()"
   ]
  },
  {
   "cell_type": "code",
   "execution_count": null,
   "id": "9676dc3e",
   "metadata": {},
   "outputs": [],
   "source": []
  }
 ],
 "metadata": {
  "kernelspec": {
   "display_name": "Python 3 (ipykernel)",
   "language": "python",
   "name": "python3"
  },
  "language_info": {
   "codemirror_mode": {
    "name": "ipython",
    "version": 3
   },
   "file_extension": ".py",
   "mimetype": "text/x-python",
   "name": "python",
   "nbconvert_exporter": "python",
   "pygments_lexer": "ipython3",
   "version": "3.8.10"
  }
 },
 "nbformat": 4,
 "nbformat_minor": 5
}
