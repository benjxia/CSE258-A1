{
 "cells": [
  {
   "cell_type": "markdown",
   "metadata": {},
   "source": [
    "# CSE 258: Assignment 1\n",
    "### Benjamin Xia"
   ]
  },
  {
   "cell_type": "markdown",
   "metadata": {},
   "source": [
    "### Setup"
   ]
  },
  {
   "cell_type": "code",
   "execution_count": 1,
   "metadata": {
    "ExecuteTime": {
     "end_time": "2023-10-26T02:00:19.717930300Z",
     "start_time": "2023-10-26T01:59:57.594733500Z"
    }
   },
   "outputs": [],
   "source": [
    "import numpy as np\n",
    "import pandas as pd\n",
    "\n",
    "from sklearn import preprocessing\n",
    "import torch\n",
    "from torch import nn, optim\n",
    "from torch.utils.data import Dataset, DataLoader\n",
    "from sklearn.decomposition import LatentDirichletAllocation\n",
    "from sklearn import feature_extraction\n",
    "import random\n",
    "from collections import defaultdict\n",
    "from tqdm import tqdm\n",
    "import gzip\n",
    "\n",
    "import os\n",
    "\n",
    "RANDOM_SEED = 0\n",
    "random.seed(RANDOM_SEED)\n",
    "np.random.seed(RANDOM_SEED)\n",
    "torch.manual_seed(RANDOM_SEED)\n",
    "\n",
    "import warnings\n",
    "warnings.filterwarnings(\"ignore\", category=UserWarning)"
   ]
  },
  {
   "cell_type": "markdown",
   "metadata": {},
   "source": [
    "### Preprocessing"
   ]
  },
  {
   "cell_type": "markdown",
   "metadata": {},
   "source": [
    "#### Preprocess user/item ID's, compensation, early_access, and time"
   ]
  },
  {
   "cell_type": "code",
   "execution_count": 2,
   "metadata": {
    "ExecuteTime": {
     "end_time": "2023-10-26T02:00:53.408937700Z",
     "start_time": "2023-10-26T02:00:34.962524200Z"
    }
   },
   "outputs": [],
   "source": [
    "user_oe = preprocessing.OrdinalEncoder(dtype=np.int32, min_frequency=5, handle_unknown='use_encoded_value', unknown_value=6710)\n",
    "item_oe = preprocessing.OrdinalEncoder(dtype=np.int32, min_frequency=5)\n",
    "\n",
    "itemset = set() # Set of all unique users\n",
    "userset = set() # Set of all unique items\n",
    "U = defaultdict(set)\n",
    "I = defaultdict(set)\n",
    "\n",
    "ft = ['early_access', 'compensation'] # features unavailable/cannot be approximated in inference\n",
    "def read_json(path):\n",
    "    f: gzip.GzipFile = gzip.open(path)\n",
    "    f.readline()\n",
    "    for line in f:\n",
    "        entry = eval(line)\n",
    "        yield entry\n",
    "\n",
    "# Encode userID and itemID as integers\n",
    "def process_data():\n",
    "    global itemset, userset, U, I\n",
    "    data = []\n",
    "    for entry in read_json('train.json.gz'):\n",
    "        data.append(entry)\n",
    "\n",
    "    df: pd.DataFrame = pd.DataFrame(data)\n",
    "    del data\n",
    "    itemset = set(df['gameID'].unique())\n",
    "    userset = set(df['userID'].unique())\n",
    "\n",
    "    U = dict(df.groupby('gameID')['userID'].unique())\n",
    "    I = dict(df.groupby('userID')['gameID'].unique())\n",
    "    U = { g : set(U[g]) for g in U }\n",
    "    I = { u : set(I[u]) for u in I }\n",
    "\n",
    "    df['userIDX'] = user_oe.fit_transform(df[['userID']])\n",
    "    df['itemIDX'] = item_oe.fit_transform(df[['gameID']])\n",
    "    df.rename({'gameID' : 'itemID'}, axis=1, inplace=True)\n",
    "\n",
    "\n",
    "    df.drop(labels=['hours', 'user_id', 'date'], axis=1, inplace=True)\n",
    "\n",
    "\n",
    "    # Get features that won't be available\n",
    "    df.fillna(value=0, axis=1, inplace=True)\n",
    "    df['compensation'] = df['compensation'].map(lambda x : x if x == 0 else 1)\n",
    "    df[['early_access', 'compensation']] = df[['early_access', 'compensation']].astype(np.int32)\n",
    "\n",
    "    time_label = df['hours_transformed']\n",
    "\n",
    "    return df, time_label\n",
    "\n",
    "df, time_label = process_data()\n",
    "user_mean = df.groupby('userIDX')[ft].mean()\n",
    "item_mean = df.groupby('itemIDX')[ft].mean()"
   ]
  },
  {
   "cell_type": "raw",
   "metadata": {},
   "source": [
    "len(df['userID'].unique())"
   ]
  },
  {
   "cell_type": "code",
   "execution_count": 4,
   "metadata": {},
   "outputs": [
    {
     "data": {
      "text/html": [
       "<div>\n",
       "<style scoped>\n",
       "    .dataframe tbody tr th:only-of-type {\n",
       "        vertical-align: middle;\n",
       "    }\n",
       "\n",
       "    .dataframe tbody tr th {\n",
       "        vertical-align: top;\n",
       "    }\n",
       "\n",
       "    .dataframe thead th {\n",
       "        text-align: right;\n",
       "    }\n",
       "</style>\n",
       "<table border=\"1\" class=\"dataframe\">\n",
       "  <thead>\n",
       "    <tr style=\"text-align: right;\">\n",
       "      <th></th>\n",
       "      <th>userID</th>\n",
       "      <th>text</th>\n",
       "      <th>itemID</th>\n",
       "      <th>userIDX</th>\n",
       "      <th>itemIDX</th>\n",
       "    </tr>\n",
       "  </thead>\n",
       "  <tbody>\n",
       "    <tr>\n",
       "      <th>0</th>\n",
       "      <td>u70666506</td>\n",
       "      <td>If you want to sit in queue for 10-20min and h...</td>\n",
       "      <td>g49368897</td>\n",
       "      <td>4740</td>\n",
       "      <td>1209</td>\n",
       "    </tr>\n",
       "    <tr>\n",
       "      <th>1</th>\n",
       "      <td>u18612571</td>\n",
       "      <td>I was really not a fan of the gameplay. Games ...</td>\n",
       "      <td>g73495588</td>\n",
       "      <td>1240</td>\n",
       "      <td>1800</td>\n",
       "    </tr>\n",
       "    <tr>\n",
       "      <th>2</th>\n",
       "      <td>u34283088</td>\n",
       "      <td>Vaas Montenegro is the reason why you should g...</td>\n",
       "      <td>g68047320</td>\n",
       "      <td>2314</td>\n",
       "      <td>1652</td>\n",
       "    </tr>\n",
       "    <tr>\n",
       "      <th>3</th>\n",
       "      <td>u16220374</td>\n",
       "      <td>8/10 Wonderful game, simple controls and platf...</td>\n",
       "      <td>g51234623</td>\n",
       "      <td>1067</td>\n",
       "      <td>1244</td>\n",
       "    </tr>\n",
       "    <tr>\n",
       "      <th>4</th>\n",
       "      <td>u01499286</td>\n",
       "      <td>Never knew a guns had THAT many parts!</td>\n",
       "      <td>g25723374</td>\n",
       "      <td>92</td>\n",
       "      <td>609</td>\n",
       "    </tr>\n",
       "  </tbody>\n",
       "</table>\n",
       "</div>"
      ],
      "text/plain": [
       "      userID                                               text     itemID  \\\n",
       "0  u70666506  If you want to sit in queue for 10-20min and h...  g49368897   \n",
       "1  u18612571  I was really not a fan of the gameplay. Games ...  g73495588   \n",
       "2  u34283088  Vaas Montenegro is the reason why you should g...  g68047320   \n",
       "3  u16220374  8/10 Wonderful game, simple controls and platf...  g51234623   \n",
       "4  u01499286             Never knew a guns had THAT many parts!  g25723374   \n",
       "\n",
       "  userIDX itemIDX  \n",
       "0    4740    1209  \n",
       "1    1240    1800  \n",
       "2    2314    1652  \n",
       "3    1067    1244  \n",
       "4      92     609  "
      ]
     },
     "execution_count": 4,
     "metadata": {},
     "output_type": "execute_result"
    }
   ],
   "source": [
    "df.drop(labels=ft + ['hours_transformed', 'found_funny'], axis=1, inplace=True)\n",
    "df.head()"
   ]
  },
  {
   "cell_type": "markdown",
   "metadata": {},
   "source": [
    "#### Preprocess user text and convert to descriptors"
   ]
  },
  {
   "cell_type": "code",
   "execution_count": 5,
   "metadata": {
    "tags": []
   },
   "outputs": [],
   "source": [
    "device = 'cuda' if torch.cuda.is_available() else 'cpu'\n",
    "\n",
    "\n",
    "def get_text_embedding():\n",
    "    if not os.path.isfile('./text_embed.npy'): # Generate new descriptors for each review using pretrained transformer\n",
    "        dftext = df.groupby('itemIDX')['text'].apply(' '.join).reset_index()\n",
    "        counter = feature_extraction.text.CountVectorizer(min_df=0.01, max_df=0.5, stop_words='english', max_features=2000, ngram_range=(1, 2), binary=True)\n",
    "        wordcount = counter.fit_transform(dftext['text'])\n",
    "        LDA = LatentDirichletAllocation(n_components=20, random_state=RANDOM_SEED)\n",
    "        text_embed = LDA.fit_transform(wordcount)\n",
    "        np.save('text_embed.npy', text_embed)\n",
    "    else: # Text descriptors already computed\n",
    "        text_embed = np.load('./text_embed.npy')\n",
    "\n",
    "    return text_embed\n",
    "\n",
    "text_embed = get_text_embedding()\n",
    "text_embed = text_embed / np.linalg.norm(text_embed, axis=1)[...,None]\n",
    "\n",
    "df.drop('text', axis=1, inplace=True)\n"
   ]
  },
  {
   "cell_type": "code",
   "execution_count": 6,
   "metadata": {},
   "outputs": [],
   "source": [
    "df_played_train = df.iloc[:150000]\n",
    "df_played_valid = df.iloc[150000:]"
   ]
  },
  {
   "cell_type": "code",
   "execution_count": 7,
   "metadata": {},
   "outputs": [
    {
     "data": {
      "text/plain": [
       "28"
      ]
     },
     "execution_count": 7,
     "metadata": {},
     "output_type": "execute_result"
    }
   ],
   "source": [
    "len(df.columns) + len(user_mean.columns) + len(item_mean.columns) + text_embed.shape[1]"
   ]
  },
  {
   "cell_type": "markdown",
   "metadata": {},
   "source": [
    "#### Played dataset"
   ]
  },
  {
   "cell_type": "code",
   "execution_count": 8,
   "metadata": {},
   "outputs": [
    {
     "data": {
      "text/plain": [
       "(tensor([4.7400e+03, 1.2090e+03, 2.1429e-01, 0.0000e+00, 5.7895e-01, 2.9240e-02,\n",
       "         2.5428e-01, 6.9249e-01, 1.2759e-04, 1.2759e-04, 3.9793e-01, 1.2759e-04,\n",
       "         1.2759e-04, 1.2759e-04, 3.9421e-01, 1.2759e-04, 1.2759e-04, 1.2759e-04,\n",
       "         1.2759e-04, 3.7154e-01, 2.6741e-02, 1.9906e-02, 5.3868e-02, 1.2759e-04,\n",
       "         1.2759e-04, 1.2759e-04]),\n",
       " tensor([4.7400e+03, 1.1900e+02, 2.1429e-01, 0.0000e+00, 0.0000e+00, 3.3898e-02,\n",
       "         1.8379e-04, 4.6149e-01, 1.8379e-04, 1.5461e-01, 1.8379e-04, 1.8379e-04,\n",
       "         1.8379e-04, 8.3567e-01, 2.5452e-01, 1.8379e-04, 1.8379e-04, 1.8379e-04,\n",
       "         1.8379e-04, 1.8379e-04, 1.8379e-04, 1.8379e-04, 1.8379e-04, 1.8379e-04,\n",
       "         1.8379e-04, 1.8379e-04]))"
      ]
     },
     "execution_count": 8,
     "metadata": {},
     "output_type": "execute_result"
    }
   ],
   "source": [
    "torch.set_default_tensor_type(torch.DoubleTensor)\n",
    "class PlayedDataset(Dataset):\n",
    "    def __init__(self, df) -> None:\n",
    "        super().__init__()\n",
    "        self.df = df\n",
    "    def __len__(self):\n",
    "        return len(self.df)\n",
    "    def __getitem__(self, index):\n",
    "        row = self.df.iloc[index]\n",
    "        userID = row['userID']\n",
    "        itemID = row['itemID']\n",
    "        userIDX = row['userIDX']\n",
    "        itemIDX = row['itemIDX']\n",
    "        negaID = random.choice(tuple(itemset.difference(I[userID]))) # Negative item ID\n",
    "        negaIDX = item_oe.transform([[negaID]])[0][0]\n",
    "        # Build positive pair\n",
    "        pos = np.concatenate((row[2:].to_numpy().astype(np.float32),\n",
    "                              user_mean.iloc[userIDX].to_numpy().astype(np.float32),\n",
    "                              item_mean.iloc[itemIDX].to_numpy().astype(np.float32),\n",
    "                              text_embed[itemIDX].astype(np.float32)))\n",
    "        negrow = row.copy()\n",
    "        negrow['itemIDX'] = negaIDX\n",
    "        neg = np.concatenate((negrow[2:].to_numpy().astype(np.float32),\n",
    "                              user_mean.iloc[userIDX].to_numpy().astype(np.float32),\n",
    "                              item_mean.iloc[negaIDX].to_numpy().astype(np.float32),\n",
    "                              text_embed[negaIDX].astype(np.float32)))\n",
    "        return torch.from_numpy(pos).to(dtype=torch.float64), torch.from_numpy(neg).to(dtype=torch.float64)\n",
    "\n",
    "played_ds = PlayedDataset(df_played_train)\n",
    "played_ds[0]"
   ]
  },
  {
   "cell_type": "markdown",
   "metadata": {},
   "source": [
    "### Model Definition"
   ]
  },
  {
   "cell_type": "code",
   "execution_count": 9,
   "metadata": {},
   "outputs": [],
   "source": [
    "class FactorizationMachine(nn.Module):\n",
    "    def __init__(self, n_user, n_item, n_feature, latent_dim, weight=True) -> None:\n",
    "        \"\"\"\n",
    "        n_user: Number of unique users\n",
    "        n_item: Number of unique items\n",
    "        n_feature: Number of extra features to use\n",
    "        latent_dim: Dimension of latent representations of users/items/features\n",
    "        \"\"\"\n",
    "        super().__init__()\n",
    "        self.n_user = n_user\n",
    "        self.n_item = n_item\n",
    "        self.n_feature = n_feature\n",
    "        self.latent_dim = latent_dim\n",
    "        self.weight = weight\n",
    "        self.user_latent = nn.Embedding(n_user, latent_dim)\n",
    "        self.item_latent = nn.Embedding(n_item, latent_dim)\n",
    "        if self.n_feature > 0:\n",
    "            self.feat_latent = nn.Parameter(torch.randn(n_feature, latent_dim),requires_grad=True)\n",
    "            self.feat_weight = nn.Linear(n_feature, 1)\n",
    "        if self.weight:\n",
    "            self.user_weight = nn.Embedding(n_user, 1)\n",
    "            self.item_weight = nn.Embedding(n_item, 1)\n",
    "        # \"alpha\" or \"w_0\" term will be absorbed into feat_weight linear's bias\n",
    "    def forward(self, x) -> torch.Tensor:\n",
    "        \"\"\"\n",
    "        Input shape: batch_size x (user idx, item idx, features) - 2 dimensional\n",
    "        Returns: n x 1 tensor of predictions\n",
    "        \"\"\"\n",
    "        if len(x.size()) == 1:\n",
    "            x = x.unsqueeze(0)\n",
    "        # f(u, i) = w_0 + \\sum_{j=1}^{d} w_j * x_j\n",
    "        out = torch.zeros((x.size()[0], 1), device=device)\n",
    "        if self.n_feature > 0 and self.weight:\n",
    "            out += self.feat_weight(x[:, 2:])\n",
    "        users = x[:, 0].to(dtype=torch.int32)\n",
    "        items = x[:, 1].to(dtype=torch.int32)\n",
    "        if self.weight:\n",
    "            out += self.user_weight(users)\n",
    "            out += self.item_weight(items)\n",
    "        # Nested summation thingy\n",
    "        # Interactions between users/items and features\n",
    "        u_embed = self.user_latent(users)\n",
    "        i_embed = self.item_latent(items)\n",
    "        out += (u_embed * i_embed).sum(dim=1).unsqueeze(-1)   # Dot product between user and item latent representations\n",
    "        if self.n_feature > 0:\n",
    "            # Interactions between features\n",
    "            xfeature = x[:, 2:]\n",
    "\n",
    "            out += ((u_embed @ self.feat_latent.T) * xfeature).sum(dim=1).unsqueeze(-1) # Dot product between user and feature latent representations\n",
    "            out += ((i_embed @ self.feat_latent.T) * xfeature).sum(dim=1).unsqueeze(-1) # Dot product between item and feature latent representations\n",
    "            out_1 = torch.matmul(xfeature, self.feat_latent).pow(2).sum(1, keepdim=True) #S_1^2\n",
    "            out_2 = torch.matmul(xfeature.pow(2), self.feat_latent.pow(2)).sum(1, keepdim=True) # S_2\n",
    "            out_inter = 0.5*(out_1 - out_2)\n",
    "            out += out_inter\n",
    "        return out\n"
   ]
  },
  {
   "cell_type": "code",
   "execution_count": 10,
   "metadata": {},
   "outputs": [],
   "source": [
    "played_model = FactorizationMachine(len(df['userID'].unique()), len(df['itemID'].unique()), 24, 32, False).to(device) # 24 features\n",
    "\n",
    "# if os.path.isfile('./played_model.pt'):\n",
    "#     played_model.load_state_dict(torch.load('./played_model.pt'))\n",
    "optimizer = optim.SGD(played_model.parameters(), lr=0.01)\n",
    "def BPRLoss(pos_score, neg_score):\n",
    "     return torch.sum(-(pos_score - neg_score).sigmoid().log())"
   ]
  },
  {
   "cell_type": "code",
   "execution_count": 11,
   "metadata": {},
   "outputs": [],
   "source": [
    "batch_sz=20\n",
    "print_iter=500\n",
    "played_dl = DataLoader(dataset=played_ds,\n",
    "                       batch_size=batch_sz,\n",
    "                       shuffle=False, num_workers=2)\n",
    "played_valid_ds = PlayedDataset(df_played_valid)\n",
    "played_valid_dl = DataLoader(dataset=played_valid_ds,\n",
    "                             batch_size=batch_sz,\n",
    "                             num_workers=2)"
   ]
  },
  {
   "cell_type": "code",
   "execution_count": 12,
   "metadata": {},
   "outputs": [],
   "source": [
    "def validate():\n",
    "    with torch.no_grad():\n",
    "        posscores = torch.zeros((0, 1), dtype=torch.float64, device=device)\n",
    "        negscores = torch.zeros((0, 1), dtype=torch.float64, device=device)\n",
    "        for i, (pos, neg) in tqdm(enumerate(played_valid_dl)):\n",
    "            pos_score = played_model(pos.to(device))\n",
    "            neg_score = played_model(neg.to(device))\n",
    "            posscores = torch.concatenate((posscores, pos_score), dim=0)\n",
    "            negscores = torch.concatenate((negscores, neg_score), dim=0)\n",
    "        combined = torch.concatenate((posscores, negscores), dim=0)\n",
    "        print(torch.sum(combined.argsort(dim=0)[len(played_valid_ds):] < len(played_valid_ds)) / (len(played_valid_ds)))\n",
    "def epoch():\n",
    "    running_loss = 0\n",
    "    running_auc = 0\n",
    "    for i, (pos, neg) in tqdm(enumerate(played_dl)):\n",
    "        pos_score = played_model(pos.to(device))\n",
    "        neg_score = played_model(neg.to(device))\n",
    "        loss = BPRLoss(pos_score, neg_score)\n",
    "        running_loss += loss\n",
    "        running_auc += torch.sum(pos_score > neg_score) / batch_sz\n",
    "        optimizer.zero_grad()\n",
    "        loss.backward()\n",
    "        optimizer.step()\n",
    "        if i == 0:\n",
    "            print(f\"{i}/{len(played_dl)}\")\n",
    "            print(f\"loss: {running_loss}\")\n",
    "            print(f\"AUC: {running_auc}\")\n",
    "        elif (i + 1) % print_iter == 0:\n",
    "            print(f\"{i}/{len(played_dl)}\")\n",
    "            print(f\"loss: {running_loss / print_iter}\")\n",
    "            running_loss = 0\n",
    "            print(f\"AUC: {running_auc / print_iter}\")\n",
    "            running_auc = 0"
   ]
  },
  {
   "cell_type": "code",
   "execution_count": null,
   "metadata": {
    "scrolled": false
   },
   "outputs": [
    {
     "name": "stdout",
     "output_type": "stream",
     "text": [
      "Epoch: 0 / 100\n"
     ]
    },
    {
     "name": "stderr",
     "output_type": "stream",
     "text": [
      "6it [00:00, 10.17it/s]"
     ]
    },
    {
     "name": "stdout",
     "output_type": "stream",
     "text": [
      "0/7500\n",
      "loss: 186.02142484397862\n",
      "AUC: 0.6000000000000001\n"
     ]
    },
    {
     "name": "stderr",
     "output_type": "stream",
     "text": [
      "502it [00:23, 21.59it/s]"
     ]
    },
    {
     "name": "stdout",
     "output_type": "stream",
     "text": [
      "499/7500\n",
      "loss: 130.07783733898788\n",
      "AUC: 0.5156000000000004\n"
     ]
    },
    {
     "name": "stderr",
     "output_type": "stream",
     "text": [
      "1004it [00:46, 21.45it/s]"
     ]
    },
    {
     "name": "stdout",
     "output_type": "stream",
     "text": [
      "999/7500\n",
      "loss: 121.66597074446067\n",
      "AUC: 0.5150000000000001\n"
     ]
    },
    {
     "name": "stderr",
     "output_type": "stream",
     "text": [
      "1504it [01:09, 21.48it/s]"
     ]
    },
    {
     "name": "stdout",
     "output_type": "stream",
     "text": [
      "1499/7500\n",
      "loss: 113.20636922607457\n",
      "AUC: 0.5349000000000004\n"
     ]
    },
    {
     "name": "stderr",
     "output_type": "stream",
     "text": [
      "2004it [01:32, 21.51it/s]"
     ]
    },
    {
     "name": "stdout",
     "output_type": "stream",
     "text": [
      "1999/7500\n",
      "loss: 108.90708467598601\n",
      "AUC: 0.5446999999999997\n"
     ]
    },
    {
     "name": "stderr",
     "output_type": "stream",
     "text": [
      "2502it [01:55, 21.55it/s]"
     ]
    },
    {
     "name": "stdout",
     "output_type": "stream",
     "text": [
      "2499/7500\n",
      "loss: 103.01829962342421\n",
      "AUC: 0.5562000000000001\n"
     ]
    },
    {
     "name": "stderr",
     "output_type": "stream",
     "text": [
      "3004it [02:18, 21.76it/s]"
     ]
    },
    {
     "name": "stdout",
     "output_type": "stream",
     "text": [
      "2999/7500\n",
      "loss: 94.93251507642938\n",
      "AUC: 0.5810999999999998\n"
     ]
    },
    {
     "name": "stderr",
     "output_type": "stream",
     "text": [
      "3504it [02:40, 21.37it/s]"
     ]
    },
    {
     "name": "stdout",
     "output_type": "stream",
     "text": [
      "3499/7500\n",
      "loss: 91.86766159722688\n",
      "AUC: 0.5908000000000002\n"
     ]
    },
    {
     "name": "stderr",
     "output_type": "stream",
     "text": [
      "4004it [03:03, 21.30it/s]"
     ]
    },
    {
     "name": "stdout",
     "output_type": "stream",
     "text": [
      "3999/7500\n",
      "loss: 88.53235479680569\n",
      "AUC: 0.6010999999999999\n"
     ]
    },
    {
     "name": "stderr",
     "output_type": "stream",
     "text": [
      "4504it [03:26, 21.18it/s]"
     ]
    },
    {
     "name": "stdout",
     "output_type": "stream",
     "text": [
      "4499/7500\n",
      "loss: 87.74503738745075\n",
      "AUC: 0.6116999999999998\n"
     ]
    },
    {
     "name": "stderr",
     "output_type": "stream",
     "text": [
      "5004it [03:49, 22.00it/s]"
     ]
    },
    {
     "name": "stdout",
     "output_type": "stream",
     "text": [
      "4999/7500\n",
      "loss: 83.25707562650251\n",
      "AUC: 0.6264999999999997\n"
     ]
    },
    {
     "name": "stderr",
     "output_type": "stream",
     "text": [
      "5504it [04:12, 22.09it/s]"
     ]
    },
    {
     "name": "stdout",
     "output_type": "stream",
     "text": [
      "5499/7500\n",
      "loss: 82.12260034824007\n",
      "AUC: 0.6226999999999991\n"
     ]
    },
    {
     "name": "stderr",
     "output_type": "stream",
     "text": [
      "6003it [04:34, 22.18it/s]"
     ]
    },
    {
     "name": "stdout",
     "output_type": "stream",
     "text": [
      "5999/7500\n",
      "loss: 79.81171854577501\n",
      "AUC: 0.6344999999999996\n"
     ]
    },
    {
     "name": "stderr",
     "output_type": "stream",
     "text": [
      "6503it [04:57, 21.26it/s]"
     ]
    },
    {
     "name": "stdout",
     "output_type": "stream",
     "text": [
      "6499/7500\n",
      "loss: 80.45356624903484\n",
      "AUC: 0.6310999999999999\n"
     ]
    },
    {
     "name": "stderr",
     "output_type": "stream",
     "text": [
      "7003it [05:20, 21.95it/s]"
     ]
    },
    {
     "name": "stdout",
     "output_type": "stream",
     "text": [
      "6999/7500\n",
      "loss: 72.88778276304055\n",
      "AUC: 0.6477999999999996\n"
     ]
    },
    {
     "name": "stderr",
     "output_type": "stream",
     "text": [
      "7500it [05:43, 21.85it/s]"
     ]
    },
    {
     "name": "stdout",
     "output_type": "stream",
     "text": [
      "7499/7500\n",
      "loss: 74.56478132348354\n",
      "AUC: 0.6486999999999999\n",
      "-----EPOCH 0 VALIDATION ACC %-----\n"
     ]
    },
    {
     "name": "stderr",
     "output_type": "stream",
     "text": [
      "\n",
      "1250it [00:56, 21.95it/s]"
     ]
    },
    {
     "name": "stdout",
     "output_type": "stream",
     "text": [
      "tensor(0.6046, device='cuda:0')\n",
      "Epoch: 1 / 100\n"
     ]
    },
    {
     "name": "stderr",
     "output_type": "stream",
     "text": [
      "\n",
      "5it [00:00, 15.98it/s]"
     ]
    },
    {
     "name": "stdout",
     "output_type": "stream",
     "text": [
      "0/7500\n",
      "loss: 39.81037464110209\n",
      "AUC: 0.75\n"
     ]
    },
    {
     "name": "stderr",
     "output_type": "stream",
     "text": [
      "503it [00:23, 21.37it/s]"
     ]
    },
    {
     "name": "stdout",
     "output_type": "stream",
     "text": [
      "499/7500\n",
      "loss: 71.27638036174693\n",
      "AUC: 0.6458000000000008\n"
     ]
    },
    {
     "name": "stderr",
     "output_type": "stream",
     "text": [
      "1003it [00:45, 22.25it/s]"
     ]
    },
    {
     "name": "stdout",
     "output_type": "stream",
     "text": [
      "999/7500\n",
      "loss: 66.52061881961136\n",
      "AUC: 0.6628000000000004\n"
     ]
    },
    {
     "name": "stderr",
     "output_type": "stream",
     "text": [
      "1504it [01:08, 22.20it/s]"
     ]
    },
    {
     "name": "stdout",
     "output_type": "stream",
     "text": [
      "1499/7500\n",
      "loss: 67.4157700780415\n",
      "AUC: 0.6622000000000002\n"
     ]
    },
    {
     "name": "stderr",
     "output_type": "stream",
     "text": [
      "2002it [01:31, 21.10it/s]"
     ]
    },
    {
     "name": "stdout",
     "output_type": "stream",
     "text": [
      "1999/7500\n",
      "loss: 68.07274493416294\n",
      "AUC: 0.6571999999999999\n"
     ]
    },
    {
     "name": "stderr",
     "output_type": "stream",
     "text": [
      "2504it [01:53, 22.07it/s]"
     ]
    },
    {
     "name": "stdout",
     "output_type": "stream",
     "text": [
      "2499/7500\n",
      "loss: 62.893953569911815\n",
      "AUC: 0.6709000000000004\n"
     ]
    },
    {
     "name": "stderr",
     "output_type": "stream",
     "text": [
      "3004it [02:16, 21.44it/s]"
     ]
    },
    {
     "name": "stdout",
     "output_type": "stream",
     "text": [
      "2999/7500\n",
      "loss: 62.54021933526082\n",
      "AUC: 0.6736999999999999\n"
     ]
    },
    {
     "name": "stderr",
     "output_type": "stream",
     "text": [
      "3502it [02:38, 22.55it/s]"
     ]
    },
    {
     "name": "stdout",
     "output_type": "stream",
     "text": [
      "3499/7500\n",
      "loss: 63.39827730045293\n",
      "AUC: 0.6675000000000002\n"
     ]
    },
    {
     "name": "stderr",
     "output_type": "stream",
     "text": [
      "4003it [03:01, 22.30it/s]"
     ]
    },
    {
     "name": "stdout",
     "output_type": "stream",
     "text": [
      "3999/7500\n",
      "loss: 61.816864279441695\n",
      "AUC: 0.6698000000000001\n"
     ]
    },
    {
     "name": "stderr",
     "output_type": "stream",
     "text": [
      "4504it [03:23, 22.10it/s]"
     ]
    },
    {
     "name": "stdout",
     "output_type": "stream",
     "text": [
      "4499/7500\n",
      "loss: 63.0125246521447\n",
      "AUC: 0.6701000000000003\n"
     ]
    },
    {
     "name": "stderr",
     "output_type": "stream",
     "text": [
      "5004it [03:46, 21.95it/s]"
     ]
    },
    {
     "name": "stdout",
     "output_type": "stream",
     "text": [
      "4999/7500\n",
      "loss: 59.71298256694915\n",
      "AUC: 0.6868\n"
     ]
    },
    {
     "name": "stderr",
     "output_type": "stream",
     "text": [
      "5504it [04:08, 23.28it/s]"
     ]
    },
    {
     "name": "stdout",
     "output_type": "stream",
     "text": [
      "5499/7500\n",
      "loss: 62.433705039445385\n",
      "AUC: 0.6692999999999997\n"
     ]
    },
    {
     "name": "stderr",
     "output_type": "stream",
     "text": [
      "6004it [04:31, 21.75it/s]"
     ]
    },
    {
     "name": "stdout",
     "output_type": "stream",
     "text": [
      "5999/7500\n",
      "loss: 61.974874061442385\n",
      "AUC: 0.6623\n"
     ]
    },
    {
     "name": "stderr",
     "output_type": "stream",
     "text": [
      "6502it [04:54, 21.84it/s]"
     ]
    },
    {
     "name": "stdout",
     "output_type": "stream",
     "text": [
      "6499/7500\n",
      "loss: 60.124769140427816\n",
      "AUC: 0.6738000000000001\n"
     ]
    },
    {
     "name": "stderr",
     "output_type": "stream",
     "text": [
      "7003it [05:16, 22.12it/s]"
     ]
    },
    {
     "name": "stdout",
     "output_type": "stream",
     "text": [
      "6999/7500\n",
      "loss: 57.467347473095025\n",
      "AUC: 0.6810000000000003\n"
     ]
    },
    {
     "name": "stderr",
     "output_type": "stream",
     "text": [
      "7500it [05:39, 22.11it/s]"
     ]
    },
    {
     "name": "stdout",
     "output_type": "stream",
     "text": [
      "7499/7500\n",
      "loss: 62.24851612680923\n",
      "AUC: 0.6615999999999995\n",
      "-----EPOCH 1 VALIDATION ACC %-----\n"
     ]
    },
    {
     "name": "stderr",
     "output_type": "stream",
     "text": [
      "\n",
      "1250it [00:57, 21.77it/s]"
     ]
    },
    {
     "name": "stdout",
     "output_type": "stream",
     "text": [
      "tensor(0.6237, device='cuda:0')\n",
      "Epoch: 2 / 100\n"
     ]
    },
    {
     "name": "stderr",
     "output_type": "stream",
     "text": [
      "\n",
      "4it [00:00, 16.14it/s]"
     ]
    },
    {
     "name": "stdout",
     "output_type": "stream",
     "text": [
      "0/7500\n",
      "loss: 29.80728405995626\n",
      "AUC: 0.75\n"
     ]
    },
    {
     "name": "stderr",
     "output_type": "stream",
     "text": [
      "505it [00:23, 23.79it/s]"
     ]
    },
    {
     "name": "stdout",
     "output_type": "stream",
     "text": [
      "499/7500\n",
      "loss: 55.978709546671915\n",
      "AUC: 0.6771000000000004\n"
     ]
    },
    {
     "name": "stderr",
     "output_type": "stream",
     "text": [
      "1003it [00:45, 21.75it/s]"
     ]
    },
    {
     "name": "stdout",
     "output_type": "stream",
     "text": [
      "999/7500\n",
      "loss: 54.48592064515425\n",
      "AUC: 0.6850999999999994\n"
     ]
    },
    {
     "name": "stderr",
     "output_type": "stream",
     "text": [
      "1502it [01:08, 22.20it/s]"
     ]
    },
    {
     "name": "stdout",
     "output_type": "stream",
     "text": [
      "1499/7500\n",
      "loss: 56.04498695498751\n",
      "AUC: 0.681\n"
     ]
    },
    {
     "name": "stderr",
     "output_type": "stream",
     "text": [
      "2003it [01:31, 22.46it/s]"
     ]
    },
    {
     "name": "stdout",
     "output_type": "stream",
     "text": [
      "1999/7500\n",
      "loss: 55.14353010935851\n",
      "AUC: 0.6877999999999994\n"
     ]
    },
    {
     "name": "stderr",
     "output_type": "stream",
     "text": [
      "2501it [01:54, 23.51it/s]"
     ]
    },
    {
     "name": "stdout",
     "output_type": "stream",
     "text": [
      "2499/7500\n",
      "loss: 53.8372165141339\n",
      "AUC: 0.6830000000000003\n"
     ]
    },
    {
     "name": "stderr",
     "output_type": "stream",
     "text": [
      "3004it [02:17, 20.73it/s]"
     ]
    },
    {
     "name": "stdout",
     "output_type": "stream",
     "text": [
      "2999/7500\n",
      "loss: 51.91164155265853\n",
      "AUC: 0.6910000000000004\n"
     ]
    },
    {
     "name": "stderr",
     "output_type": "stream",
     "text": [
      "3503it [02:39, 22.17it/s]"
     ]
    },
    {
     "name": "stdout",
     "output_type": "stream",
     "text": [
      "3499/7500\n",
      "loss: 52.62693345041365\n",
      "AUC: 0.6789999999999999\n"
     ]
    },
    {
     "name": "stderr",
     "output_type": "stream",
     "text": [
      "4004it [03:02, 22.36it/s]"
     ]
    },
    {
     "name": "stdout",
     "output_type": "stream",
     "text": [
      "3999/7500\n",
      "loss: 51.83880832366421\n",
      "AUC: 0.6843000000000001\n"
     ]
    },
    {
     "name": "stderr",
     "output_type": "stream",
     "text": [
      "4504it [03:25, 23.19it/s]"
     ]
    },
    {
     "name": "stdout",
     "output_type": "stream",
     "text": [
      "4499/7500\n",
      "loss: 52.52898934234105\n",
      "AUC: 0.6816\n"
     ]
    },
    {
     "name": "stderr",
     "output_type": "stream",
     "text": [
      "5004it [03:47, 22.03it/s]"
     ]
    },
    {
     "name": "stdout",
     "output_type": "stream",
     "text": [
      "4999/7500\n",
      "loss: 50.16973784284242\n",
      "AUC: 0.6948999999999996\n"
     ]
    },
    {
     "name": "stderr",
     "output_type": "stream",
     "text": [
      "5504it [04:10, 22.13it/s]"
     ]
    },
    {
     "name": "stdout",
     "output_type": "stream",
     "text": [
      "5499/7500\n",
      "loss: 52.086988772351646\n",
      "AUC: 0.6858000000000004\n"
     ]
    },
    {
     "name": "stderr",
     "output_type": "stream",
     "text": [
      "6005it [04:32, 23.67it/s]"
     ]
    },
    {
     "name": "stdout",
     "output_type": "stream",
     "text": [
      "5999/7500\n",
      "loss: 50.66720650731717\n",
      "AUC: 0.6896\n"
     ]
    },
    {
     "name": "stderr",
     "output_type": "stream",
     "text": [
      "6503it [04:55, 22.46it/s]"
     ]
    },
    {
     "name": "stdout",
     "output_type": "stream",
     "text": [
      "6499/7500\n",
      "loss: 52.40658549756572\n",
      "AUC: 0.6798000000000006\n"
     ]
    },
    {
     "name": "stderr",
     "output_type": "stream",
     "text": [
      "7004it [05:18, 21.41it/s]"
     ]
    },
    {
     "name": "stdout",
     "output_type": "stream",
     "text": [
      "6999/7500\n",
      "loss: 50.10495459343165\n",
      "AUC: 0.6879000000000001\n"
     ]
    },
    {
     "name": "stderr",
     "output_type": "stream",
     "text": [
      "7500it [05:40, 22.02it/s]"
     ]
    },
    {
     "name": "stdout",
     "output_type": "stream",
     "text": [
      "7499/7500\n",
      "loss: 50.13549989647938\n",
      "AUC: 0.6848999999999996\n",
      "-----EPOCH 2 VALIDATION ACC %-----\n"
     ]
    },
    {
     "name": "stderr",
     "output_type": "stream",
     "text": [
      "\n",
      "1250it [00:57, 21.74it/s]"
     ]
    },
    {
     "name": "stdout",
     "output_type": "stream",
     "text": [
      "tensor(0.6404, device='cuda:0')\n",
      "Epoch: 3 / 100\n"
     ]
    },
    {
     "name": "stderr",
     "output_type": "stream",
     "text": [
      "\n",
      "4it [00:00, 14.60it/s]"
     ]
    },
    {
     "name": "stdout",
     "output_type": "stream",
     "text": [
      "0/7500\n",
      "loss: 36.127075604246286\n",
      "AUC: 0.7000000000000001\n"
     ]
    },
    {
     "name": "stderr",
     "output_type": "stream",
     "text": [
      "503it [00:23, 22.77it/s]"
     ]
    },
    {
     "name": "stdout",
     "output_type": "stream",
     "text": [
      "499/7500\n",
      "loss: 48.325197699672394\n",
      "AUC: 0.6861999999999997\n"
     ]
    },
    {
     "name": "stderr",
     "output_type": "stream",
     "text": [
      "1004it [00:46, 21.15it/s]"
     ]
    },
    {
     "name": "stdout",
     "output_type": "stream",
     "text": [
      "999/7500\n",
      "loss: 46.60271669804402\n",
      "AUC: 0.6940999999999992\n"
     ]
    },
    {
     "name": "stderr",
     "output_type": "stream",
     "text": [
      "1504it [01:08, 20.99it/s]"
     ]
    },
    {
     "name": "stdout",
     "output_type": "stream",
     "text": [
      "1499/7500\n",
      "loss: 45.97633755307365\n",
      "AUC: 0.6967000000000008\n"
     ]
    },
    {
     "name": "stderr",
     "output_type": "stream",
     "text": [
      "2004it [01:31, 21.52it/s]"
     ]
    },
    {
     "name": "stdout",
     "output_type": "stream",
     "text": [
      "1999/7500\n",
      "loss: 47.0424916586093\n",
      "AUC: 0.6843000000000001\n"
     ]
    },
    {
     "name": "stderr",
     "output_type": "stream",
     "text": [
      "2503it [01:54, 22.60it/s]"
     ]
    },
    {
     "name": "stdout",
     "output_type": "stream",
     "text": [
      "2499/7500\n",
      "loss: 44.478657348618604\n",
      "AUC: 0.6983999999999996\n"
     ]
    },
    {
     "name": "stderr",
     "output_type": "stream",
     "text": [
      "3003it [02:17, 22.61it/s]"
     ]
    },
    {
     "name": "stdout",
     "output_type": "stream",
     "text": [
      "2999/7500\n",
      "loss: 43.3145274966946\n",
      "AUC: 0.6984\n"
     ]
    },
    {
     "name": "stderr",
     "output_type": "stream",
     "text": [
      "3504it [02:39, 22.72it/s]"
     ]
    },
    {
     "name": "stdout",
     "output_type": "stream",
     "text": [
      "3499/7500\n",
      "loss: 45.62272525460078\n",
      "AUC: 0.6874999999999993\n"
     ]
    },
    {
     "name": "stderr",
     "output_type": "stream",
     "text": [
      "4002it [03:02, 22.18it/s]"
     ]
    },
    {
     "name": "stdout",
     "output_type": "stream",
     "text": [
      "3999/7500\n",
      "loss: 44.017313713661295\n",
      "AUC: 0.6964000000000002\n"
     ]
    },
    {
     "name": "stderr",
     "output_type": "stream",
     "text": [
      "4501it [03:24, 22.11it/s]"
     ]
    },
    {
     "name": "stdout",
     "output_type": "stream",
     "text": [
      "4499/7500\n",
      "loss: 44.34204348486751\n",
      "AUC: 0.6937000000000001\n"
     ]
    },
    {
     "name": "stderr",
     "output_type": "stream",
     "text": [
      "5004it [03:47, 21.84it/s]"
     ]
    },
    {
     "name": "stdout",
     "output_type": "stream",
     "text": [
      "4999/7500\n",
      "loss: 43.779066142877355\n",
      "AUC: 0.6941000000000008\n"
     ]
    },
    {
     "name": "stderr",
     "output_type": "stream",
     "text": [
      "5503it [04:10, 22.94it/s]"
     ]
    },
    {
     "name": "stdout",
     "output_type": "stream",
     "text": [
      "5499/7500\n",
      "loss: 44.53795480030637\n",
      "AUC: 0.6948999999999995\n"
     ]
    },
    {
     "name": "stderr",
     "output_type": "stream",
     "text": [
      "6004it [04:32, 21.84it/s]"
     ]
    },
    {
     "name": "stdout",
     "output_type": "stream",
     "text": [
      "5999/7500\n",
      "loss: 42.643765614736374\n",
      "AUC: 0.6968000000000005\n"
     ]
    },
    {
     "name": "stderr",
     "output_type": "stream",
     "text": [
      "6504it [04:55, 21.70it/s]"
     ]
    },
    {
     "name": "stdout",
     "output_type": "stream",
     "text": [
      "6499/7500\n",
      "loss: 42.8490138259529\n",
      "AUC: 0.6947000000000002\n"
     ]
    },
    {
     "name": "stderr",
     "output_type": "stream",
     "text": [
      "7002it [05:18, 20.13it/s]"
     ]
    },
    {
     "name": "stdout",
     "output_type": "stream",
     "text": [
      "6999/7500\n",
      "loss: 42.874479708704705\n",
      "AUC: 0.6893999999999991\n"
     ]
    },
    {
     "name": "stderr",
     "output_type": "stream",
     "text": [
      "7500it [05:40, 22.02it/s]"
     ]
    },
    {
     "name": "stdout",
     "output_type": "stream",
     "text": [
      "7499/7500\n",
      "loss: 44.1272217486266\n",
      "AUC: 0.6807000000000003\n",
      "-----EPOCH 3 VALIDATION ACC %-----\n"
     ]
    },
    {
     "name": "stderr",
     "output_type": "stream",
     "text": [
      "\n",
      "1250it [00:57, 21.85it/s]"
     ]
    },
    {
     "name": "stdout",
     "output_type": "stream",
     "text": [
      "tensor(0.6326, device='cuda:0')\n",
      "Epoch: 4 / 100\n"
     ]
    },
    {
     "name": "stderr",
     "output_type": "stream",
     "text": [
      "\n",
      "4it [00:00, 15.99it/s]"
     ]
    },
    {
     "name": "stdout",
     "output_type": "stream",
     "text": [
      "0/7500\n",
      "loss: 34.552996359963004\n",
      "AUC: 0.7000000000000001\n"
     ]
    },
    {
     "name": "stderr",
     "output_type": "stream",
     "text": [
      "502it [00:23, 22.19it/s]"
     ]
    },
    {
     "name": "stdout",
     "output_type": "stream",
     "text": [
      "499/7500\n",
      "loss: 41.31839591476288\n",
      "AUC: 0.6976999999999997\n"
     ]
    },
    {
     "name": "stderr",
     "output_type": "stream",
     "text": [
      "1004it [00:45, 21.83it/s]"
     ]
    },
    {
     "name": "stdout",
     "output_type": "stream",
     "text": [
      "999/7500\n",
      "loss: 39.70302308970494\n",
      "AUC: 0.6992999999999999\n"
     ]
    },
    {
     "name": "stderr",
     "output_type": "stream",
     "text": [
      "1504it [01:08, 23.12it/s]"
     ]
    },
    {
     "name": "stdout",
     "output_type": "stream",
     "text": [
      "1499/7500\n",
      "loss: 39.35302791462109\n",
      "AUC: 0.7056000000000003\n"
     ]
    },
    {
     "name": "stderr",
     "output_type": "stream",
     "text": [
      "2003it [01:31, 21.76it/s]"
     ]
    },
    {
     "name": "stdout",
     "output_type": "stream",
     "text": [
      "1999/7500\n",
      "loss: 39.83796396455251\n",
      "AUC: 0.7026999999999997\n"
     ]
    },
    {
     "name": "stderr",
     "output_type": "stream",
     "text": [
      "2503it [01:54, 21.27it/s]"
     ]
    },
    {
     "name": "stdout",
     "output_type": "stream",
     "text": [
      "2499/7500\n",
      "loss: 39.181394039697516\n",
      "AUC: 0.7043000000000008\n"
     ]
    },
    {
     "name": "stderr",
     "output_type": "stream",
     "text": [
      "3004it [02:17, 22.87it/s]"
     ]
    },
    {
     "name": "stdout",
     "output_type": "stream",
     "text": [
      "2999/7500\n",
      "loss: 37.93935906785409\n",
      "AUC: 0.7077999999999999\n"
     ]
    },
    {
     "name": "stderr",
     "output_type": "stream",
     "text": [
      "3502it [02:39, 22.22it/s]"
     ]
    },
    {
     "name": "stdout",
     "output_type": "stream",
     "text": [
      "3499/7500\n",
      "loss: 37.94318002097369\n",
      "AUC: 0.7008999999999996\n"
     ]
    },
    {
     "name": "stderr",
     "output_type": "stream",
     "text": [
      "4004it [03:02, 22.19it/s]"
     ]
    },
    {
     "name": "stdout",
     "output_type": "stream",
     "text": [
      "3999/7500\n",
      "loss: 38.09571717114601\n",
      "AUC: 0.7064000000000002\n"
     ]
    },
    {
     "name": "stderr",
     "output_type": "stream",
     "text": [
      "4502it [03:25, 22.06it/s]"
     ]
    },
    {
     "name": "stdout",
     "output_type": "stream",
     "text": [
      "4499/7500\n",
      "loss: 39.849603159941054\n",
      "AUC: 0.6958999999999995\n"
     ]
    },
    {
     "name": "stderr",
     "output_type": "stream",
     "text": [
      "5002it [03:47, 20.86it/s]"
     ]
    },
    {
     "name": "stdout",
     "output_type": "stream",
     "text": [
      "4999/7500\n",
      "loss: 37.79995462310443\n",
      "AUC: 0.7087999999999998\n"
     ]
    },
    {
     "name": "stderr",
     "output_type": "stream",
     "text": [
      "5504it [04:10, 22.24it/s]"
     ]
    },
    {
     "name": "stdout",
     "output_type": "stream",
     "text": [
      "5499/7500\n",
      "loss: 38.21511332612021\n",
      "AUC: 0.6946\n"
     ]
    },
    {
     "name": "stderr",
     "output_type": "stream",
     "text": [
      "6004it [04:33, 21.49it/s]"
     ]
    },
    {
     "name": "stdout",
     "output_type": "stream",
     "text": [
      "5999/7500\n",
      "loss: 36.7092746729963\n",
      "AUC: 0.7086000000000001\n"
     ]
    },
    {
     "name": "stderr",
     "output_type": "stream",
     "text": [
      "6503it [04:55, 22.60it/s]"
     ]
    },
    {
     "name": "stdout",
     "output_type": "stream",
     "text": [
      "6499/7500\n",
      "loss: 38.52975104105417\n",
      "AUC: 0.6970000000000004\n"
     ]
    },
    {
     "name": "stderr",
     "output_type": "stream",
     "text": [
      "7001it [05:18, 21.58it/s]"
     ]
    },
    {
     "name": "stdout",
     "output_type": "stream",
     "text": [
      "6999/7500\n",
      "loss: 35.64806044959496\n",
      "AUC: 0.7074999999999999\n"
     ]
    },
    {
     "name": "stderr",
     "output_type": "stream",
     "text": [
      "7500it [05:41, 21.98it/s]"
     ]
    },
    {
     "name": "stdout",
     "output_type": "stream",
     "text": [
      "7499/7500\n",
      "loss: 37.51221204659701\n",
      "AUC: 0.7004999999999999\n",
      "-----EPOCH 4 VALIDATION ACC %-----\n"
     ]
    },
    {
     "name": "stderr",
     "output_type": "stream",
     "text": [
      "\n",
      "1250it [00:57, 21.76it/s]"
     ]
    },
    {
     "name": "stdout",
     "output_type": "stream",
     "text": [
      "tensor(0.6225, device='cuda:0')\n",
      "Epoch: 5 / 100\n"
     ]
    },
    {
     "name": "stderr",
     "output_type": "stream",
     "text": [
      "\n",
      "4it [00:00, 16.36it/s]"
     ]
    },
    {
     "name": "stdout",
     "output_type": "stream",
     "text": [
      "0/7500\n",
      "loss: 28.776236853780304\n",
      "AUC: 0.75\n"
     ]
    },
    {
     "name": "stderr",
     "output_type": "stream",
     "text": [
      "501it [00:23, 20.68it/s]"
     ]
    },
    {
     "name": "stdout",
     "output_type": "stream",
     "text": [
      "499/7500\n",
      "loss: 36.80494930262551\n",
      "AUC: 0.6986\n"
     ]
    },
    {
     "name": "stderr",
     "output_type": "stream",
     "text": [
      "1003it [00:46, 21.56it/s]"
     ]
    },
    {
     "name": "stdout",
     "output_type": "stream",
     "text": [
      "999/7500\n",
      "loss: 34.54640669544318\n",
      "AUC: 0.7088999999999999\n"
     ]
    },
    {
     "name": "stderr",
     "output_type": "stream",
     "text": [
      "1503it [01:08, 23.51it/s]"
     ]
    },
    {
     "name": "stdout",
     "output_type": "stream",
     "text": [
      "1499/7500\n",
      "loss: 34.28665415211216\n",
      "AUC: 0.7088000000000001\n"
     ]
    },
    {
     "name": "stderr",
     "output_type": "stream",
     "text": [
      "2004it [01:31, 21.13it/s]"
     ]
    },
    {
     "name": "stdout",
     "output_type": "stream",
     "text": [
      "1999/7500\n",
      "loss: 34.587494528817\n",
      "AUC: 0.7032000000000002\n"
     ]
    },
    {
     "name": "stderr",
     "output_type": "stream",
     "text": [
      "2504it [01:54, 21.56it/s]"
     ]
    },
    {
     "name": "stdout",
     "output_type": "stream",
     "text": [
      "2499/7500\n",
      "loss: 33.890476315585275\n",
      "AUC: 0.7055999999999998\n"
     ]
    },
    {
     "name": "stderr",
     "output_type": "stream",
     "text": [
      "3002it [02:16, 20.71it/s]"
     ]
    },
    {
     "name": "stdout",
     "output_type": "stream",
     "text": [
      "2999/7500\n",
      "loss: 33.2493469148613\n",
      "AUC: 0.7130999999999998\n"
     ]
    },
    {
     "name": "stderr",
     "output_type": "stream",
     "text": [
      "3504it [02:39, 21.59it/s]"
     ]
    },
    {
     "name": "stdout",
     "output_type": "stream",
     "text": [
      "3499/7500\n",
      "loss: 34.21984659155445\n",
      "AUC: 0.7132000000000005\n"
     ]
    },
    {
     "name": "stderr",
     "output_type": "stream",
     "text": [
      "4003it [03:02, 22.34it/s]"
     ]
    },
    {
     "name": "stdout",
     "output_type": "stream",
     "text": [
      "3999/7500\n",
      "loss: 33.0345187789148\n",
      "AUC: 0.7208000000000001\n"
     ]
    },
    {
     "name": "stderr",
     "output_type": "stream",
     "text": [
      "4504it [03:25, 22.44it/s]"
     ]
    },
    {
     "name": "stdout",
     "output_type": "stream",
     "text": [
      "4499/7500\n",
      "loss: 33.992669882011896\n",
      "AUC: 0.6984999999999996\n"
     ]
    },
    {
     "name": "stderr",
     "output_type": "stream",
     "text": [
      "5004it [03:47, 21.93it/s]"
     ]
    },
    {
     "name": "stdout",
     "output_type": "stream",
     "text": [
      "4999/7500\n",
      "loss: 31.18645666196381\n",
      "AUC: 0.7252999999999998\n"
     ]
    },
    {
     "name": "stderr",
     "output_type": "stream",
     "text": [
      "5502it [04:10, 22.07it/s]"
     ]
    },
    {
     "name": "stdout",
     "output_type": "stream",
     "text": [
      "5499/7500\n",
      "loss: 33.29838702560942\n",
      "AUC: 0.7083000000000004\n"
     ]
    },
    {
     "name": "stderr",
     "output_type": "stream",
     "text": [
      "6002it [04:33, 21.79it/s]"
     ]
    },
    {
     "name": "stdout",
     "output_type": "stream",
     "text": [
      "5999/7500\n",
      "loss: 33.07072688486383\n",
      "AUC: 0.7103000000000006\n"
     ]
    },
    {
     "name": "stderr",
     "output_type": "stream",
     "text": [
      "6504it [04:55, 22.31it/s]"
     ]
    },
    {
     "name": "stdout",
     "output_type": "stream",
     "text": [
      "6499/7500\n",
      "loss: 31.851292728404175\n",
      "AUC: 0.7108999999999995\n"
     ]
    },
    {
     "name": "stderr",
     "output_type": "stream",
     "text": [
      "7001it [05:18, 21.78it/s]"
     ]
    },
    {
     "name": "stdout",
     "output_type": "stream",
     "text": [
      "6999/7500\n",
      "loss: 31.962673807356712\n",
      "AUC: 0.7176999999999997\n"
     ]
    },
    {
     "name": "stderr",
     "output_type": "stream",
     "text": [
      "7500it [05:40, 22.00it/s]"
     ]
    },
    {
     "name": "stdout",
     "output_type": "stream",
     "text": [
      "7499/7500\n",
      "loss: 31.489984743219043\n",
      "AUC: 0.7151000000000003\n",
      "-----EPOCH 5 VALIDATION ACC %-----\n"
     ]
    },
    {
     "name": "stderr",
     "output_type": "stream",
     "text": [
      "\n",
      "1250it [00:57, 21.67it/s]"
     ]
    },
    {
     "name": "stdout",
     "output_type": "stream",
     "text": [
      "tensor(0.6396, device='cuda:0')\n",
      "Epoch: 6 / 100\n"
     ]
    },
    {
     "name": "stderr",
     "output_type": "stream",
     "text": [
      "\n",
      "4it [00:00, 14.68it/s]"
     ]
    },
    {
     "name": "stdout",
     "output_type": "stream",
     "text": [
      "0/7500\n",
      "loss: 13.91748123092309\n",
      "AUC: 0.75\n"
     ]
    },
    {
     "name": "stderr",
     "output_type": "stream",
     "text": [
      "503it [00:23, 21.91it/s]"
     ]
    },
    {
     "name": "stdout",
     "output_type": "stream",
     "text": [
      "499/7500\n",
      "loss: 31.86166607626414\n",
      "AUC: 0.7083000000000005\n"
     ]
    },
    {
     "name": "stderr",
     "output_type": "stream",
     "text": [
      "1002it [00:46, 21.81it/s]"
     ]
    },
    {
     "name": "stdout",
     "output_type": "stream",
     "text": [
      "999/7500\n",
      "loss: 31.51255852720766\n",
      "AUC: 0.7125000000000002\n"
     ]
    },
    {
     "name": "stderr",
     "output_type": "stream",
     "text": [
      "1504it [01:08, 22.42it/s]"
     ]
    },
    {
     "name": "stdout",
     "output_type": "stream",
     "text": [
      "1499/7500\n",
      "loss: 31.890976531667146\n",
      "AUC: 0.7130000000000005\n"
     ]
    },
    {
     "name": "stderr",
     "output_type": "stream",
     "text": [
      "2001it [01:31, 21.72it/s]"
     ]
    },
    {
     "name": "stdout",
     "output_type": "stream",
     "text": [
      "1999/7500\n",
      "loss: 31.023348193148106\n",
      "AUC: 0.7072999999999996\n"
     ]
    },
    {
     "name": "stderr",
     "output_type": "stream",
     "text": [
      "2504it [01:54, 22.72it/s]"
     ]
    },
    {
     "name": "stdout",
     "output_type": "stream",
     "text": [
      "2499/7500\n",
      "loss: 29.396414907125546\n",
      "AUC: 0.7266999999999998\n"
     ]
    },
    {
     "name": "stderr",
     "output_type": "stream",
     "text": [
      "3004it [02:17, 22.40it/s]"
     ]
    },
    {
     "name": "stdout",
     "output_type": "stream",
     "text": [
      "2999/7500\n",
      "loss: 28.489268188954703\n",
      "AUC: 0.7296999999999993\n"
     ]
    },
    {
     "name": "stderr",
     "output_type": "stream",
     "text": [
      "3503it [02:39, 23.49it/s]"
     ]
    },
    {
     "name": "stdout",
     "output_type": "stream",
     "text": [
      "3499/7500\n",
      "loss: 30.09806865254054\n",
      "AUC: 0.7101\n"
     ]
    },
    {
     "name": "stderr",
     "output_type": "stream",
     "text": [
      "4004it [03:02, 22.31it/s]"
     ]
    },
    {
     "name": "stdout",
     "output_type": "stream",
     "text": [
      "3999/7500\n",
      "loss: 29.777975535550404\n",
      "AUC: 0.7165999999999995\n"
     ]
    },
    {
     "name": "stderr",
     "output_type": "stream",
     "text": [
      "4502it [03:24, 22.13it/s]"
     ]
    },
    {
     "name": "stdout",
     "output_type": "stream",
     "text": [
      "4499/7500\n",
      "loss: 29.988361847322892\n",
      "AUC: 0.7144999999999999\n"
     ]
    },
    {
     "name": "stderr",
     "output_type": "stream",
     "text": [
      "5003it [03:47, 22.09it/s]"
     ]
    },
    {
     "name": "stdout",
     "output_type": "stream",
     "text": [
      "4999/7500\n",
      "loss: 29.025272908508178\n",
      "AUC: 0.7172\n"
     ]
    },
    {
     "name": "stderr",
     "output_type": "stream",
     "text": [
      "5504it [04:10, 22.67it/s]"
     ]
    },
    {
     "name": "stdout",
     "output_type": "stream",
     "text": [
      "5499/7500\n",
      "loss: 30.197636848356396\n",
      "AUC: 0.7078999999999988\n"
     ]
    },
    {
     "name": "stderr",
     "output_type": "stream",
     "text": [
      "6002it [04:32, 21.88it/s]"
     ]
    },
    {
     "name": "stdout",
     "output_type": "stream",
     "text": [
      "5999/7500\n",
      "loss: 27.991775738755972\n",
      "AUC: 0.7200999999999997\n"
     ]
    },
    {
     "name": "stderr",
     "output_type": "stream",
     "text": [
      "6504it [04:55, 21.23it/s]"
     ]
    },
    {
     "name": "stdout",
     "output_type": "stream",
     "text": [
      "6499/7500\n",
      "loss: 29.190779080097716\n",
      "AUC: 0.7133000000000004\n"
     ]
    },
    {
     "name": "stderr",
     "output_type": "stream",
     "text": [
      "7003it [05:18, 21.24it/s]"
     ]
    },
    {
     "name": "stdout",
     "output_type": "stream",
     "text": [
      "6999/7500\n",
      "loss: 28.772295272418756\n",
      "AUC: 0.7112999999999993\n"
     ]
    },
    {
     "name": "stderr",
     "output_type": "stream",
     "text": [
      "7500it [05:40, 22.02it/s]"
     ]
    },
    {
     "name": "stdout",
     "output_type": "stream",
     "text": [
      "7499/7500\n",
      "loss: 28.50639593387053\n",
      "AUC: 0.7165000000000001\n",
      "-----EPOCH 6 VALIDATION ACC %-----\n"
     ]
    },
    {
     "name": "stderr",
     "output_type": "stream",
     "text": [
      "\n",
      "1250it [00:56, 21.95it/s]"
     ]
    },
    {
     "name": "stdout",
     "output_type": "stream",
     "text": [
      "tensor(0.6361, device='cuda:0')\n",
      "Epoch: 7 / 100\n"
     ]
    },
    {
     "name": "stderr",
     "output_type": "stream",
     "text": [
      "\n",
      "4it [00:00, 16.47it/s]"
     ]
    },
    {
     "name": "stdout",
     "output_type": "stream",
     "text": [
      "0/7500\n",
      "loss: 33.39602730937887\n",
      "AUC: 0.8\n"
     ]
    },
    {
     "name": "stderr",
     "output_type": "stream",
     "text": [
      "503it [00:23, 22.07it/s]"
     ]
    },
    {
     "name": "stdout",
     "output_type": "stream",
     "text": [
      "499/7500\n",
      "loss: 27.483237849141528\n",
      "AUC: 0.7181999999999987\n"
     ]
    },
    {
     "name": "stderr",
     "output_type": "stream",
     "text": [
      "1004it [00:46, 21.43it/s]"
     ]
    },
    {
     "name": "stdout",
     "output_type": "stream",
     "text": [
      "999/7500\n",
      "loss: 28.146619586332534\n",
      "AUC: 0.7201999999999992\n"
     ]
    },
    {
     "name": "stderr",
     "output_type": "stream",
     "text": [
      "1501it [01:08, 22.22it/s]"
     ]
    },
    {
     "name": "stdout",
     "output_type": "stream",
     "text": [
      "1499/7500\n",
      "loss: 26.077978534770157\n",
      "AUC: 0.7246999999999999\n"
     ]
    },
    {
     "name": "stderr",
     "output_type": "stream",
     "text": [
      "2003it [01:31, 22.38it/s]"
     ]
    },
    {
     "name": "stdout",
     "output_type": "stream",
     "text": [
      "1999/7500\n",
      "loss: 26.91964178522447\n",
      "AUC: 0.7161000000000004\n"
     ]
    },
    {
     "name": "stderr",
     "output_type": "stream",
     "text": [
      "2504it [01:53, 23.59it/s]"
     ]
    },
    {
     "name": "stdout",
     "output_type": "stream",
     "text": [
      "2499/7500\n",
      "loss: 26.872560134979782\n",
      "AUC: 0.7191999999999998\n"
     ]
    },
    {
     "name": "stderr",
     "output_type": "stream",
     "text": [
      "3004it [02:16, 22.52it/s]"
     ]
    },
    {
     "name": "stdout",
     "output_type": "stream",
     "text": [
      "2999/7500\n",
      "loss: 26.23112791260232\n",
      "AUC: 0.7323000000000008\n"
     ]
    },
    {
     "name": "stderr",
     "output_type": "stream",
     "text": [
      "3502it [02:38, 21.91it/s]"
     ]
    },
    {
     "name": "stdout",
     "output_type": "stream",
     "text": [
      "3499/7500\n",
      "loss: 26.780784813272167\n",
      "AUC: 0.7207999999999999\n"
     ]
    },
    {
     "name": "stderr",
     "output_type": "stream",
     "text": [
      "4002it [03:01, 22.12it/s]"
     ]
    },
    {
     "name": "stdout",
     "output_type": "stream",
     "text": [
      "3999/7500\n",
      "loss: 26.03725969410038\n",
      "AUC: 0.7267999999999998\n"
     ]
    },
    {
     "name": "stderr",
     "output_type": "stream",
     "text": [
      "4503it [03:24, 21.98it/s]"
     ]
    },
    {
     "name": "stdout",
     "output_type": "stream",
     "text": [
      "4499/7500\n",
      "loss: 25.755328917225015\n",
      "AUC: 0.7211\n"
     ]
    },
    {
     "name": "stderr",
     "output_type": "stream",
     "text": [
      "5003it [03:47, 20.62it/s]"
     ]
    },
    {
     "name": "stdout",
     "output_type": "stream",
     "text": [
      "4999/7500\n",
      "loss: 25.5132328983401\n",
      "AUC: 0.7246\n"
     ]
    },
    {
     "name": "stderr",
     "output_type": "stream",
     "text": [
      "5503it [04:09, 22.65it/s]"
     ]
    },
    {
     "name": "stdout",
     "output_type": "stream",
     "text": [
      "5499/7500\n",
      "loss: 26.040548822074317\n",
      "AUC: 0.7217000000000008\n"
     ]
    },
    {
     "name": "stderr",
     "output_type": "stream",
     "text": [
      "6001it [04:32, 22.13it/s]"
     ]
    },
    {
     "name": "stdout",
     "output_type": "stream",
     "text": [
      "5999/7500\n",
      "loss: 25.746409820387033\n",
      "AUC: 0.727999999999999\n"
     ]
    },
    {
     "name": "stderr",
     "output_type": "stream",
     "text": [
      "6503it [04:54, 21.89it/s]"
     ]
    },
    {
     "name": "stdout",
     "output_type": "stream",
     "text": [
      "6499/7500\n",
      "loss: 25.93993092584236\n",
      "AUC: 0.7155\n"
     ]
    },
    {
     "name": "stderr",
     "output_type": "stream",
     "text": [
      "7003it [05:17, 21.55it/s]"
     ]
    },
    {
     "name": "stdout",
     "output_type": "stream",
     "text": [
      "6999/7500\n",
      "loss: 24.869123524302683\n",
      "AUC: 0.7283000000000008\n"
     ]
    },
    {
     "name": "stderr",
     "output_type": "stream",
     "text": [
      "7500it [05:40, 22.05it/s]"
     ]
    },
    {
     "name": "stdout",
     "output_type": "stream",
     "text": [
      "7499/7500\n",
      "loss: 25.546991378123792\n",
      "AUC: 0.7203999999999994\n",
      "-----EPOCH 7 VALIDATION ACC %-----\n"
     ]
    },
    {
     "name": "stderr",
     "output_type": "stream",
     "text": [
      "\n",
      "1250it [00:57, 21.81it/s]"
     ]
    },
    {
     "name": "stdout",
     "output_type": "stream",
     "text": [
      "tensor(0.6363, device='cuda:0')\n",
      "Epoch: 8 / 100\n"
     ]
    },
    {
     "name": "stderr",
     "output_type": "stream",
     "text": [
      "\n",
      "4it [00:00, 17.09it/s]"
     ]
    },
    {
     "name": "stdout",
     "output_type": "stream",
     "text": [
      "0/7500\n",
      "loss: 17.93685338598973\n",
      "AUC: 0.75\n"
     ]
    },
    {
     "name": "stderr",
     "output_type": "stream",
     "text": [
      "503it [00:23, 21.18it/s]"
     ]
    },
    {
     "name": "stdout",
     "output_type": "stream",
     "text": [
      "499/7500\n",
      "loss: 25.403896947422382\n",
      "AUC: 0.7192\n"
     ]
    },
    {
     "name": "stderr",
     "output_type": "stream",
     "text": [
      "1001it [00:46, 22.10it/s]"
     ]
    },
    {
     "name": "stdout",
     "output_type": "stream",
     "text": [
      "999/7500\n",
      "loss: 24.311325943853134\n",
      "AUC: 0.7321000000000005\n"
     ]
    },
    {
     "name": "stderr",
     "output_type": "stream",
     "text": [
      "1503it [01:09, 21.96it/s]"
     ]
    },
    {
     "name": "stdout",
     "output_type": "stream",
     "text": [
      "1499/7500\n",
      "loss: 24.30442277234133\n",
      "AUC: 0.7263999999999996\n"
     ]
    },
    {
     "name": "stderr",
     "output_type": "stream",
     "text": [
      "2003it [01:31, 21.99it/s]"
     ]
    },
    {
     "name": "stdout",
     "output_type": "stream",
     "text": [
      "1999/7500\n",
      "loss: 23.429095708628193\n",
      "AUC: 0.7309000000000003\n"
     ]
    },
    {
     "name": "stderr",
     "output_type": "stream",
     "text": [
      "2501it [01:54, 21.35it/s]"
     ]
    },
    {
     "name": "stdout",
     "output_type": "stream",
     "text": [
      "2499/7500\n",
      "loss: 24.10605952912903\n",
      "AUC: 0.7262999999999996\n"
     ]
    },
    {
     "name": "stderr",
     "output_type": "stream",
     "text": [
      "3005it [02:17, 23.43it/s]"
     ]
    },
    {
     "name": "stdout",
     "output_type": "stream",
     "text": [
      "2999/7500\n",
      "loss: 24.534293125574177\n",
      "AUC: 0.7288000000000004\n"
     ]
    },
    {
     "name": "stderr",
     "output_type": "stream",
     "text": [
      "3504it [02:40, 21.84it/s]"
     ]
    },
    {
     "name": "stdout",
     "output_type": "stream",
     "text": [
      "3499/7500\n",
      "loss: 23.2709346904723\n",
      "AUC: 0.7351000000000005\n"
     ]
    },
    {
     "name": "stderr",
     "output_type": "stream",
     "text": [
      "4004it [03:02, 22.02it/s]"
     ]
    },
    {
     "name": "stdout",
     "output_type": "stream",
     "text": [
      "3999/7500\n",
      "loss: 22.836688109070057\n",
      "AUC: 0.7310999999999999\n"
     ]
    },
    {
     "name": "stderr",
     "output_type": "stream",
     "text": [
      "4504it [03:25, 22.40it/s]"
     ]
    },
    {
     "name": "stdout",
     "output_type": "stream",
     "text": [
      "4499/7500\n",
      "loss: 23.858052828691246\n",
      "AUC: 0.7320000000000005\n"
     ]
    },
    {
     "name": "stderr",
     "output_type": "stream",
     "text": [
      "5004it [03:48, 21.44it/s]"
     ]
    },
    {
     "name": "stdout",
     "output_type": "stream",
     "text": [
      "4999/7500\n",
      "loss: 22.69629142701019\n",
      "AUC: 0.7312000000000012\n"
     ]
    },
    {
     "name": "stderr",
     "output_type": "stream",
     "text": [
      "5502it [04:10, 21.95it/s]"
     ]
    },
    {
     "name": "stdout",
     "output_type": "stream",
     "text": [
      "5499/7500\n",
      "loss: 24.281731974856573\n",
      "AUC: 0.7261000000000007\n"
     ]
    },
    {
     "name": "stderr",
     "output_type": "stream",
     "text": [
      "6003it [04:33, 22.26it/s]"
     ]
    },
    {
     "name": "stdout",
     "output_type": "stream",
     "text": [
      "5999/7500\n",
      "loss: 23.314917938558967\n",
      "AUC: 0.7295000000000004\n"
     ]
    },
    {
     "name": "stderr",
     "output_type": "stream",
     "text": [
      "6502it [04:56, 22.22it/s]"
     ]
    },
    {
     "name": "stdout",
     "output_type": "stream",
     "text": [
      "6499/7500\n",
      "loss: 24.679685966585392\n",
      "AUC: 0.7197999999999998\n"
     ]
    },
    {
     "name": "stderr",
     "output_type": "stream",
     "text": [
      "7002it [05:18, 20.91it/s]"
     ]
    },
    {
     "name": "stdout",
     "output_type": "stream",
     "text": [
      "6999/7500\n",
      "loss: 24.04435297553135\n",
      "AUC: 0.7195999999999998\n"
     ]
    },
    {
     "name": "stderr",
     "output_type": "stream",
     "text": [
      "7500it [05:41, 21.97it/s]"
     ]
    },
    {
     "name": "stdout",
     "output_type": "stream",
     "text": [
      "7499/7500\n",
      "loss: 23.449845858471505\n",
      "AUC: 0.7318000000000001\n",
      "-----EPOCH 8 VALIDATION ACC %-----\n"
     ]
    },
    {
     "name": "stderr",
     "output_type": "stream",
     "text": [
      "\n",
      "1250it [00:57, 21.87it/s]"
     ]
    },
    {
     "name": "stdout",
     "output_type": "stream",
     "text": [
      "tensor(0.6456, device='cuda:0')\n",
      "Epoch: 9 / 100\n"
     ]
    },
    {
     "name": "stderr",
     "output_type": "stream",
     "text": [
      "\n",
      "4it [00:00, 15.29it/s]"
     ]
    },
    {
     "name": "stdout",
     "output_type": "stream",
     "text": [
      "0/7500\n",
      "loss: 13.482288714394956\n",
      "AUC: 0.8500000000000001\n"
     ]
    },
    {
     "name": "stderr",
     "output_type": "stream",
     "text": [
      "502it [00:23, 21.43it/s]"
     ]
    },
    {
     "name": "stdout",
     "output_type": "stream",
     "text": [
      "499/7500\n",
      "loss: 22.638720264762537\n",
      "AUC: 0.7298999999999998\n"
     ]
    },
    {
     "name": "stderr",
     "output_type": "stream",
     "text": [
      "972it [00:44, 21.88it/s]"
     ]
    }
   ],
   "source": [
    "EPOCHS = 100\n",
    "\n",
    "for i in range(EPOCHS):\n",
    "    print(f\"Epoch: {i} / {EPOCHS}\")\n",
    "    epoch()\n",
    "    print(f'-----EPOCH {i} VALIDATION ACC %-----')\n",
    "    validate()"
   ]
  },
  {
   "cell_type": "code",
   "execution_count": null,
   "metadata": {},
   "outputs": [],
   "source": [
    "# 2 epochs - .625\n",
    "with torch.no_grad():\n",
    "    posscores = torch.zeros((0, 1), dtype=torch.float64, device=device)\n",
    "    negscores = torch.zeros((0, 1), dtype=torch.float64, device=device)\n",
    "    for i, (pos, neg) in tqdm(enumerate(played_dl)):\n",
    "        pos_score = played_model(pos.to(device))\n",
    "        neg_score = played_model(neg.to(device))\n",
    "        posscores = torch.concatenate((posscores, pos_score), dim=0)\n",
    "        negscores = torch.concatenate((negscores, neg_score), dim=0)\n",
    "    combined = torch.concatenate((posscores, negscores), dim=0)\n",
    "    print(torch.sum(combined.argsort(dim=0)[len(played_valid_ds):] < len(played_valid_ds)) / (len(played_valid_ds)))"
   ]
  },
  {
   "cell_type": "code",
   "execution_count": null,
   "metadata": {},
   "outputs": [],
   "source": [
    "cnt = 0\n",
    "for i in range(1000):\n",
    "    pair = played_valid_ds[100]\n",
    "    p1 = played_model(pair[0].to(device))\n",
    "    p2 = played_model(pair[1].to(device))\n",
    "    if p1 > p2:\n",
    "        cnt += 1\n",
    "print(cnt / 1000)"
   ]
  },
  {
   "cell_type": "code",
   "execution_count": null,
   "metadata": {},
   "outputs": [],
   "source": [
    "test = pd.read_csv('./pairs_Played.csv')\n",
    "test['itemID'] = test['gameID']\n",
    "# Map unseen entries to default user (this user is already grouped with other users due to their few # of reviews in training set)\n",
    "test['userID'] = test['userID'].map(lambda x: x if x in userset else 'u03473346')\n",
    "test['userIDX'] = user_oe.transform(test[['userID']])\n",
    "test['itemIDX'] = item_oe.transform(test[['gameID']])\n",
    "test.drop(columns=['gameID', 'prediction'], inplace=True)"
   ]
  },
  {
   "cell_type": "code",
   "execution_count": null,
   "metadata": {},
   "outputs": [],
   "source": [
    "test.head()"
   ]
  },
  {
   "cell_type": "code",
   "execution_count": null,
   "metadata": {},
   "outputs": [],
   "source": [
    "played_test_ds = PlayedDataset(test)\n",
    "played_test_dl = DataLoader(dataset=played_test_ds,\n",
    "                           batch_size=len(played_test_ds),\n",
    "                           shuffle=True, num_workers=1)"
   ]
  },
  {
   "cell_type": "code",
   "execution_count": null,
   "metadata": {},
   "outputs": [],
   "source": [
    "preds = 0\n",
    "for pos, neg in played_test_dl:\n",
    "    preds = model(pos.to(device))"
   ]
  },
  {
   "cell_type": "code",
   "execution_count": null,
   "metadata": {},
   "outputs": [],
   "source": [
    "validate()"
   ]
  },
  {
   "cell_type": "code",
   "execution_count": null,
   "metadata": {},
   "outputs": [],
   "source": [
    "played_model(played_ds[0][0].to(device))"
   ]
  },
  {
   "cell_type": "code",
   "execution_count": null,
   "metadata": {},
   "outputs": [],
   "source": [
    "played_model(played_ds[0][0].to(device))"
   ]
  },
  {
   "cell_type": "code",
   "execution_count": null,
   "metadata": {},
   "outputs": [],
   "source": [
    "played_model(played_ds[0][1].to(device))"
   ]
  },
  {
   "cell_type": "code",
   "execution_count": null,
   "metadata": {},
   "outputs": [],
   "source": [
    "played_model(played_ds[0][1].to(device))"
   ]
  },
  {
   "cell_type": "code",
   "execution_count": null,
   "metadata": {},
   "outputs": [],
   "source": [
    "torch.save(played_model.state_dict(), './played_model.pt')"
   ]
  }
 ],
 "metadata": {
  "kernelspec": {
   "display_name": "Python 3 (ipykernel)",
   "language": "python",
   "name": "python3"
  },
  "language_info": {
   "codemirror_mode": {
    "name": "ipython",
    "version": 3
   },
   "file_extension": ".py",
   "mimetype": "text/x-python",
   "name": "python",
   "nbconvert_exporter": "python",
   "pygments_lexer": "ipython3",
   "version": "3.9.5"
  }
 },
 "nbformat": 4,
 "nbformat_minor": 2
}
