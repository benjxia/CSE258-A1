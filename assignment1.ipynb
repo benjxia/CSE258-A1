{
 "cells": [
  {
   "cell_type": "markdown",
   "metadata": {},
   "source": [
    "# CSE 258: Assignment 1\n",
    "### Benjamin Xia"
   ]
  },
  {
   "cell_type": "markdown",
   "metadata": {},
   "source": [
    "### Setup"
   ]
  },
  {
   "cell_type": "code",
   "execution_count": 18,
   "metadata": {
    "ExecuteTime": {
     "end_time": "2023-10-25T03:01:39.448224600Z",
     "start_time": "2023-10-25T03:01:37.118052800Z"
    }
   },
   "outputs": [
    {
     "data": {
      "text/plain": "<torch._C.Generator at 0x25536d4b350>"
     },
     "execution_count": 18,
     "metadata": {},
     "output_type": "execute_result"
    }
   ],
   "source": [
    "import numpy as np\n",
    "import pandas as pd\n",
    "import matplotlib.pyplot as plt\n",
    "\n",
    "from sklearn import preprocessing, linear_model, svm, cluster, manifold\n",
    "import torch\n",
    "import transformers\n",
    "\n",
    "import tqdm\n",
    "import gzip\n",
    "\n",
    "np.random.seed(0)\n",
    "torch.manual_seed(0)"
   ]
  },
  {
   "cell_type": "markdown",
   "source": [
    "### Preprocessing"
   ],
   "metadata": {
    "collapsed": false
   }
  },
  {
   "cell_type": "code",
   "execution_count": 2,
   "metadata": {
    "ExecuteTime": {
     "end_time": "2023-10-24T20:38:44.979930200Z",
     "start_time": "2023-10-24T20:38:44.960126800Z"
    }
   },
   "outputs": [],
   "source": [
    "def read_json(path):\n",
    "    f: gzip.GzipFile = gzip.open(path)\n",
    "    f.readline()\n",
    "    for line in f:\n",
    "        entry = eval(line)\n",
    "        yield entry"
   ]
  },
  {
   "cell_type": "code",
   "execution_count": 3,
   "metadata": {
    "ExecuteTime": {
     "end_time": "2023-10-24T20:38:56.928823800Z",
     "start_time": "2023-10-24T20:38:44.972419800Z"
    }
   },
   "outputs": [],
   "source": [
    "data = []\n",
    "for entry in read_json('train.json.gz'):\n",
    "    data.append(entry)\n",
    "\n",
    "df: pd.DataFrame = pd.DataFrame(data)"
   ]
  },
  {
   "cell_type": "code",
   "execution_count": 19,
   "outputs": [
    {
     "data": {
      "text/plain": "0         2017-05-20\n1         2017-01-27\n2         2014-03-06\n3         2015-06-13\n4         2015-01-17\n             ...    \n174994    2017-06-18\n174995    2012-11-27\n174996    2014-07-10\n174997    2017-09-01\n174998    2015-07-01\nName: date, Length: 174999, dtype: object"
     },
     "execution_count": 19,
     "metadata": {},
     "output_type": "execute_result"
    }
   ],
   "source": [
    "df['date']"
   ],
   "metadata": {
    "collapsed": false,
    "ExecuteTime": {
     "end_time": "2023-10-25T03:10:56.281813500Z",
     "start_time": "2023-10-25T03:10:56.229180900Z"
    }
   }
  },
  {
   "cell_type": "code",
   "execution_count": 5,
   "metadata": {
    "ExecuteTime": {
     "end_time": "2023-10-24T20:38:57.197401200Z",
     "start_time": "2023-10-24T20:38:57.050424800Z"
    }
   },
   "outputs": [],
   "source": [
    "encoder = preprocessing.OrdinalEncoder(dtype=np.int32) # User encoder\n",
    "df[['userID', 'gameID']] = encoder.fit_transform(df[['userID', 'gameID']])\n",
    "df.rename({'gameID' : 'itemID'}, axis=1, inplace=True)"
   ]
  },
  {
   "cell_type": "code",
   "execution_count": 20,
   "metadata": {
    "ExecuteTime": {
     "end_time": "2023-10-25T03:18:56.668082700Z",
     "start_time": "2023-10-25T03:18:56.642591800Z"
    }
   },
   "outputs": [
    {
     "data": {
      "text/plain": "1514    232\n5936    232\n326     217\n299     206\n5106    197\n       ... \n3907      1\n3270      1\n2547      1\n6686      1\n6136      1\nName: userID, Length: 6710, dtype: int64"
     },
     "execution_count": 20,
     "metadata": {},
     "output_type": "execute_result"
    }
   ],
   "source": [
    "df['userID'].value_counts().sort_values(ascending=False)"
   ]
  },
  {
   "cell_type": "code",
   "execution_count": 17,
   "outputs": [
    {
     "data": {
      "text/plain": "1638       8\n422        9\n1493       9\n2121       9\n306        9\n        ... \n281      746\n998      794\n1838     897\n137      943\n258     1092\nName: itemID, Length: 2437, dtype: int64"
     },
     "execution_count": 17,
     "metadata": {},
     "output_type": "execute_result"
    }
   ],
   "source": [
    "df['itemID'].value_counts().sort_values()"
   ],
   "metadata": {
    "collapsed": false,
    "ExecuteTime": {
     "end_time": "2023-10-25T03:00:38.736078300Z",
     "start_time": "2023-10-25T03:00:38.684586Z"
    }
   }
  },
  {
   "cell_type": "code",
   "execution_count": 7,
   "metadata": {
    "ExecuteTime": {
     "end_time": "2023-10-24T20:38:57.443412Z",
     "start_time": "2023-10-24T20:38:57.206723Z"
    }
   },
   "outputs": [],
   "source": [
    "data = df.to_numpy()\n"
   ]
  }
 ],
 "metadata": {
  "kernelspec": {
   "display_name": "Python 3",
   "language": "python",
   "name": "python3"
  },
  "language_info": {
   "codemirror_mode": {
    "name": "ipython",
    "version": 3
   },
   "file_extension": ".py",
   "mimetype": "text/x-python",
   "name": "python",
   "nbconvert_exporter": "python",
   "pygments_lexer": "ipython3",
   "version": "3.9.7"
  }
 },
 "nbformat": 4,
 "nbformat_minor": 2
}
