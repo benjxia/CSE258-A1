{
 "cells": [
  {
   "cell_type": "markdown",
   "metadata": {},
   "source": [
    "# CSE 258: Assignment 1\n",
    "### Benjamin Xia"
   ]
  },
  {
   "cell_type": "markdown",
   "metadata": {},
   "source": [
    "### Setup"
   ]
  },
  {
   "cell_type": "code",
   "execution_count": 1,
   "metadata": {
    "ExecuteTime": {
     "end_time": "2023-10-26T02:00:19.717930300Z",
     "start_time": "2023-10-26T01:59:57.594733500Z"
    }
   },
   "outputs": [],
   "source": [
    "import numpy as np\n",
    "import pandas as pd\n",
    "from scipy import sparse\n",
    "\n",
    "from sklearn import preprocessing, feature_extraction, linear_model\n",
    "from sklearn.decomposition import LatentDirichletAllocation\n",
    "from sklearn.model_selection import KFold, GridSearchCV\n",
    "\n",
    "from rankfm.rankfm import RankFM\n",
    "from fastFM import als, sgd\n",
    "\n",
    "import random\n",
    "from collections import defaultdict\n",
    "from tqdm import tqdm\n",
    "import gzip\n",
    "\n",
    "import os\n",
    "import pickle\n",
    "import copy\n",
    "\n",
    "RANDOM_SEED = 0\n",
    "random.seed(RANDOM_SEED)\n",
    "np.random.seed(RANDOM_SEED)\n",
    "\n",
    "import warnings\n",
    "warnings.filterwarnings(\"ignore\", category=UserWarning)\n",
    "\n",
    "valid = False"
   ]
  },
  {
   "cell_type": "markdown",
   "metadata": {},
   "source": [
    "### Preprocessing"
   ]
  },
  {
   "cell_type": "markdown",
   "metadata": {},
   "source": [
    "#### Preprocess user/item ID's, compensation, early_access, and time"
   ]
  },
  {
   "cell_type": "code",
   "execution_count": 2,
   "metadata": {
    "ExecuteTime": {
     "end_time": "2023-10-26T02:00:53.408937700Z",
     "start_time": "2023-10-26T02:00:34.962524200Z"
    }
   },
   "outputs": [],
   "source": [
    "user_oe = preprocessing.OrdinalEncoder(dtype=np.int32, min_frequency=5, handle_unknown='error')\n",
    "item_oe = preprocessing.OrdinalEncoder(dtype=np.int32)\n",
    "\n",
    "itemset = set() # Set of all unique users\n",
    "userset = set() # Set of all unique items\n",
    "\n",
    "ft = ['early_access', 'compensation'] # features unavailable/cannot be approximated in inference\n",
    "\n",
    "def read_json(path):\n",
    "    f: gzip.GzipFile = gzip.open(path)\n",
    "    f.readline()\n",
    "    for line in f:\n",
    "        entry = eval(line)\n",
    "        yield entry\n",
    "\n",
    "# Encode userID and itemID as integers\n",
    "def process_data():\n",
    "    data = []\n",
    "    data = []\n",
    "    for entry in read_json('train.json.gz'):\n",
    "        data.append(entry)\n",
    "    df: pd.DataFrame = pd.DataFrame(data)\n",
    "    del data\n",
    "\n",
    "    df['userIDX'] = user_oe.fit_transform(df[['userID']])\n",
    "    df['itemIDX'] = item_oe.fit_transform(df[['gameID']])\n",
    "    df.rename({'gameID' : 'itemID'}, axis=1, inplace=True)\n",
    "\n",
    "    df.drop(labels=['hours', 'user_id', 'date', 'userID', 'itemID'], axis=1, inplace=True)\n",
    "\n",
    "    # Get features that won't be available\n",
    "    df.fillna(value=0, axis=1, inplace=True)\n",
    "    df['compensation'] = df['compensation'].map(lambda x : x if x == 0 else 1)\n",
    "    df[['early_access', 'compensation']] = df[['early_access', 'compensation']].astype(np.int32)\n",
    "\n",
    "    time_label = df['hours_transformed'].to_numpy()\n",
    "    user_mean_ft = df.groupby('userIDX')[ft].mean()\n",
    "    item_mean_ft = df.groupby('itemIDX')[ft].mean()\n",
    "    df.drop(labels=ft + ['hours_transformed', 'found_funny'], axis=1, inplace=True)\n",
    "    return df, time_label, user_mean_ft.to_numpy(), item_mean_ft.to_numpy()\n",
    "\n",
    "df, time_label, user_mean_ft, item_mean_ft = process_data()\n",
    "\n",
    "def get_text_embedding():\n",
    "    if not os.path.isfile('./text_embed.npy'): # Generate new descriptors for each review using pretrained transformer\n",
    "        dftext = df.groupby('itemIDX')['text'].apply(' '.join).reset_index()\n",
    "        counter = feature_extraction.text.CountVectorizer(min_df=0.05, max_df=0.5, stop_words='english', max_features=2000, ngram_range=(1, 2))\n",
    "        wordcount = counter.fit_transform(dftext['text'])\n",
    "        LDA = LatentDirichletAllocation(n_components=20, random_state=RANDOM_SEED)\n",
    "        text_embed = LDA.fit_transform(wordcount)\n",
    "        np.save('text_embed.npy', text_embed)\n",
    "    else: # Text descriptors already computed\n",
    "        text_embed = np.load('./text_embed.npy')\n",
    "\n",
    "    return text_embed\n",
    "\n",
    "text_embed = get_text_embedding()\n",
    "text_embed = text_embed / np.linalg.norm(text_embed, axis=1)[...,None]\n",
    "df.drop('text', axis=1, inplace=True)\n",
    "pairs = df[['userIDX', 'itemIDX']].to_numpy(dtype=np.int32)\n",
    "item_ft = np.concatenate((np.arange(0, len(text_embed))[:,  None], item_mean_ft, text_embed, df['itemIDX'].value_counts().sort_index().to_numpy()[:, None] / np.max(df['itemIDX'].value_counts())), axis=1)\n",
    "\n",
    "U = dict(df.groupby('itemIDX')['userIDX'].unique())\n",
    "I = dict(df.groupby('userIDX')['itemIDX'].unique())\n",
    "U = { g : set(U[g]) for g in U }\n",
    "I = { u : set(I[u]) for u in I }\n",
    "itemset = set(df['itemIDX'].unique())\n",
    "userset = set(df['userIDX'].unique())"
   ]
  },
  {
   "cell_type": "markdown",
   "metadata": {},
   "source": [
    "### Played Predictions"
   ]
  },
  {
   "cell_type": "code",
   "execution_count": 3,
   "metadata": {},
   "outputs": [],
   "source": [
    "# Construct a new validation set w/ negative pairs\n",
    "def gen_neg_samples(pairs):\n",
    "    neg_pairs = np.zeros_like(pairs)\n",
    "    neg_pairs[:, 0] = pairs[:, 0]\n",
    "\n",
    "    for i in range(len(pairs)):\n",
    "        sample = random.sample(itemset.difference(I[pairs[i, 0]]), k=1)[0]\n",
    "        neg_pairs[i, 1] = sample\n",
    "\n",
    "    return neg_pairs"
   ]
  },
  {
   "cell_type": "markdown",
   "metadata": {},
   "source": [
    "#### Played Model Selection"
   ]
  },
  {
   "cell_type": "code",
   "execution_count": 4,
   "metadata": {},
   "outputs": [
    {
     "ename": "KeyboardInterrupt",
     "evalue": "",
     "output_type": "error",
     "traceback": [
      "\u001b[0;31m---------------------------------------------------------------------------\u001b[0m",
      "\u001b[0;31mKeyboardInterrupt\u001b[0m                         Traceback (most recent call last)",
      "\u001b[1;32m/home/benjx/cs_wsl/school/y3/cse258/CSE258-A1/assignment1.ipynb Cell 10\u001b[0m line \u001b[0;36m7\n\u001b[1;32m      <a href='vscode-notebook-cell://wsl%2Bubuntu/home/benjx/cs_wsl/school/y3/cse258/CSE258-A1/assignment1.ipynb#X12sdnNjb2RlLXJlbW90ZQ%3D%3D?line=4'>5</a>\u001b[0m \u001b[39m# Generate training pairs for fold\u001b[39;00m\n\u001b[1;32m      <a href='vscode-notebook-cell://wsl%2Bubuntu/home/benjx/cs_wsl/school/y3/cse258/CSE258-A1/assignment1.ipynb#X12sdnNjb2RlLXJlbW90ZQ%3D%3D?line=5'>6</a>\u001b[0m pos_train_pairs \u001b[39m=\u001b[39m pairs[train]\n\u001b[0;32m----> <a href='vscode-notebook-cell://wsl%2Bubuntu/home/benjx/cs_wsl/school/y3/cse258/CSE258-A1/assignment1.ipynb#X12sdnNjb2RlLXJlbW90ZQ%3D%3D?line=6'>7</a>\u001b[0m neg_train_pairs \u001b[39m=\u001b[39m gen_neg_samples(pos_train_pairs)\n\u001b[1;32m      <a href='vscode-notebook-cell://wsl%2Bubuntu/home/benjx/cs_wsl/school/y3/cse258/CSE258-A1/assignment1.ipynb#X12sdnNjb2RlLXJlbW90ZQ%3D%3D?line=7'>8</a>\u001b[0m pos_valid_pairs \u001b[39m=\u001b[39m pairs[test]\n\u001b[1;32m      <a href='vscode-notebook-cell://wsl%2Bubuntu/home/benjx/cs_wsl/school/y3/cse258/CSE258-A1/assignment1.ipynb#X12sdnNjb2RlLXJlbW90ZQ%3D%3D?line=8'>9</a>\u001b[0m neg_valid_pairs \u001b[39m=\u001b[39m gen_neg_samples(pos_valid_pairs)\n",
      "\u001b[1;32m/home/benjx/cs_wsl/school/y3/cse258/CSE258-A1/assignment1.ipynb Cell 10\u001b[0m line \u001b[0;36m7\n\u001b[1;32m      <a href='vscode-notebook-cell://wsl%2Bubuntu/home/benjx/cs_wsl/school/y3/cse258/CSE258-A1/assignment1.ipynb#X12sdnNjb2RlLXJlbW90ZQ%3D%3D?line=3'>4</a>\u001b[0m neg_pairs[:, \u001b[39m0\u001b[39m] \u001b[39m=\u001b[39m pairs[:, \u001b[39m0\u001b[39m]\n\u001b[1;32m      <a href='vscode-notebook-cell://wsl%2Bubuntu/home/benjx/cs_wsl/school/y3/cse258/CSE258-A1/assignment1.ipynb#X12sdnNjb2RlLXJlbW90ZQ%3D%3D?line=5'>6</a>\u001b[0m \u001b[39mfor\u001b[39;00m i \u001b[39min\u001b[39;00m \u001b[39mrange\u001b[39m(\u001b[39mlen\u001b[39m(pairs)):\n\u001b[0;32m----> <a href='vscode-notebook-cell://wsl%2Bubuntu/home/benjx/cs_wsl/school/y3/cse258/CSE258-A1/assignment1.ipynb#X12sdnNjb2RlLXJlbW90ZQ%3D%3D?line=6'>7</a>\u001b[0m     sample \u001b[39m=\u001b[39m random\u001b[39m.\u001b[39;49msample(itemset\u001b[39m.\u001b[39;49mdifference(I[pairs[i, \u001b[39m0\u001b[39;49m]]), k\u001b[39m=\u001b[39;49m\u001b[39m1\u001b[39;49m)[\u001b[39m0\u001b[39m]\n\u001b[1;32m      <a href='vscode-notebook-cell://wsl%2Bubuntu/home/benjx/cs_wsl/school/y3/cse258/CSE258-A1/assignment1.ipynb#X12sdnNjb2RlLXJlbW90ZQ%3D%3D?line=7'>8</a>\u001b[0m     neg_pairs[i, \u001b[39m1\u001b[39m] \u001b[39m=\u001b[39m sample\n\u001b[1;32m     <a href='vscode-notebook-cell://wsl%2Bubuntu/home/benjx/cs_wsl/school/y3/cse258/CSE258-A1/assignment1.ipynb#X12sdnNjb2RlLXJlbW90ZQ%3D%3D?line=9'>10</a>\u001b[0m \u001b[39mreturn\u001b[39;00m neg_pairs\n",
      "File \u001b[0;32m/usr/lib/python3.8/random.py:357\u001b[0m, in \u001b[0;36mRandom.sample\u001b[0;34m(self, population, k)\u001b[0m\n\u001b[1;32m    333\u001b[0m \u001b[39m# Sampling without replacement entails tracking either potential\u001b[39;00m\n\u001b[1;32m    334\u001b[0m \u001b[39m# selections (the pool) in a list or previous selections in a set.\u001b[39;00m\n\u001b[1;32m    335\u001b[0m \n\u001b[0;32m   (...)\u001b[0m\n\u001b[1;32m    353\u001b[0m \u001b[39m# too many calls to _randbelow(), making them slower and\u001b[39;00m\n\u001b[1;32m    354\u001b[0m \u001b[39m# causing them to eat more entropy than necessary.\u001b[39;00m\n\u001b[1;32m    356\u001b[0m \u001b[39mif\u001b[39;00m \u001b[39misinstance\u001b[39m(population, _Set):\n\u001b[0;32m--> 357\u001b[0m     population \u001b[39m=\u001b[39m \u001b[39mtuple\u001b[39;49m(population)\n\u001b[1;32m    358\u001b[0m \u001b[39mif\u001b[39;00m \u001b[39mnot\u001b[39;00m \u001b[39misinstance\u001b[39m(population, _Sequence):\n\u001b[1;32m    359\u001b[0m     \u001b[39mraise\u001b[39;00m \u001b[39mTypeError\u001b[39;00m(\u001b[39m\"\u001b[39m\u001b[39mPopulation must be a sequence or set.  For dicts, use list(d).\u001b[39m\u001b[39m\"\u001b[39m)\n",
      "\u001b[0;31mKeyboardInterrupt\u001b[0m: "
     ]
    }
   ],
   "source": [
    "kf = KFold(n_splits=20, shuffle=True, random_state=RANDOM_SEED)\n",
    "accs = []\n",
    "for split, (train, test) in enumerate(kf.split(pairs)):\n",
    "    popularity = df.iloc[train]['itemIDX'].value_counts().sort_index().to_numpy()\n",
    "    # Generate training pairs for fold\n",
    "    pos_train_pairs = pairs[train]\n",
    "    neg_train_pairs = gen_neg_samples(pos_train_pairs)\n",
    "    pos_valid_pairs = pairs[test]\n",
    "    neg_valid_pairs = gen_neg_samples(pos_valid_pairs)\n",
    "    # Train Models\n",
    "    played_model = RankFM(factors=5,\n",
    "                loss='bpr',\n",
    "                max_samples=300,\n",
    "                beta=1.0,\n",
    "                learning_schedule='invscaling')\n",
    "    played_model.fit(pairs[train], item_features=item_ft, epochs=200)\n",
    "    pos_scores = played_model.predict(pos_train_pairs)\n",
    "    neg_scores = played_model.predict(neg_train_pairs)\n",
    "    pos_ft = popularity[pos_train_pairs[:, 1, None]]\n",
    "    neg_ft = popularity[neg_train_pairs[:, 1, None]]\n",
    "    pos_ft = np.column_stack((pos_scores, pos_ft))\n",
    "    neg_ft = np.column_stack((neg_scores, neg_ft))\n",
    "    clf = linear_model.LogisticRegression()\n",
    "    ft = np.concatenate((pos_ft, neg_ft), axis=0)\n",
    "    label = np.concatenate((np.ones(len(pos_ft)), np.zeros(len(pos_ft))))\n",
    "    clf.fit(ft, label)\n",
    "\n",
    "    # Validation\n",
    "    pos_scores = played_model.predict(pos_valid_pairs)\n",
    "    neg_scores = played_model.predict(neg_valid_pairs)\n",
    "    pos_ft = popularity[pos_valid_pairs[:, 1, None]]\n",
    "    neg_ft = popularity[neg_valid_pairs[:, 1, None]]\n",
    "    pos_ft = np.column_stack((pos_scores, pos_ft))\n",
    "    neg_ft = np.column_stack((neg_scores, neg_ft))\n",
    "    ft = np.concatenate((pos_ft, neg_ft), axis=0)\n",
    "    label = np.concatenate((np.ones(len(pos_ft)), np.zeros(len(pos_ft))))\n",
    "    acc = clf.score(ft, label)\n",
    "    accs.append(acc)\n",
    "    print(f'Fold {split + 1}: {acc * 100}%')\n",
    "\n",
    "print(f'Overall: {np.mean(accs) * 100}%')"
   ]
  },
  {
   "cell_type": "code",
   "execution_count": 5,
   "metadata": {},
   "outputs": [
    {
     "name": "stdout",
     "output_type": "stream",
     "text": [
      "Fold 1: 72.94857142857143%\n",
      "Fold 2: 72.82285714285715%\n",
      "Fold 3: 72.84571428571428%\n"
     ]
    },
    {
     "ename": "KeyboardInterrupt",
     "evalue": "",
     "output_type": "error",
     "traceback": [
      "\u001b[0;31m---------------------------------------------------------------------------\u001b[0m",
      "\u001b[0;31mKeyboardInterrupt\u001b[0m                         Traceback (most recent call last)",
      "\u001b[1;32m/home/benjx/cs_wsl/school/y3/cse258/CSE258-A1/assignment1.ipynb Cell 11\u001b[0m line \u001b[0;36m1\n\u001b[1;32m     <a href='vscode-notebook-cell://wsl%2Bubuntu/home/benjx/cs_wsl/school/y3/cse258/CSE258-A1/assignment1.ipynb#X13sdnNjb2RlLXJlbW90ZQ%3D%3D?line=11'>12</a>\u001b[0m \u001b[39m# Fit models\u001b[39;00m\n\u001b[1;32m     <a href='vscode-notebook-cell://wsl%2Bubuntu/home/benjx/cs_wsl/school/y3/cse258/CSE258-A1/assignment1.ipynb#X13sdnNjb2RlLXJlbW90ZQ%3D%3D?line=12'>13</a>\u001b[0m played_model \u001b[39m=\u001b[39m RankFM(factors\u001b[39m=\u001b[39m\u001b[39m4\u001b[39m,\n\u001b[1;32m     <a href='vscode-notebook-cell://wsl%2Bubuntu/home/benjx/cs_wsl/school/y3/cse258/CSE258-A1/assignment1.ipynb#X13sdnNjb2RlLXJlbW90ZQ%3D%3D?line=13'>14</a>\u001b[0m             loss\u001b[39m=\u001b[39m\u001b[39m'\u001b[39m\u001b[39mwarp\u001b[39m\u001b[39m'\u001b[39m,\n\u001b[1;32m     <a href='vscode-notebook-cell://wsl%2Bubuntu/home/benjx/cs_wsl/school/y3/cse258/CSE258-A1/assignment1.ipynb#X13sdnNjb2RlLXJlbW90ZQ%3D%3D?line=14'>15</a>\u001b[0m             max_samples\u001b[39m=\u001b[39m\u001b[39m300\u001b[39m,\n\u001b[1;32m     <a href='vscode-notebook-cell://wsl%2Bubuntu/home/benjx/cs_wsl/school/y3/cse258/CSE258-A1/assignment1.ipynb#X13sdnNjb2RlLXJlbW90ZQ%3D%3D?line=15'>16</a>\u001b[0m             beta\u001b[39m=\u001b[39m\u001b[39m1.0\u001b[39m,\n\u001b[1;32m     <a href='vscode-notebook-cell://wsl%2Bubuntu/home/benjx/cs_wsl/school/y3/cse258/CSE258-A1/assignment1.ipynb#X13sdnNjb2RlLXJlbW90ZQ%3D%3D?line=16'>17</a>\u001b[0m             learning_schedule\u001b[39m=\u001b[39m\u001b[39m'\u001b[39m\u001b[39minvscaling\u001b[39m\u001b[39m'\u001b[39m)\n\u001b[0;32m---> <a href='vscode-notebook-cell://wsl%2Bubuntu/home/benjx/cs_wsl/school/y3/cse258/CSE258-A1/assignment1.ipynb#X13sdnNjb2RlLXJlbW90ZQ%3D%3D?line=18'>19</a>\u001b[0m played_model\u001b[39m.\u001b[39;49mfit(pos_train_pairs, item_features\u001b[39m=\u001b[39;49mitem_ft, epochs\u001b[39m=\u001b[39;49m\u001b[39m200\u001b[39;49m)\n\u001b[1;32m     <a href='vscode-notebook-cell://wsl%2Bubuntu/home/benjx/cs_wsl/school/y3/cse258/CSE258-A1/assignment1.ipynb#X13sdnNjb2RlLXJlbW90ZQ%3D%3D?line=19'>20</a>\u001b[0m \u001b[39mif\u001b[39;00m logistic:\n\u001b[1;32m     <a href='vscode-notebook-cell://wsl%2Bubuntu/home/benjx/cs_wsl/school/y3/cse258/CSE258-A1/assignment1.ipynb#X13sdnNjb2RlLXJlbW90ZQ%3D%3D?line=20'>21</a>\u001b[0m     pos_scores \u001b[39m=\u001b[39m played_model\u001b[39m.\u001b[39mpredict(pos_train_pairs)\n",
      "File \u001b[0;32m~/.local/lib/python3.8/site-packages/rankfm/rankfm.py:265\u001b[0m, in \u001b[0;36mRankFM.fit\u001b[0;34m(self, interactions, user_features, item_features, sample_weight, epochs, verbose)\u001b[0m\n\u001b[1;32m    253\u001b[0m \u001b[39m\u001b[39m\u001b[39m\"\"\"clear previous model state and learn new model weights using the input data\u001b[39;00m\n\u001b[1;32m    254\u001b[0m \n\u001b[1;32m    255\u001b[0m \u001b[39m:param interactions: dataframe of observed user/item interactions: [user_id, item_id]\u001b[39;00m\n\u001b[0;32m   (...)\u001b[0m\n\u001b[1;32m    261\u001b[0m \u001b[39m:return: self\u001b[39;00m\n\u001b[1;32m    262\u001b[0m \u001b[39m\"\"\"\u001b[39;00m\n\u001b[1;32m    264\u001b[0m \u001b[39mself\u001b[39m\u001b[39m.\u001b[39m_reset_state()\n\u001b[0;32m--> 265\u001b[0m \u001b[39mself\u001b[39;49m\u001b[39m.\u001b[39;49mfit_partial(interactions, user_features, item_features, sample_weight, epochs, verbose)\n",
      "File \u001b[0;32m~/.local/lib/python3.8/site-packages/rankfm/rankfm.py:303\u001b[0m, in \u001b[0;36mRankFM.fit_partial\u001b[0;34m(self, interactions, user_features, item_features, sample_weight, epochs, verbose)\u001b[0m\n\u001b[1;32m    300\u001b[0m     \u001b[39mraise\u001b[39;00m \u001b[39mValueError\u001b[39;00m(\u001b[39m'\u001b[39m\u001b[39m[loss] function not recognized\u001b[39m\u001b[39m'\u001b[39m)\n\u001b[1;32m    302\u001b[0m \u001b[39m# NOTE: the cython internal fit method updates the model weights in place via memoryviews\u001b[39;00m\n\u001b[0;32m--> 303\u001b[0m _fit(\n\u001b[1;32m    304\u001b[0m     \u001b[39mself\u001b[39;49m\u001b[39m.\u001b[39;49minteractions,\n\u001b[1;32m    305\u001b[0m     \u001b[39mself\u001b[39;49m\u001b[39m.\u001b[39;49msample_weight,\n\u001b[1;32m    306\u001b[0m     \u001b[39mself\u001b[39;49m\u001b[39m.\u001b[39;49muser_items,\n\u001b[1;32m    307\u001b[0m     \u001b[39mself\u001b[39;49m\u001b[39m.\u001b[39;49mx_uf,\n\u001b[1;32m    308\u001b[0m     \u001b[39mself\u001b[39;49m\u001b[39m.\u001b[39;49mx_if,\n\u001b[1;32m    309\u001b[0m     \u001b[39mself\u001b[39;49m\u001b[39m.\u001b[39;49mw_i,\n\u001b[1;32m    310\u001b[0m     \u001b[39mself\u001b[39;49m\u001b[39m.\u001b[39;49mw_if,\n\u001b[1;32m    311\u001b[0m     \u001b[39mself\u001b[39;49m\u001b[39m.\u001b[39;49mv_u,\n\u001b[1;32m    312\u001b[0m     \u001b[39mself\u001b[39;49m\u001b[39m.\u001b[39;49mv_i,\n\u001b[1;32m    313\u001b[0m     \u001b[39mself\u001b[39;49m\u001b[39m.\u001b[39;49mv_uf,\n\u001b[1;32m    314\u001b[0m     \u001b[39mself\u001b[39;49m\u001b[39m.\u001b[39;49mv_if,\n\u001b[1;32m    315\u001b[0m     \u001b[39mself\u001b[39;49m\u001b[39m.\u001b[39;49malpha,\n\u001b[1;32m    316\u001b[0m     \u001b[39mself\u001b[39;49m\u001b[39m.\u001b[39;49mbeta,\n\u001b[1;32m    317\u001b[0m     \u001b[39mself\u001b[39;49m\u001b[39m.\u001b[39;49mlearning_rate,\n\u001b[1;32m    318\u001b[0m     \u001b[39mself\u001b[39;49m\u001b[39m.\u001b[39;49mlearning_schedule,\n\u001b[1;32m    319\u001b[0m     \u001b[39mself\u001b[39;49m\u001b[39m.\u001b[39;49mlearning_exponent,\n\u001b[1;32m    320\u001b[0m     max_samples,\n\u001b[1;32m    321\u001b[0m     epochs,\n\u001b[1;32m    322\u001b[0m     verbose\n\u001b[1;32m    323\u001b[0m )\n\u001b[1;32m    325\u001b[0m \u001b[39mself\u001b[39m\u001b[39m.\u001b[39mis_fit \u001b[39m=\u001b[39m \u001b[39mTrue\u001b[39;00m\n\u001b[1;32m    326\u001b[0m \u001b[39mreturn\u001b[39;00m \u001b[39mself\u001b[39m\n",
      "File \u001b[0;32mrankfm/_rankfm.pyx:331\u001b[0m, in \u001b[0;36mrankfm._rankfm._fit\u001b[0;34m()\u001b[0m\n",
      "File \u001b[0;32mrankfm/_rankfm.pyx:98\u001b[0m, in \u001b[0;36mrankfm._rankfm.assert_finite\u001b[0;34m()\u001b[0m\n",
      "File \u001b[0;32m<__array_function__ internals>:177\u001b[0m, in \u001b[0;36msum\u001b[0;34m(*args, **kwargs)\u001b[0m\n",
      "\u001b[0;31mKeyboardInterrupt\u001b[0m: "
     ]
    }
   ],
   "source": [
    "logistic = False\n",
    "kf = KFold(n_splits=20, shuffle=True)\n",
    "accs = []\n",
    "for split, (train, valid) in enumerate(kf.split(pairs)):\n",
    "    popularity = df.iloc[train]['itemIDX'].value_counts().sort_index().to_numpy()\n",
    "    # Generate training pairs for fold\n",
    "    pos_train_pairs = pairs[train]\n",
    "    neg_train_pairs = gen_neg_samples(pos_train_pairs)\n",
    "    pos_valid_pairs = pairs[valid]\n",
    "    neg_valid_pairs = gen_neg_samples(pos_valid_pairs)\n",
    "\n",
    "    # Fit models\n",
    "    played_model = RankFM(factors=4,\n",
    "                loss='warp',\n",
    "                max_samples=300,\n",
    "                beta=1.0,\n",
    "                learning_schedule='invscaling')\n",
    "\n",
    "    played_model.fit(pos_train_pairs, item_features=item_ft, epochs=200)\n",
    "    if logistic:\n",
    "        pos_scores = played_model.predict(pos_train_pairs)\n",
    "        neg_scores = played_model.predict(neg_train_pairs)\n",
    "        pos_ft = np.column_stack((pos_scores, popularity[pos_train_pairs[:, 1]]))\n",
    "        neg_ft = np.column_stack((neg_scores, popularity[neg_train_pairs[:, 1]]))\n",
    "        clf = linear_model.LogisticRegression()\n",
    "        ft = np.concatenate((pos_ft, neg_ft), axis=0)\n",
    "        label = np.concatenate((np.ones(len(pos_ft)), np.zeros(len(pos_ft))))\n",
    "        clf.fit(ft, label)\n",
    "\n",
    "    # Validate\n",
    "    pos_scores = played_model.predict(pos_valid_pairs)\n",
    "    neg_scores = played_model.predict(neg_valid_pairs)\n",
    "    pos_scores[np.isnan(pos_scores)] = 0\n",
    "    neg_scores[np.isnan(neg_scores)] = 0\n",
    "    if logistic:\n",
    "        pos_ft = np.column_stack((pos_scores, popularity[pos_valid_pairs[:, 1]]))\n",
    "        neg_ft = np.column_stack((neg_scores, popularity[neg_valid_pairs[:, 1]]))\n",
    "        ft = np.concatenate((pos_ft, neg_ft), axis=0)\n",
    "        label = np.concatenate((np.ones(len(pos_ft)), np.zeros(len(pos_ft))))\n",
    "        acc = clf.score(ft, label)\n",
    "    else:\n",
    "        median = np.median(np.concatenate((pos_scores, neg_scores)))\n",
    "        acc = ((np.mean(pos_scores >= median)) + (np.mean(neg_scores < median))) / 2\n",
    "\n",
    "    accs.append(acc)\n",
    "    print(f'Fold {split + 1}: {acc * 100}%')\n",
    "\n",
    "print(f'Overall: {np.mean(accs) * 100}%')"
   ]
  },
  {
   "cell_type": "code",
   "execution_count": 6,
   "metadata": {},
   "outputs": [],
   "source": [
    "played_model = RankFM(factors=4,\n",
    "                loss='warp',\n",
    "                max_samples=300,\n",
    "                beta=1.0,\n",
    "                learning_schedule='invscaling')\n",
    "popularity = df['itemIDX'].value_counts().sort_index().to_numpy()\n",
    "played_model.fit(pairs, item_features=item_ft, epochs=200)\n",
    "pos_scores = played_model.predict(pairs)\n",
    "neg_pairs = gen_neg_samples(pairs)\n",
    "neg_scores = played_model.predict(neg_pairs)\n",
    "pos_ft = np.column_stack((pos_scores, popularity[pairs[:, 1]]))\n",
    "neg_ft = np.column_stack((neg_scores, popularity[neg_pairs[:, 1]]))\n",
    "if logistic:\n",
    "    clf = linear_model.LogisticRegression()\n",
    "    ft = np.concatenate((pos_ft, neg_ft), axis=0)\n",
    "    label = np.concatenate((np.ones(len(pos_ft)), np.zeros(len(pos_ft))))\n",
    "    clf.fit(ft, label)"
   ]
  },
  {
   "cell_type": "markdown",
   "metadata": {},
   "source": [
    "#### Make and write predictions"
   ]
  },
  {
   "cell_type": "code",
   "execution_count": 8,
   "metadata": {},
   "outputs": [],
   "source": [
    "test_df = pd.read_csv('./pairs_Played.csv')\n",
    "testpred = test_df.copy()\n",
    "# # Map unseen entries to default user (this user is already grouped with other users due to their few # of reviews in training set)\n",
    "test_df['userID'] = test_df['userID'].map(lambda x: x if x in user_oe.categories_[0] else 'u03473346')\n",
    "test_df['itemID'] = test_df['gameID']\n",
    "test_df['userIDX'] = user_oe.transform(test_df[['userID']])\n",
    "test_df['itemIDX'] = item_oe.transform(test_df[['gameID']])\n",
    "test_df.drop(columns=['gameID', 'prediction'], inplace=True)\n",
    "test_pairs = test_df[['userIDX', 'itemIDX']].to_numpy()\n",
    "scores = played_model.predict(test_pairs)\n",
    "if logistic:\n",
    "    test_pop = popularity[test_pairs[:, 1]]\n",
    "    ft = np.column_stack((scores, test_pop))\n",
    "    scores = clf.predict_log_proba(ft)[:, 1]\n",
    "testpred = pd.read_csv('./pairs_Played.csv')\n",
    "testpred['prediction'] = scores\n",
    "medians = testpred.groupby('userID')['prediction'].median()\n",
    "preds = []\n",
    "for i, row in testpred.iterrows():\n",
    "    if scores[i] >= medians[row['userID']]:\n",
    "        preds.append(1)\n",
    "    else:\n",
    "        preds.append(0)\n",
    "testpred['prediction'] = preds\n",
    "testpred.to_csv('./predictions_Played.csv', index=False)"
   ]
  },
  {
   "cell_type": "markdown",
   "metadata": {},
   "source": [
    "### Time Prediction"
   ]
  },
  {
   "cell_type": "markdown",
   "metadata": {},
   "source": [
    "#### FastFM,(this sucks but not as much, with or without features)"
   ]
  },
  {
   "cell_type": "code",
   "execution_count": 13,
   "metadata": {},
   "outputs": [],
   "source": [
    "def convert_sparse_df(df: pd.DataFrame, feat=True):\n",
    "    if feat == True:\n",
    "        datum = sparse.lil_matrix((len(df), len(userset) + len(itemset) + 23))\n",
    "    else:\n",
    "        datum = sparse.lil_matrix((len(df), len(userset) + len(itemset)))\n",
    "    for i, (idx, row) in enumerate(df.iterrows()):\n",
    "        user = row['userIDX']\n",
    "        item = row['itemIDX']\n",
    "        datum[i, user] = 1\n",
    "        datum[i, len(userset) + item] = 1\n",
    "        if feat:\n",
    "            datum[i, len(userset) + len(itemset):] = item_ft[item, 1:]\n",
    "    return datum\n",
    "\n",
    "all_sparse = convert_sparse_df(df, False)\n",
    "all_sparse_ft = convert_sparse_df(df, True)\n",
    "\n"
   ]
  },
  {
   "cell_type": "markdown",
   "metadata": {},
   "source": [
    "#### Time Model Model Selection"
   ]
  },
  {
   "cell_type": "code",
   "execution_count": 53,
   "metadata": {},
   "outputs": [
    {
     "name": "stdout",
     "output_type": "stream",
     "text": [
      "Fitting 10 folds for each of 19 candidates, totalling 190 fits\n"
     ]
    },
    {
     "name": "stdout",
     "output_type": "stream",
     "text": [
      "[CV 1/10] END l2_reg_V=150, l2_reg_w=7, n_iter=1, random_state=0, rank=4;, score=0.406 total time=   1.6s\n",
      "[CV 4/10] END l2_reg_V=150, l2_reg_w=7, n_iter=1, random_state=0, rank=4;, score=0.397 total time=   1.7s\n",
      "[CV 3/10] END l2_reg_V=150, l2_reg_w=7, n_iter=1, random_state=0, rank=4;, score=0.406 total time=   1.9s\n",
      "[CV 5/10] END l2_reg_V=150, l2_reg_w=7, n_iter=1, random_state=0, rank=4;, score=0.388 total time=   1.9s\n",
      "[CV 6/10] END l2_reg_V=150, l2_reg_w=7, n_iter=1, random_state=0, rank=4;, score=0.395 total time=   2.2s\n",
      "[CV 2/10] END l2_reg_V=150, l2_reg_w=7, n_iter=1, random_state=0, rank=4;, score=0.401 total time=   2.5s\n",
      "[CV 8/10] END l2_reg_V=150, l2_reg_w=7, n_iter=1, random_state=0, rank=4;, score=0.397 total time=   2.1s\n",
      "[CV 7/10] END l2_reg_V=150, l2_reg_w=7, n_iter=1, random_state=0, rank=4;, score=0.413 total time=   2.3s\n",
      "[CV 9/10] END l2_reg_V=150, l2_reg_w=7, n_iter=1, random_state=0, rank=4;, score=0.399 total time=   1.3s\n",
      "[CV 10/10] END l2_reg_V=150, l2_reg_w=7, n_iter=1, random_state=0, rank=4;, score=0.408 total time=   1.3s\n",
      "[CV 1/10] END l2_reg_V=150, l2_reg_w=7, n_iter=2, random_state=0, rank=4;, score=0.428 total time=   2.0s\n",
      "[CV 2/10] END l2_reg_V=150, l2_reg_w=7, n_iter=2, random_state=0, rank=4;, score=0.425 total time=   2.1s\n",
      "[CV 7/10] END l2_reg_V=150, l2_reg_w=7, n_iter=2, random_state=0, rank=4;, score=0.434 total time=   1.8s\n",
      "[CV 3/10] END l2_reg_V=150, l2_reg_w=7, n_iter=2, random_state=0, rank=4;, score=0.430 total time=   2.3s\n",
      "[CV 4/10] END l2_reg_V=150, l2_reg_w=7, n_iter=2, random_state=0, rank=4;, score=0.421 total time=   2.3s\n",
      "[CV 6/10] END l2_reg_V=150, l2_reg_w=7, n_iter=2, random_state=0, rank=4;, score=0.418 total time=   2.3s\n",
      "[CV 8/10] END l2_reg_V=150, l2_reg_w=7, n_iter=2, random_state=0, rank=4;, score=0.420 total time=   1.8s\n",
      "[CV 5/10] END l2_reg_V=150, l2_reg_w=7, n_iter=2, random_state=0, rank=4;, score=0.412 total time=   2.4s\n",
      "[CV 9/10] END l2_reg_V=150, l2_reg_w=7, n_iter=2, random_state=0, rank=4;, score=0.425 total time=   1.7s\n",
      "[CV 10/10] END l2_reg_V=150, l2_reg_w=7, n_iter=2, random_state=0, rank=4;, score=0.430 total time=   1.7s\n",
      "[CV 1/10] END l2_reg_V=150, l2_reg_w=7, n_iter=3, random_state=0, rank=4;, score=0.429 total time=   2.7s\n",
      "[CV 6/10] END l2_reg_V=150, l2_reg_w=7, n_iter=3, random_state=0, rank=4;, score=0.420 total time=   2.7s\n",
      "[CV 2/10] END l2_reg_V=150, l2_reg_w=7, n_iter=3, random_state=0, rank=4;, score=0.426 total time=   2.9s\n",
      "[CV 4/10] END l2_reg_V=150, l2_reg_w=7, n_iter=3, random_state=0, rank=4;, score=0.423 total time=   2.7s\n",
      "[CV 3/10] END l2_reg_V=150, l2_reg_w=7, n_iter=3, random_state=0, rank=4;, score=0.431 total time=   3.0s\n",
      "[CV 5/10] END l2_reg_V=150, l2_reg_w=7, n_iter=3, random_state=0, rank=4;, score=0.413 total time=   3.1s\n",
      "[CV 7/10] END l2_reg_V=150, l2_reg_w=7, n_iter=3, random_state=0, rank=4;, score=0.435 total time=   2.6s\n",
      "[CV 8/10] END l2_reg_V=150, l2_reg_w=7, n_iter=3, random_state=0, rank=4;, score=0.421 total time=   2.7s\n",
      "[CV 1/10] END l2_reg_V=150, l2_reg_w=7, n_iter=4, random_state=0, rank=4;, score=0.429 total time=   3.1s\n",
      "[CV 9/10] END l2_reg_V=150, l2_reg_w=7, n_iter=3, random_state=0, rank=4;, score=0.426 total time=   3.3s\n",
      "[CV 2/10] END l2_reg_V=150, l2_reg_w=7, n_iter=4, random_state=0, rank=4;, score=0.426 total time=   3.3s\n",
      "[CV 10/10] END l2_reg_V=150, l2_reg_w=7, n_iter=3, random_state=0, rank=4;, score=0.430 total time=   3.4s\n",
      "[CV 5/10] END l2_reg_V=150, l2_reg_w=7, n_iter=4, random_state=0, rank=4;, score=0.413 total time=   3.1s\n",
      "[CV 6/10] END l2_reg_V=150, l2_reg_w=7, n_iter=4, random_state=0, rank=4;, score=0.420 total time=   3.3s\n",
      "[CV 3/10] END l2_reg_V=150, l2_reg_w=7, n_iter=4, random_state=0, rank=4;, score=0.431 total time=   4.4s\n",
      "[CV 4/10] END l2_reg_V=150, l2_reg_w=7, n_iter=4, random_state=0, rank=4;, score=0.423 total time=   4.8s\n",
      "[CV 7/10] END l2_reg_V=150, l2_reg_w=7, n_iter=4, random_state=0, rank=4;, score=0.435 total time=   3.2s\n",
      "[CV 9/10] END l2_reg_V=150, l2_reg_w=7, n_iter=4, random_state=0, rank=4;, score=0.427 total time=   3.2s\n",
      "[CV 8/10] END l2_reg_V=150, l2_reg_w=7, n_iter=4, random_state=0, rank=4;, score=0.421 total time=   4.2s\n",
      "[CV 1/10] END l2_reg_V=150, l2_reg_w=7, n_iter=5, random_state=0, rank=4;, score=0.429 total time=   3.9s\n",
      "[CV 2/10] END l2_reg_V=150, l2_reg_w=7, n_iter=5, random_state=0, rank=4;, score=0.426 total time=   3.7s\n",
      "[CV 10/10] END l2_reg_V=150, l2_reg_w=7, n_iter=4, random_state=0, rank=4;, score=0.431 total time=   4.5s\n",
      "[CV 3/10] END l2_reg_V=150, l2_reg_w=7, n_iter=5, random_state=0, rank=4;, score=0.432 total time=   5.1s\n",
      "[CV 5/10] END l2_reg_V=150, l2_reg_w=7, n_iter=5, random_state=0, rank=4;, score=0.413 total time=   4.0s\n",
      "[CV 4/10] END l2_reg_V=150, l2_reg_w=7, n_iter=5, random_state=0, rank=4;, score=0.423 total time=   5.1s\n",
      "[CV 6/10] END l2_reg_V=150, l2_reg_w=7, n_iter=5, random_state=0, rank=4;, score=0.421 total time=   3.9s\n",
      "[CV 8/10] END l2_reg_V=150, l2_reg_w=7, n_iter=5, random_state=0, rank=4;, score=0.422 total time=   3.9s\n",
      "[CV 9/10] END l2_reg_V=150, l2_reg_w=7, n_iter=5, random_state=0, rank=4;, score=0.427 total time=   4.0s\n",
      "[CV 7/10] END l2_reg_V=150, l2_reg_w=7, n_iter=5, random_state=0, rank=4;, score=0.436 total time=   5.5s\n",
      "[CV 10/10] END l2_reg_V=150, l2_reg_w=7, n_iter=5, random_state=0, rank=4;, score=0.431 total time=   6.3s\n",
      "[CV 2/10] END l2_reg_V=150, l2_reg_w=7, n_iter=6, random_state=0, rank=4;, score=0.427 total time=   5.5s\n",
      "[CV 4/10] END l2_reg_V=150, l2_reg_w=7, n_iter=6, random_state=0, rank=4;, score=0.424 total time=   5.8s\n",
      "[CV 5/10] END l2_reg_V=150, l2_reg_w=7, n_iter=6, random_state=0, rank=4;, score=0.414 total time=   6.0s\n",
      "[CV 1/10] END l2_reg_V=150, l2_reg_w=7, n_iter=6, random_state=0, rank=4;, score=0.429 total time=   7.8s\n",
      "[CV 3/10] END l2_reg_V=150, l2_reg_w=7, n_iter=6, random_state=0, rank=4;, score=0.432 total time=   7.9s\n",
      "[CV 6/10] END l2_reg_V=150, l2_reg_w=7, n_iter=6, random_state=0, rank=4;, score=0.421 total time=   6.6s\n",
      "[CV 7/10] END l2_reg_V=150, l2_reg_w=7, n_iter=6, random_state=0, rank=4;, score=0.436 total time=   7.4s\n",
      "[CV 8/10] END l2_reg_V=150, l2_reg_w=7, n_iter=6, random_state=0, rank=4;, score=0.422 total time=   7.1s\n",
      "[CV 9/10] END l2_reg_V=150, l2_reg_w=7, n_iter=6, random_state=0, rank=4;, score=0.427 total time=   5.6s\n",
      "[CV 10/10] END l2_reg_V=150, l2_reg_w=7, n_iter=6, random_state=0, rank=4;, score=0.431 total time=   5.7s\n",
      "[CV 1/10] END l2_reg_V=150, l2_reg_w=7, n_iter=7, random_state=0, rank=4;, score=0.430 total time=   7.4s\n",
      "[CV 2/10] END l2_reg_V=150, l2_reg_w=7, n_iter=7, random_state=0, rank=4;, score=0.427 total time=   8.6s\n",
      "[CV 3/10] END l2_reg_V=150, l2_reg_w=7, n_iter=7, random_state=0, rank=4;, score=0.432 total time=   8.5s\n",
      "[CV 4/10] END l2_reg_V=150, l2_reg_w=7, n_iter=7, random_state=0, rank=4;, score=0.424 total time=   8.6s\n",
      "[CV 5/10] END l2_reg_V=150, l2_reg_w=7, n_iter=7, random_state=0, rank=4;, score=0.414 total time=   8.6s\n",
      "[CV 6/10] END l2_reg_V=150, l2_reg_w=7, n_iter=7, random_state=0, rank=4;, score=0.421 total time=   8.6s\n",
      "[CV 7/10] END l2_reg_V=150, l2_reg_w=7, n_iter=7, random_state=0, rank=4;, score=0.436 total time=   9.0s\n",
      "[CV 8/10] END l2_reg_V=150, l2_reg_w=7, n_iter=7, random_state=0, rank=4;, score=0.422 total time=   9.2s\n",
      "[CV 9/10] END l2_reg_V=150, l2_reg_w=7, n_iter=7, random_state=0, rank=4;, score=0.427 total time=   9.0s\n",
      "[CV 10/10] END l2_reg_V=150, l2_reg_w=7, n_iter=7, random_state=0, rank=4;, score=0.431 total time=   7.8s\n",
      "[CV 1/10] END l2_reg_V=150, l2_reg_w=7, n_iter=8, random_state=0, rank=4;, score=0.430 total time=   8.4s\n",
      "[CV 2/10] END l2_reg_V=150, l2_reg_w=7, n_iter=8, random_state=0, rank=4;, score=0.427 total time=   8.6s\n",
      "[CV 3/10] END l2_reg_V=150, l2_reg_w=7, n_iter=8, random_state=0, rank=4;, score=0.432 total time=   9.2s\n",
      "[CV 4/10] END l2_reg_V=150, l2_reg_w=7, n_iter=8, random_state=0, rank=4;, score=0.424 total time=   8.7s\n",
      "[CV 5/10] END l2_reg_V=150, l2_reg_w=7, n_iter=8, random_state=0, rank=4;, score=0.414 total time=   8.5s\n",
      "[CV 6/10] END l2_reg_V=150, l2_reg_w=7, n_iter=8, random_state=0, rank=4;, score=0.421 total time=   8.5s\n",
      "[CV 7/10] END l2_reg_V=150, l2_reg_w=7, n_iter=8, random_state=0, rank=4;, score=0.437 total time=   8.2s\n",
      "[CV 8/10] END l2_reg_V=150, l2_reg_w=7, n_iter=8, random_state=0, rank=4;, score=0.423 total time=   8.5s\n",
      "[CV 9/10] END l2_reg_V=150, l2_reg_w=7, n_iter=8, random_state=0, rank=4;, score=0.427 total time=   9.2s\n",
      "[CV 10/10] END l2_reg_V=150, l2_reg_w=7, n_iter=8, random_state=0, rank=4;, score=0.431 total time=   9.1s\n",
      "[CV 1/10] END l2_reg_V=150, l2_reg_w=7, n_iter=9, random_state=0, rank=4;, score=0.430 total time=   9.5s\n",
      "[CV 3/10] END l2_reg_V=150, l2_reg_w=7, n_iter=9, random_state=0, rank=4;, score=0.432 total time=   9.7s\n",
      "[CV 2/10] END l2_reg_V=150, l2_reg_w=7, n_iter=9, random_state=0, rank=4;, score=0.427 total time=  10.2s\n",
      "[CV 4/10] END l2_reg_V=150, l2_reg_w=7, n_iter=9, random_state=0, rank=4;, score=0.424 total time=   9.6s\n",
      "[CV 6/10] END l2_reg_V=150, l2_reg_w=7, n_iter=9, random_state=0, rank=4;, score=0.421 total time=   9.9s\n",
      "[CV 5/10] END l2_reg_V=150, l2_reg_w=7, n_iter=9, random_state=0, rank=4;, score=0.414 total time=  10.4s\n",
      "[CV 7/10] END l2_reg_V=150, l2_reg_w=7, n_iter=9, random_state=0, rank=4;, score=0.437 total time=  10.7s\n",
      "[CV 8/10] END l2_reg_V=150, l2_reg_w=7, n_iter=9, random_state=0, rank=4;, score=0.423 total time=  10.5s\n",
      "[CV 9/10] END l2_reg_V=150, l2_reg_w=7, n_iter=9, random_state=0, rank=4;, score=0.427 total time=  10.5s\n",
      "[CV 10/10] END l2_reg_V=150, l2_reg_w=7, n_iter=9, random_state=0, rank=4;, score=0.431 total time=  10.5s\n",
      "[CV 2/10] END l2_reg_V=150, l2_reg_w=7, n_iter=10, random_state=0, rank=4;, score=0.427 total time=  11.2s\n",
      "[CV 1/10] END l2_reg_V=150, l2_reg_w=7, n_iter=10, random_state=0, rank=4;, score=0.430 total time=  12.0s\n",
      "[CV 3/10] END l2_reg_V=150, l2_reg_w=7, n_iter=10, random_state=0, rank=4;, score=0.432 total time=  10.2s\n",
      "[CV 4/10] END l2_reg_V=150, l2_reg_w=7, n_iter=10, random_state=0, rank=4;, score=0.424 total time=  10.2s\n",
      "[CV 6/10] END l2_reg_V=150, l2_reg_w=7, n_iter=10, random_state=0, rank=4;, score=0.421 total time=  11.0s\n",
      "[CV 5/10] END l2_reg_V=150, l2_reg_w=7, n_iter=10, random_state=0, rank=4;, score=0.414 total time=  11.4s\n",
      "[CV 7/10] END l2_reg_V=150, l2_reg_w=7, n_iter=10, random_state=0, rank=4;, score=0.437 total time=  12.7s\n",
      "[CV 8/10] END l2_reg_V=150, l2_reg_w=7, n_iter=10, random_state=0, rank=4;, score=0.423 total time=  11.4s\n",
      "[CV 9/10] END l2_reg_V=150, l2_reg_w=7, n_iter=10, random_state=0, rank=4;, score=0.427 total time=  11.7s\n",
      "[CV 10/10] END l2_reg_V=150, l2_reg_w=7, n_iter=10, random_state=0, rank=4;, score=0.431 total time=  14.4s\n",
      "[CV 1/10] END l2_reg_V=150, l2_reg_w=7, n_iter=11, random_state=0, rank=4;, score=0.430 total time=  12.9s\n",
      "[CV 2/10] END l2_reg_V=150, l2_reg_w=7, n_iter=11, random_state=0, rank=4;, score=0.427 total time=  12.7s\n",
      "[CV 6/10] END l2_reg_V=150, l2_reg_w=7, n_iter=11, random_state=0, rank=4;, score=0.421 total time=  11.7s\n",
      "[CV 3/10] END l2_reg_V=150, l2_reg_w=7, n_iter=11, random_state=0, rank=4;, score=0.432 total time=  17.1s\n",
      "[CV 7/10] END l2_reg_V=150, l2_reg_w=7, n_iter=11, random_state=0, rank=4;, score=0.437 total time=  11.6s\n",
      "[CV 4/10] END l2_reg_V=150, l2_reg_w=7, n_iter=11, random_state=0, rank=4;, score=0.424 total time=  18.0s\n",
      "[CV 9/10] END l2_reg_V=150, l2_reg_w=7, n_iter=11, random_state=0, rank=4;, score=0.427 total time=  11.9s\n",
      "[CV 10/10] END l2_reg_V=150, l2_reg_w=7, n_iter=11, random_state=0, rank=4;, score=0.431 total time=  11.9s\n",
      "[CV 5/10] END l2_reg_V=150, l2_reg_w=7, n_iter=11, random_state=0, rank=4;, score=0.414 total time=  18.3s\n",
      "[CV 8/10] END l2_reg_V=150, l2_reg_w=7, n_iter=11, random_state=0, rank=4;, score=0.423 total time=  17.3s\n",
      "[CV 1/10] END l2_reg_V=150, l2_reg_w=7, n_iter=12, random_state=0, rank=4;, score=0.430 total time=  13.2s\n",
      "[CV 3/10] END l2_reg_V=150, l2_reg_w=7, n_iter=12, random_state=0, rank=4;, score=0.432 total time=  14.1s\n",
      "[CV 2/10] END l2_reg_V=150, l2_reg_w=7, n_iter=12, random_state=0, rank=4;, score=0.427 total time=  17.2s\n",
      "[CV 5/10] END l2_reg_V=150, l2_reg_w=7, n_iter=12, random_state=0, rank=4;, score=0.414 total time=  13.3s\n",
      "[CV 6/10] END l2_reg_V=150, l2_reg_w=7, n_iter=12, random_state=0, rank=4;, score=0.421 total time=  13.4s\n",
      "[CV 4/10] END l2_reg_V=150, l2_reg_w=7, n_iter=12, random_state=0, rank=4;, score=0.424 total time=  16.6s\n",
      "[CV 7/10] END l2_reg_V=150, l2_reg_w=7, n_iter=12, random_state=0, rank=4;, score=0.437 total time=  14.1s\n",
      "[CV 8/10] END l2_reg_V=150, l2_reg_w=7, n_iter=12, random_state=0, rank=4;, score=0.423 total time=  14.3s\n",
      "[CV 9/10] END l2_reg_V=150, l2_reg_w=7, n_iter=12, random_state=0, rank=4;, score=0.427 total time=  12.5s\n",
      "[CV 10/10] END l2_reg_V=150, l2_reg_w=7, n_iter=12, random_state=0, rank=4;, score=0.431 total time=  14.9s\n",
      "[CV 2/10] END l2_reg_V=150, l2_reg_w=7, n_iter=13, random_state=0, rank=4;, score=0.427 total time=  13.2s\n",
      "[CV 3/10] END l2_reg_V=150, l2_reg_w=7, n_iter=13, random_state=0, rank=4;, score=0.432 total time=  13.2s\n",
      "[CV 1/10] END l2_reg_V=150, l2_reg_w=7, n_iter=13, random_state=0, rank=4;, score=0.430 total time=  15.7s\n",
      "[CV 5/10] END l2_reg_V=150, l2_reg_w=7, n_iter=13, random_state=0, rank=4;, score=0.414 total time=  13.7s\n",
      "[CV 4/10] END l2_reg_V=150, l2_reg_w=7, n_iter=13, random_state=0, rank=4;, score=0.424 total time=  16.3s\n",
      "[CV 7/10] END l2_reg_V=150, l2_reg_w=7, n_iter=13, random_state=0, rank=4;, score=0.437 total time=  13.9s\n",
      "[CV 6/10] END l2_reg_V=150, l2_reg_w=7, n_iter=13, random_state=0, rank=4;, score=0.421 total time=  18.8s\n",
      "[CV 10/10] END l2_reg_V=150, l2_reg_w=7, n_iter=13, random_state=0, rank=4;, score=0.431 total time=  13.9s\n",
      "[CV 9/10] END l2_reg_V=150, l2_reg_w=7, n_iter=13, random_state=0, rank=4;, score=0.427 total time=  14.5s\n",
      "[CV 8/10] END l2_reg_V=150, l2_reg_w=7, n_iter=13, random_state=0, rank=4;, score=0.423 total time=  18.1s\n",
      "[CV 2/10] END l2_reg_V=150, l2_reg_w=7, n_iter=14, random_state=0, rank=4;, score=0.427 total time=  14.5s\n",
      "[CV 1/10] END l2_reg_V=150, l2_reg_w=7, n_iter=14, random_state=0, rank=4;, score=0.430 total time=  17.6s\n",
      "[CV 3/10] END l2_reg_V=150, l2_reg_w=7, n_iter=14, random_state=0, rank=4;, score=0.432 total time=  17.5s\n",
      "[CV 4/10] END l2_reg_V=150, l2_reg_w=7, n_iter=14, random_state=0, rank=4;, score=0.424 total time=  14.1s\n",
      "[CV 5/10] END l2_reg_V=150, l2_reg_w=7, n_iter=14, random_state=0, rank=4;, score=0.414 total time=  14.6s\n",
      "[CV 6/10] END l2_reg_V=150, l2_reg_w=7, n_iter=14, random_state=0, rank=4;, score=0.421 total time=  14.1s\n",
      "[CV 7/10] END l2_reg_V=150, l2_reg_w=7, n_iter=14, random_state=0, rank=4;, score=0.437 total time=  14.1s\n",
      "[CV 9/10] END l2_reg_V=150, l2_reg_w=7, n_iter=14, random_state=0, rank=4;, score=0.427 total time=  14.3s\n",
      "[CV 8/10] END l2_reg_V=150, l2_reg_w=7, n_iter=14, random_state=0, rank=4;, score=0.423 total time=  15.0s\n",
      "[CV 10/10] END l2_reg_V=150, l2_reg_w=7, n_iter=14, random_state=0, rank=4;, score=0.431 total time=  14.5s\n",
      "[CV 1/10] END l2_reg_V=150, l2_reg_w=7, n_iter=15, random_state=0, rank=4;, score=0.430 total time=  16.9s\n",
      "[CV 2/10] END l2_reg_V=150, l2_reg_w=7, n_iter=15, random_state=0, rank=4;, score=0.426 total time=  15.7s\n",
      "[CV 3/10] END l2_reg_V=150, l2_reg_w=7, n_iter=15, random_state=0, rank=4;, score=0.432 total time=  16.8s\n",
      "[CV 4/10] END l2_reg_V=150, l2_reg_w=7, n_iter=15, random_state=0, rank=4;, score=0.424 total time=  15.4s\n",
      "[CV 5/10] END l2_reg_V=150, l2_reg_w=7, n_iter=15, random_state=0, rank=4;, score=0.414 total time=  15.6s\n",
      "[CV 6/10] END l2_reg_V=150, l2_reg_w=7, n_iter=15, random_state=0, rank=4;, score=0.421 total time=  20.2s\n",
      "[CV 7/10] END l2_reg_V=150, l2_reg_w=7, n_iter=15, random_state=0, rank=4;, score=0.436 total time=  20.2s\n",
      "[CV 8/10] END l2_reg_V=150, l2_reg_w=7, n_iter=15, random_state=0, rank=4;, score=0.423 total time=  18.0s\n",
      "[CV 10/10] END l2_reg_V=150, l2_reg_w=7, n_iter=15, random_state=0, rank=4;, score=0.431 total time=  20.6s\n",
      "[CV 9/10] END l2_reg_V=150, l2_reg_w=7, n_iter=15, random_state=0, rank=4;, score=0.427 total time=  22.0s\n",
      "[CV 3/10] END l2_reg_V=150, l2_reg_w=7, n_iter=16, random_state=0, rank=4;, score=0.432 total time=  19.6s\n",
      "[CV 2/10] END l2_reg_V=150, l2_reg_w=7, n_iter=16, random_state=0, rank=4;, score=0.426 total time=  21.4s\n",
      "[CV 1/10] END l2_reg_V=150, l2_reg_w=7, n_iter=16, random_state=0, rank=4;, score=0.430 total time=  22.0s\n",
      "[CV 6/10] END l2_reg_V=150, l2_reg_w=7, n_iter=16, random_state=0, rank=4;, score=0.421 total time=  17.8s\n",
      "[CV 5/10] END l2_reg_V=150, l2_reg_w=7, n_iter=16, random_state=0, rank=4;, score=0.414 total time=  18.7s\n",
      "[CV 4/10] END l2_reg_V=150, l2_reg_w=7, n_iter=16, random_state=0, rank=4;, score=0.423 total time=  20.0s\n",
      "[CV 7/10] END l2_reg_V=150, l2_reg_w=7, n_iter=16, random_state=0, rank=4;, score=0.436 total time=  17.3s\n",
      "[CV 8/10] END l2_reg_V=150, l2_reg_w=7, n_iter=16, random_state=0, rank=4;, score=0.422 total time=  17.7s\n",
      "[CV 9/10] END l2_reg_V=150, l2_reg_w=7, n_iter=16, random_state=0, rank=4;, score=0.427 total time=  16.8s\n",
      "[CV 10/10] END l2_reg_V=150, l2_reg_w=7, n_iter=16, random_state=0, rank=4;, score=0.431 total time=  19.7s\n",
      "[CV 1/10] END l2_reg_V=150, l2_reg_w=7, n_iter=17, random_state=0, rank=4;, score=0.430 total time=  22.2s\n",
      "[CV 2/10] END l2_reg_V=150, l2_reg_w=7, n_iter=17, random_state=0, rank=4;, score=0.426 total time=  19.4s\n",
      "[CV 3/10] END l2_reg_V=150, l2_reg_w=7, n_iter=17, random_state=0, rank=4;, score=0.432 total time=  22.4s\n",
      "[CV 5/10] END l2_reg_V=150, l2_reg_w=7, n_iter=17, random_state=0, rank=4;, score=0.414 total time=  18.7s\n",
      "[CV 4/10] END l2_reg_V=150, l2_reg_w=7, n_iter=17, random_state=0, rank=4;, score=0.423 total time=  24.0s\n",
      "[CV 6/10] END l2_reg_V=150, l2_reg_w=7, n_iter=17, random_state=0, rank=4;, score=0.421 total time=  22.1s\n",
      "[CV 7/10] END l2_reg_V=150, l2_reg_w=7, n_iter=17, random_state=0, rank=4;, score=0.436 total time=  21.2s\n",
      "[CV 8/10] END l2_reg_V=150, l2_reg_w=7, n_iter=17, random_state=0, rank=4;, score=0.422 total time=  18.3s\n",
      "[CV 10/10] END l2_reg_V=150, l2_reg_w=7, n_iter=17, random_state=0, rank=4;, score=0.430 total time=  18.9s\n",
      "[CV 9/10] END l2_reg_V=150, l2_reg_w=7, n_iter=17, random_state=0, rank=4;, score=0.427 total time=  24.0s\n",
      "[CV 1/10] END l2_reg_V=150, l2_reg_w=7, n_iter=18, random_state=0, rank=4;, score=0.429 total time=  19.9s\n",
      "[CV 2/10] END l2_reg_V=150, l2_reg_w=7, n_iter=18, random_state=0, rank=4;, score=0.426 total time=  19.8s\n",
      "[CV 3/10] END l2_reg_V=150, l2_reg_w=7, n_iter=18, random_state=0, rank=4;, score=0.431 total time=  24.3s\n",
      "[CV 4/10] END l2_reg_V=150, l2_reg_w=7, n_iter=18, random_state=0, rank=4;, score=0.423 total time=  24.5s\n",
      "[CV 6/10] END l2_reg_V=150, l2_reg_w=7, n_iter=18, random_state=0, rank=4;, score=0.421 total time=  21.5s\n",
      "[CV 5/10] END l2_reg_V=150, l2_reg_w=7, n_iter=18, random_state=0, rank=4;, score=0.413 total time=  23.4s\n",
      "[CV 7/10] END l2_reg_V=150, l2_reg_w=7, n_iter=18, random_state=0, rank=4;, score=0.436 total time=  21.0s\n",
      "[CV 8/10] END l2_reg_V=150, l2_reg_w=7, n_iter=18, random_state=0, rank=4;, score=0.422 total time=  22.3s\n",
      "[CV 10/10] END l2_reg_V=150, l2_reg_w=7, n_iter=18, random_state=0, rank=4;, score=0.430 total time=  20.1s\n",
      "[CV 9/10] END l2_reg_V=150, l2_reg_w=7, n_iter=18, random_state=0, rank=4;, score=0.426 total time=  21.7s\n",
      "[CV 1/10] END l2_reg_V=150, l2_reg_w=7, n_iter=19, random_state=0, rank=4;, score=0.429 total time=  24.5s\n",
      "[CV 4/10] END l2_reg_V=150, l2_reg_w=7, n_iter=19, random_state=0, rank=4;, score=0.423 total time=  22.1s\n",
      "[CV 2/10] END l2_reg_V=150, l2_reg_w=7, n_iter=19, random_state=0, rank=4;, score=0.426 total time=  24.2s\n",
      "[CV 3/10] END l2_reg_V=150, l2_reg_w=7, n_iter=19, random_state=0, rank=4;, score=0.431 total time=  24.2s\n",
      "[CV 5/10] END l2_reg_V=150, l2_reg_w=7, n_iter=19, random_state=0, rank=4;, score=0.413 total time=  19.5s\n",
      "[CV 7/10] END l2_reg_V=150, l2_reg_w=7, n_iter=19, random_state=0, rank=4;, score=0.436 total time=  18.4s\n",
      "[CV 8/10] END l2_reg_V=150, l2_reg_w=7, n_iter=19, random_state=0, rank=4;, score=0.422 total time=  18.6s\n",
      "[CV 6/10] END l2_reg_V=150, l2_reg_w=7, n_iter=19, random_state=0, rank=4;, score=0.420 total time=  20.2s\n",
      "[CV 9/10] END l2_reg_V=150, l2_reg_w=7, n_iter=19, random_state=0, rank=4;, score=0.426 total time=  13.9s\n",
      "[CV 10/10] END l2_reg_V=150, l2_reg_w=7, n_iter=19, random_state=0, rank=4;, score=0.430 total time=  12.6s\n"
     ]
    },
    {
     "data": {
      "text/html": [
       "<style>#sk-container-id-11 {color: black;}#sk-container-id-11 pre{padding: 0;}#sk-container-id-11 div.sk-toggleable {background-color: white;}#sk-container-id-11 label.sk-toggleable__label {cursor: pointer;display: block;width: 100%;margin-bottom: 0;padding: 0.3em;box-sizing: border-box;text-align: center;}#sk-container-id-11 label.sk-toggleable__label-arrow:before {content: \"▸\";float: left;margin-right: 0.25em;color: #696969;}#sk-container-id-11 label.sk-toggleable__label-arrow:hover:before {color: black;}#sk-container-id-11 div.sk-estimator:hover label.sk-toggleable__label-arrow:before {color: black;}#sk-container-id-11 div.sk-toggleable__content {max-height: 0;max-width: 0;overflow: hidden;text-align: left;background-color: #f0f8ff;}#sk-container-id-11 div.sk-toggleable__content pre {margin: 0.2em;color: black;border-radius: 0.25em;background-color: #f0f8ff;}#sk-container-id-11 input.sk-toggleable__control:checked~div.sk-toggleable__content {max-height: 200px;max-width: 100%;overflow: auto;}#sk-container-id-11 input.sk-toggleable__control:checked~label.sk-toggleable__label-arrow:before {content: \"▾\";}#sk-container-id-11 div.sk-estimator input.sk-toggleable__control:checked~label.sk-toggleable__label {background-color: #d4ebff;}#sk-container-id-11 div.sk-label input.sk-toggleable__control:checked~label.sk-toggleable__label {background-color: #d4ebff;}#sk-container-id-11 input.sk-hidden--visually {border: 0;clip: rect(1px 1px 1px 1px);clip: rect(1px, 1px, 1px, 1px);height: 1px;margin: -1px;overflow: hidden;padding: 0;position: absolute;width: 1px;}#sk-container-id-11 div.sk-estimator {font-family: monospace;background-color: #f0f8ff;border: 1px dotted black;border-radius: 0.25em;box-sizing: border-box;margin-bottom: 0.5em;}#sk-container-id-11 div.sk-estimator:hover {background-color: #d4ebff;}#sk-container-id-11 div.sk-parallel-item::after {content: \"\";width: 100%;border-bottom: 1px solid gray;flex-grow: 1;}#sk-container-id-11 div.sk-label:hover label.sk-toggleable__label {background-color: #d4ebff;}#sk-container-id-11 div.sk-serial::before {content: \"\";position: absolute;border-left: 1px solid gray;box-sizing: border-box;top: 0;bottom: 0;left: 50%;z-index: 0;}#sk-container-id-11 div.sk-serial {display: flex;flex-direction: column;align-items: center;background-color: white;padding-right: 0.2em;padding-left: 0.2em;position: relative;}#sk-container-id-11 div.sk-item {position: relative;z-index: 1;}#sk-container-id-11 div.sk-parallel {display: flex;align-items: stretch;justify-content: center;background-color: white;position: relative;}#sk-container-id-11 div.sk-item::before, #sk-container-id-11 div.sk-parallel-item::before {content: \"\";position: absolute;border-left: 1px solid gray;box-sizing: border-box;top: 0;bottom: 0;left: 50%;z-index: -1;}#sk-container-id-11 div.sk-parallel-item {display: flex;flex-direction: column;z-index: 1;position: relative;background-color: white;}#sk-container-id-11 div.sk-parallel-item:first-child::after {align-self: flex-end;width: 50%;}#sk-container-id-11 div.sk-parallel-item:last-child::after {align-self: flex-start;width: 50%;}#sk-container-id-11 div.sk-parallel-item:only-child::after {width: 0;}#sk-container-id-11 div.sk-dashed-wrapped {border: 1px dashed gray;margin: 0 0.4em 0.5em 0.4em;box-sizing: border-box;padding-bottom: 0.4em;background-color: white;}#sk-container-id-11 div.sk-label label {font-family: monospace;font-weight: bold;display: inline-block;line-height: 1.2em;}#sk-container-id-11 div.sk-label-container {text-align: center;}#sk-container-id-11 div.sk-container {/* jupyter's `normalize.less` sets `[hidden] { display: none; }` but bootstrap.min.css set `[hidden] { display: none !important; }` so we also need the `!important` here to be able to override the default hidden behavior on the sphinx rendered scikit-learn.org. See: https://github.com/scikit-learn/scikit-learn/issues/21755 */display: inline-block !important;position: relative;}#sk-container-id-11 div.sk-text-repr-fallback {display: none;}</style><div id=\"sk-container-id-11\" class=\"sk-top-container\"><div class=\"sk-text-repr-fallback\"><pre>FMRegression(l2_reg_V=150, l2_reg_w=7, n_iter=10, random_state=0, rank=4)</pre><b>In a Jupyter environment, please rerun this cell to show the HTML representation or trust the notebook. <br />On GitHub, the HTML representation is unable to render, please try loading this page with nbviewer.org.</b></div><div class=\"sk-container\" hidden><div class=\"sk-item\"><div class=\"sk-estimator sk-toggleable\"><input class=\"sk-toggleable__control sk-hidden--visually\" id=\"sk-estimator-id-11\" type=\"checkbox\" checked><label for=\"sk-estimator-id-11\" class=\"sk-toggleable__label sk-toggleable__label-arrow\">FMRegression</label><div class=\"sk-toggleable__content\"><pre>FMRegression(l2_reg_V=150, l2_reg_w=7, n_iter=10, random_state=0, rank=4)</pre></div></div></div></div></div>"
      ],
      "text/plain": [
       "FMRegression(l2_reg_V=150, l2_reg_w=7, n_iter=10, random_state=0, rank=4)"
      ]
     },
     "execution_count": 53,
     "metadata": {},
     "output_type": "execute_result"
    }
   ],
   "source": [
    "param_grid = {\n",
    "    'n_iter': range(1, 20),\n",
    "    'rank': [4],\n",
    "    'random_state':[RANDOM_SEED],\n",
    "    'l2_reg_w': [7],\n",
    "    'l2_reg_V': [150],\n",
    "}\n",
    "time_model = GridSearchCV(als.FMRegression(), param_grid=param_grid, refit=True, verbose=3, n_jobs=-1, cv=10)\n",
    "time_model.fit(all_sparse_ft, time_label)\n",
    "time_model.best_estimator_"
   ]
  },
  {
   "cell_type": "code",
   "execution_count": 76,
   "metadata": {},
   "outputs": [
    {
     "name": "stdout",
     "output_type": "stream",
     "text": [
      "3.1412834905475906\n",
      "2.9624525739933834\n",
      "2.999523832644596\n",
      "2.9449272952949315\n",
      "3.054707250435416\n",
      "3.020360374099431\n",
      "2.999813099905923\n",
      "3.0727958074027812\n",
      "3.1051240984175132\n",
      "3.00709158683222\n",
      "3.0782634557456623\n",
      "3.013032224659743\n",
      "3.025745681341134\n",
      "3.0053811586432517\n",
      "3.067642114328629\n",
      "2.9863233663998043\n",
      "3.058224592152948\n",
      "2.9039023522078855\n",
      "2.983279927062904\n",
      "3.0166431343506317\n",
      "Overall MSE: 3.0223258708233187\n"
     ]
    }
   ],
   "source": [
    "splitter = KFold(n_splits=20, shuffle=True)\n",
    "mse = []\n",
    "for train, test in splitter.split(all_sparse_ft):\n",
    "    time_model = als.FMRegression(n_iter=10,\n",
    "                                    rank=4,\n",
    "                                    random_state=RANDOM_SEED,\n",
    "                                    l2_reg_w=7.75,\n",
    "                                    l2_reg_V=150)\n",
    "    time_model.fit(all_sparse_ft[train], time_label[train])\n",
    "    preds = time_model.predict(all_sparse_ft[test])\n",
    "    loss = np.mean((preds - time_label[test])**2)\n",
    "    print(loss)\n",
    "    mse.append(loss)\n",
    "print(f'Overall MSE: {np.mean(mse)}')"
   ]
  },
  {
   "cell_type": "code",
   "execution_count": 79,
   "metadata": {},
   "outputs": [
    {
     "name": "stdout",
     "output_type": "stream",
     "text": [
      "3.0816755549172923\n",
      "3.027554532833743\n",
      "3.034814336473709\n",
      "3.00397140579353\n",
      "2.9656316204781232\n",
      "3.014114363196441\n",
      "3.052588691868156\n",
      "2.9464771123719764\n",
      "2.9364894781243143\n",
      "2.98109751073192\n",
      "3.031272620240765\n",
      "2.9876922346030947\n",
      "3.0312908784352692\n",
      "3.0835711374985517\n",
      "3.125847499545312\n",
      "3.0069397749391356\n",
      "3.1011325587828447\n",
      "2.9588919007969854\n",
      "3.073546433711895\n",
      "3.000811968941048\n",
      "Overall MSE: 3.0222705807142054\n"
     ]
    }
   ],
   "source": [
    "splitter = KFold(n_splits=20, shuffle=True)\n",
    "mse = []\n",
    "for train, test in splitter.split(all_sparse_ft):\n",
    "    time_model = als.FMRegression(n_iter=9,\n",
    "                                    rank=4,\n",
    "                                    random_state=RANDOM_SEED,\n",
    "                                    l2_reg_w=7.75,\n",
    "                                    l2_reg_V=150)\n",
    "    time_model.fit(all_sparse_ft[train], time_label[train])\n",
    "    preds = time_model.predict(all_sparse_ft[test])\n",
    "    loss = np.mean((preds - time_label[test])**2)\n",
    "    print(loss)\n",
    "    mse.append(loss)\n",
    "print(f'Overall MSE: {np.mean(mse)}')"
   ]
  },
  {
   "cell_type": "code",
   "execution_count": 82,
   "metadata": {},
   "outputs": [
    {
     "name": "stdout",
     "output_type": "stream",
     "text": [
      "2.981535484172307\n",
      "3.0323206076148073\n",
      "2.9297784278330803\n",
      "2.9263903850737187\n",
      "3.051331319016313\n",
      "3.0318529876647053\n",
      "3.0336005315723265\n",
      "3.0605940570478705\n",
      "3.0402524736876932\n",
      "3.023613596577556\n",
      "3.0286260056751653\n",
      "2.8769736678249678\n",
      "3.0293499804837625\n",
      "3.0328832125140344\n",
      "3.048345415256899\n",
      "3.0709624723303635\n",
      "3.0411205776313732\n",
      "3.1055016326163067\n",
      "3.0272846615180242\n",
      "3.086365199799047\n",
      "Overall MSE: 3.0229341347955163\n"
     ]
    }
   ],
   "source": [
    "splitter = KFold(n_splits=20, shuffle=True)\n",
    "mse = []\n",
    "for train, test in splitter.split(all_sparse_ft):\n",
    "    time_model = als.FMRegression(n_iter=8,\n",
    "                                    rank=4,\n",
    "                                    random_state=RANDOM_SEED,\n",
    "                                    l2_reg_w=7.75,\n",
    "                                    l2_reg_V=150)\n",
    "    time_model.fit(all_sparse_ft[train], time_label[train])\n",
    "    preds = time_model.predict(all_sparse_ft[test])\n",
    "    loss = np.mean((preds - time_label[test])**2)\n",
    "    print(loss)\n",
    "    mse.append(loss)\n",
    "print(f'Overall MSE: {np.mean(mse)}')"
   ]
  },
  {
   "cell_type": "code",
   "execution_count": 83,
   "metadata": {},
   "outputs": [
    {
     "data": {
      "text/html": [
       "<style>#sk-container-id-18 {color: black;}#sk-container-id-18 pre{padding: 0;}#sk-container-id-18 div.sk-toggleable {background-color: white;}#sk-container-id-18 label.sk-toggleable__label {cursor: pointer;display: block;width: 100%;margin-bottom: 0;padding: 0.3em;box-sizing: border-box;text-align: center;}#sk-container-id-18 label.sk-toggleable__label-arrow:before {content: \"▸\";float: left;margin-right: 0.25em;color: #696969;}#sk-container-id-18 label.sk-toggleable__label-arrow:hover:before {color: black;}#sk-container-id-18 div.sk-estimator:hover label.sk-toggleable__label-arrow:before {color: black;}#sk-container-id-18 div.sk-toggleable__content {max-height: 0;max-width: 0;overflow: hidden;text-align: left;background-color: #f0f8ff;}#sk-container-id-18 div.sk-toggleable__content pre {margin: 0.2em;color: black;border-radius: 0.25em;background-color: #f0f8ff;}#sk-container-id-18 input.sk-toggleable__control:checked~div.sk-toggleable__content {max-height: 200px;max-width: 100%;overflow: auto;}#sk-container-id-18 input.sk-toggleable__control:checked~label.sk-toggleable__label-arrow:before {content: \"▾\";}#sk-container-id-18 div.sk-estimator input.sk-toggleable__control:checked~label.sk-toggleable__label {background-color: #d4ebff;}#sk-container-id-18 div.sk-label input.sk-toggleable__control:checked~label.sk-toggleable__label {background-color: #d4ebff;}#sk-container-id-18 input.sk-hidden--visually {border: 0;clip: rect(1px 1px 1px 1px);clip: rect(1px, 1px, 1px, 1px);height: 1px;margin: -1px;overflow: hidden;padding: 0;position: absolute;width: 1px;}#sk-container-id-18 div.sk-estimator {font-family: monospace;background-color: #f0f8ff;border: 1px dotted black;border-radius: 0.25em;box-sizing: border-box;margin-bottom: 0.5em;}#sk-container-id-18 div.sk-estimator:hover {background-color: #d4ebff;}#sk-container-id-18 div.sk-parallel-item::after {content: \"\";width: 100%;border-bottom: 1px solid gray;flex-grow: 1;}#sk-container-id-18 div.sk-label:hover label.sk-toggleable__label {background-color: #d4ebff;}#sk-container-id-18 div.sk-serial::before {content: \"\";position: absolute;border-left: 1px solid gray;box-sizing: border-box;top: 0;bottom: 0;left: 50%;z-index: 0;}#sk-container-id-18 div.sk-serial {display: flex;flex-direction: column;align-items: center;background-color: white;padding-right: 0.2em;padding-left: 0.2em;position: relative;}#sk-container-id-18 div.sk-item {position: relative;z-index: 1;}#sk-container-id-18 div.sk-parallel {display: flex;align-items: stretch;justify-content: center;background-color: white;position: relative;}#sk-container-id-18 div.sk-item::before, #sk-container-id-18 div.sk-parallel-item::before {content: \"\";position: absolute;border-left: 1px solid gray;box-sizing: border-box;top: 0;bottom: 0;left: 50%;z-index: -1;}#sk-container-id-18 div.sk-parallel-item {display: flex;flex-direction: column;z-index: 1;position: relative;background-color: white;}#sk-container-id-18 div.sk-parallel-item:first-child::after {align-self: flex-end;width: 50%;}#sk-container-id-18 div.sk-parallel-item:last-child::after {align-self: flex-start;width: 50%;}#sk-container-id-18 div.sk-parallel-item:only-child::after {width: 0;}#sk-container-id-18 div.sk-dashed-wrapped {border: 1px dashed gray;margin: 0 0.4em 0.5em 0.4em;box-sizing: border-box;padding-bottom: 0.4em;background-color: white;}#sk-container-id-18 div.sk-label label {font-family: monospace;font-weight: bold;display: inline-block;line-height: 1.2em;}#sk-container-id-18 div.sk-label-container {text-align: center;}#sk-container-id-18 div.sk-container {/* jupyter's `normalize.less` sets `[hidden] { display: none; }` but bootstrap.min.css set `[hidden] { display: none !important; }` so we also need the `!important` here to be able to override the default hidden behavior on the sphinx rendered scikit-learn.org. See: https://github.com/scikit-learn/scikit-learn/issues/21755 */display: inline-block !important;position: relative;}#sk-container-id-18 div.sk-text-repr-fallback {display: none;}</style><div id=\"sk-container-id-18\" class=\"sk-top-container\"><div class=\"sk-text-repr-fallback\"><pre>FMRegression(l2_reg_V=150, l2_reg_w=7.75, n_iter=8, random_state=0, rank=4)</pre><b>In a Jupyter environment, please rerun this cell to show the HTML representation or trust the notebook. <br />On GitHub, the HTML representation is unable to render, please try loading this page with nbviewer.org.</b></div><div class=\"sk-container\" hidden><div class=\"sk-item\"><div class=\"sk-estimator sk-toggleable\"><input class=\"sk-toggleable__control sk-hidden--visually\" id=\"sk-estimator-id-18\" type=\"checkbox\" checked><label for=\"sk-estimator-id-18\" class=\"sk-toggleable__label sk-toggleable__label-arrow\">FMRegression</label><div class=\"sk-toggleable__content\"><pre>FMRegression(l2_reg_V=150, l2_reg_w=7.75, n_iter=8, random_state=0, rank=4)</pre></div></div></div></div></div>"
      ],
      "text/plain": [
       "FMRegression(l2_reg_V=150, l2_reg_w=7.75, n_iter=8, random_state=0, rank=4)"
      ]
     },
     "execution_count": 83,
     "metadata": {},
     "output_type": "execute_result"
    }
   ],
   "source": [
    "time_model = als.FMRegression(n_iter=8,\n",
    "                                    rank=4,\n",
    "                                    random_state=RANDOM_SEED,\n",
    "                                    l2_reg_w=7.75,\n",
    "                                    l2_reg_V=150)\n",
    "time_model.fit(all_sparse_ft, time_label)"
   ]
  },
  {
   "cell_type": "code",
   "execution_count": null,
   "metadata": {},
   "outputs": [],
   "source": [
    "model_file = open('fastfm.obj', 'wb')\n",
    "pickle.dump(time_model, model_file)\n",
    "model_file.close()"
   ]
  },
  {
   "cell_type": "code",
   "execution_count": 84,
   "metadata": {},
   "outputs": [],
   "source": [
    "test_df = pd.read_csv('./pairs_Hours.csv')\n",
    "testpred = test_df.copy()\n",
    "test_df['itemID'] = test_df['gameID']\n",
    "test_df['userIDX'] = user_oe.transform(test_df[['userID']])\n",
    "test_df['itemIDX'] = item_oe.transform(test_df[['gameID']])\n",
    "test_df.drop(columns=['gameID', 'prediction'], inplace=True)\n",
    "test_sparse = convert_sparse_df(test_df, True)\n",
    "preds = time_model.predict(test_sparse)\n",
    "testpred = pd.read_csv('./pairs_Hours.csv')\n",
    "testpred['prediction'] = preds\n",
    "testpred.to_csv('./predictions_Hours.csv', index=False)"
   ]
  }
 ],
 "metadata": {
  "kernelspec": {
   "display_name": "Python 3 (ipykernel)",
   "language": "python",
   "name": "python3"
  },
  "language_info": {
   "codemirror_mode": {
    "name": "ipython",
    "version": 3
   },
   "file_extension": ".py",
   "mimetype": "text/x-python",
   "name": "python",
   "nbconvert_exporter": "python",
   "pygments_lexer": "ipython3",
   "version": "3.8.10"
  }
 },
 "nbformat": 4,
 "nbformat_minor": 2
}
